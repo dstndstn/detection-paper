{
 "cells": [
  {
   "cell_type": "code",
   "execution_count": 3,
   "metadata": {},
   "outputs": [],
   "source": [
    "%matplotlib inline\n",
    "import pylab as plt\n",
    "import numpy as np\n",
    "from astrometry.util.fits import *\n",
    "from astrometry.util.plotutils import *\n",
    "from collections import Counter\n",
    "from astrometry.util.starutil import *"
   ]
  },
  {
   "cell_type": "code",
   "execution_count": 2,
   "metadata": {
    "collapsed": true
   },
   "outputs": [],
   "source": [
    "fn = 'snx3-cut.fits'\n",
    "if not os.path.exists(fn):\n",
    "    T=fits_table('snx3.fits')\n",
    "    for c in ['dtacqnam', 'dtpropid', 'filesize', 'md5sum', 'reference', 'release_date', 'seeing', 'start_date']:\n",
    "        T.delete_column(c)\n",
    "    T.writeto(fn)\n",
    "T = fits_table(fn)"
   ]
  },
  {
   "cell_type": "code",
   "execution_count": 3,
   "metadata": {},
   "outputs": [
    {
     "name": "stdout",
     "output_type": "stream",
     "text": [
      "tabledata object with 6328 rows and 7 columns:\n",
      "   archive_file (<class 'numpy.ndarray'>) shape (6328,) dtype <U34\n",
      "   date_obs (<class 'numpy.ndarray'>) shape (6328,) dtype <U23\n",
      "   dec (<class 'numpy.ndarray'>) shape (6328,) dtype >f8\n",
      "   exposure (<class 'numpy.ndarray'>) shape (6328,) dtype >f8\n",
      "   filter (<class 'numpy.ndarray'>) shape (6328,) dtype <U32\n",
      "   prodtype (<class 'numpy.ndarray'>) shape (6328,) dtype <U6\n",
      "   ra (<class 'numpy.ndarray'>) shape (6328,) dtype >f8\n"
     ]
    }
   ],
   "source": [
    "T.about()"
   ]
  },
  {
   "cell_type": "code",
   "execution_count": 4,
   "metadata": {},
   "outputs": [
    {
     "data": {
      "image/png": "[encoded data removed]",
      "text/plain": [
       "<matplotlib.figure.Figure at 0x10baf1438>"
      ]
     },
     "metadata": {},
     "output_type": "display_data"
    }
   ],
   "source": [
    "T.dist = np.array([degrees_between(36.45, -4.6, r, d) for r,d in zip(T.ra, T.dec)])\n",
    "plt.hist(T.dist, 50);\n",
    "T.cut(T.dist < 0.02)"
   ]
  },
  {
   "cell_type": "code",
   "execution_count": 5,
   "metadata": {},
   "outputs": [
    {
     "data": {
      "image/png": "[encoded data removed]",
      "text/plain": [
       "<matplotlib.figure.Figure at 0x10c8d8d30>"
      ]
     },
     "metadata": {},
     "output_type": "display_data"
    }
   ],
   "source": [
    "loghist(T.ra, T.dec);"
   ]
  },
  {
   "cell_type": "code",
   "execution_count": 6,
   "metadata": {},
   "outputs": [
    {
     "data": {
      "text/plain": [
       "Counter({'dqmask': 2099, 'image ': 2095, 'wtmap ': 2088})"
      ]
     },
     "execution_count": 6,
     "metadata": {},
     "output_type": "execute_result"
    }
   ],
   "source": [
    "Counter(T.prodtype)"
   ]
  },
  {
   "cell_type": "code",
   "execution_count": 7,
   "metadata": {},
   "outputs": [
    {
     "data": {
      "text/plain": [
       "Counter({200.0: 2123, 360.0: 2251, 400.0: 1908})"
      ]
     },
     "execution_count": 7,
     "metadata": {},
     "output_type": "execute_result"
    }
   ],
   "source": [
    "Counter(T.exposure)"
   ]
  },
  {
   "cell_type": "code",
   "execution_count": 8,
   "metadata": {},
   "outputs": [
    {
     "data": {
      "text/plain": [
       "Counter({'g DECam SDSS c0001 4720.0 1520.0': 2123,\n",
       "         'i DECam SDSS c0003 7835.0 1470.0': 2251,\n",
       "         'r DECam SDSS c0002 6415.0 1480.0': 1908})"
      ]
     },
     "execution_count": 8,
     "metadata": {},
     "output_type": "execute_result"
    }
   ],
   "source": [
    "Counter(T.filter)"
   ]
  },
  {
   "cell_type": "code",
   "execution_count": 9,
   "metadata": {},
   "outputs": [],
   "source": [
    "nersc = open('decam.lst').readlines()"
   ]
  },
  {
   "cell_type": "code",
   "execution_count": 10,
   "metadata": {},
   "outputs": [],
   "source": [
    "nerscfiles = [x.strip().split('/')[-1] for x in nersc]"
   ]
  },
  {
   "cell_type": "code",
   "execution_count": 11,
   "metadata": {},
   "outputs": [
    {
     "data": {
      "text/plain": [
       "['c4d_140811_101945_ooi_z_v1.fits.fz',\n",
       " 'c4d_140809_042348_ooi_z_v1.fits.fz',\n",
       " 'c4d_140811_101401_ooi_z_v1.fits.fz',\n",
       " 'c4d_140809_042921_ooi_z_v1.fits.fz',\n",
       " 'c4d_140809_043148_ooi_z_v1.fits.fz']"
      ]
     },
     "execution_count": 11,
     "metadata": {},
     "output_type": "execute_result"
    }
   ],
   "source": [
    "nerscfiles[:5]"
   ]
  },
  {
   "cell_type": "code",
   "execution_count": 12,
   "metadata": {},
   "outputs": [
    {
     "data": {
      "text/plain": [
       "array(['tu1876531.fits.fz                 ',\n",
       "       'c4d_121107_043013_ooi_g_a1.fits.fz',\n",
       "       'tu1876481.fits.fz                 ',\n",
       "       'c4d_121107_043013_oow_g_a1.fits.fz',\n",
       "       'tu1876482.fits.fz                 '],\n",
       "      dtype='<U34')"
      ]
     },
     "execution_count": 12,
     "metadata": {},
     "output_type": "execute_result"
    }
   ],
   "source": [
    "T.archive_file[:5]"
   ]
  },
  {
   "cell_type": "code",
   "execution_count": 13,
   "metadata": {},
   "outputs": [
    {
     "data": {
      "text/plain": [
       "49042"
      ]
     },
     "execution_count": 13,
     "metadata": {},
     "output_type": "execute_result"
    }
   ],
   "source": [
    "sn = set(nerscfiles)\n",
    "len(sn)"
   ]
  },
  {
   "cell_type": "code",
   "execution_count": 14,
   "metadata": {},
   "outputs": [
    {
     "data": {
      "text/plain": [
       "6282"
      ]
     },
     "execution_count": 14,
     "metadata": {},
     "output_type": "execute_result"
    }
   ],
   "source": [
    "st = set([x.strip() for x in T.archive_file])\n",
    "len(st)"
   ]
  },
  {
   "cell_type": "code",
   "execution_count": 15,
   "metadata": {},
   "outputs": [
    {
     "data": {
      "text/plain": [
       "set()"
      ]
     },
     "execution_count": 15,
     "metadata": {},
     "output_type": "execute_result"
    }
   ],
   "source": [
    "st.intersection(sn)"
   ]
  },
  {
   "cell_type": "code",
   "execution_count": 16,
   "metadata": {},
   "outputs": [
    {
     "data": {
      "text/plain": [
       "Counter({('g DECam SDSS c0001 4720.0 1520.0', 200.0): 2123,\n",
       "         ('i DECam SDSS c0003 7835.0 1470.0', 360.0): 2251,\n",
       "         ('r DECam SDSS c0002 6415.0 1480.0', 400.0): 1908})"
      ]
     },
     "execution_count": 16,
     "metadata": {},
     "output_type": "execute_result"
    }
   ],
   "source": [
    "Counter(zip(T.filter, T.exposure))"
   ]
  },
  {
   "cell_type": "code",
   "execution_count": 17,
   "metadata": {},
   "outputs": [
    {
     "data": {
      "text/plain": [
       "[('2015-01-07 01:06:23.817', 12),\n",
       " ('2015-01-07 01:10:11.111', 12),\n",
       " ('2015-01-07 01:13:58.454', 12),\n",
       " ('2015-01-14 00:59:41.52 ', 12),\n",
       " ('2015-01-14 01:03:29.03 ', 12),\n",
       " ('2015-01-14 01:07:16.506', 12),\n",
       " ('2013-09-12 08:54:58.071', 10),\n",
       " ('2013-09-29 06:52:02.647', 10),\n",
       " ('2014-01-04 02:34:57.347', 10),\n",
       " ('2014-01-28 01:03:01.864', 10),\n",
       " ('2014-02-04 01:44:20.685', 10),\n",
       " ('2013-09-01 04:58:45.897', 9),\n",
       " ('2013-09-01 05:02:35.688', 9),\n",
       " ('2013-09-01 05:06:24.638', 9),\n",
       " ('2013-09-02 09:25:05.216', 9),\n",
       " ('2013-09-08 05:21:42.951', 9),\n",
       " ('2013-09-08 05:25:32.109', 9),\n",
       " ('2013-09-08 05:29:23.007', 9),\n",
       " ('2013-09-08 09:27:15.302', 9),\n",
       " ('2013-09-10 05:02:06.087', 9),\n",
       " ('2013-09-10 05:09:15.897', 9),\n",
       " ('2013-09-10 05:16:25.619', 9),\n",
       " ('2013-09-12 06:59:07.879', 9),\n",
       " ('2013-09-12 07:02:56.758', 9),\n",
       " ('2013-09-12 07:06:45.915', 9),\n",
       " ('2013-09-12 08:48:29.163', 9),\n",
       " ('2013-09-12 09:01:26.574', 9),\n",
       " ('2013-09-12 09:07:54.707', 9),\n",
       " ('2013-09-24 05:53:59.804', 9),\n",
       " ('2013-09-28 04:02:32.701', 9),\n",
       " ('2013-09-28 04:06:21.592', 9),\n",
       " ('2013-09-28 04:10:10.767', 9),\n",
       " ('2013-09-29 07:25:46.178', 9),\n",
       " ('2013-09-29 07:40:04.372', 9),\n",
       " ('2013-10-02 05:58:14.525', 9),\n",
       " ('2013-10-02 06:02:02.675', 9),\n",
       " ('2013-10-02 06:05:52.715', 9),\n",
       " ('2013-10-03 05:15:03.119', 9),\n",
       " ('2013-10-03 06:32:22.524', 9),\n",
       " ('2013-10-03 06:39:32.727', 9),\n",
       " ('2013-10-03 06:46:47.437', 9),\n",
       " ('2013-10-10 05:09:08.249', 9),\n",
       " ('2013-10-10 05:12:57.964', 9),\n",
       " ('2013-10-10 05:16:47.107', 9),\n",
       " ('2013-10-11 04:34:11.295', 9),\n",
       " ('2013-10-11 04:41:26.667', 9),\n",
       " ('2013-10-11 04:48:38.085', 9),\n",
       " ('2013-10-14 04:54:11.497', 9),\n",
       " ('2013-10-14 04:58:00.184', 9),\n",
       " ('2013-10-14 05:01:49.017', 9),\n",
       " ('2013-10-15 03:43:49.526', 9),\n",
       " ('2013-10-15 03:50:59.221', 9),\n",
       " ('2013-10-26 04:44:20.427', 9),\n",
       " ('2013-10-26 04:48:09.954', 9),\n",
       " ('2013-10-26 04:52:00.413', 9),\n",
       " ('2013-10-27 02:36:12.703', 9),\n",
       " ('2013-10-27 02:43:20.803', 9),\n",
       " ('2013-10-27 02:50:28.868', 9),\n",
       " ('2013-10-30 02:32:51.561', 9),\n",
       " ('2013-10-30 02:36:40.412', 9),\n",
       " ('2013-10-30 02:40:29.145', 9),\n",
       " ('2013-11-06 03:27:58.338', 9),\n",
       " ('2013-11-06 03:31:47.629', 9),\n",
       " ('2013-11-06 03:35:38.349', 9),\n",
       " ('2013-11-07 01:14:25.41 ', 9),\n",
       " ('2013-11-07 01:21:36.105', 9),\n",
       " ('2013-11-07 01:28:45.877', 9),\n",
       " ('2013-11-12 05:04:26.376', 9),\n",
       " ('2013-11-12 05:10:56.098', 9),\n",
       " ('2013-11-21 00:48:00.755', 9),\n",
       " ('2013-11-21 00:51:49.418', 9),\n",
       " ('2013-11-21 00:55:38.284', 9),\n",
       " ('2013-12-01 01:32:16.121', 9),\n",
       " ('2013-12-01 01:36:09.835', 9),\n",
       " ('2013-12-01 01:39:58.58 ', 9),\n",
       " ('2013-12-01 03:12:56.133', 9),\n",
       " ('2013-12-01 03:52:22.372', 9),\n",
       " ('2013-12-01 03:59:34.136', 9),\n",
       " ('2013-12-01 04:06:47.392', 9),\n",
       " ('2013-12-09 03:23:59.383', 9),\n",
       " ('2013-12-09 03:27:49.397', 9),\n",
       " ('2013-12-09 03:31:40.613', 9),\n",
       " ('2013-12-10 03:39:15.094', 9),\n",
       " ('2013-12-10 03:53:39.192', 9),\n",
       " ('2013-12-20 01:50:48.07 ', 9),\n",
       " ('2013-12-20 01:54:37.217', 9),\n",
       " ('2013-12-20 01:58:26.118', 9),\n",
       " ('2013-12-27 02:43:36.298', 9),\n",
       " ('2013-12-27 02:47:26.307', 9),\n",
       " ('2013-12-27 02:51:16.198', 9),\n",
       " ('2013-12-28 02:11:39.473', 9),\n",
       " ('2013-12-28 02:18:49.705', 9),\n",
       " ('2013-12-28 02:26:00.777', 9),\n",
       " ('2014-01-04 01:07:49.791', 9),\n",
       " ('2014-01-04 01:11:38.751', 9),\n",
       " ('2014-01-04 01:15:28.543', 9),\n",
       " ('2014-01-04 02:28:28.766', 9),\n",
       " ('2014-01-04 02:41:25.349', 9),\n",
       " ('2014-01-04 02:54:24.949', 9),\n",
       " ('2014-01-05 01:03:15.829', 9),\n",
       " ('2014-01-05 01:10:23.814', 9),\n",
       " ('2014-01-05 01:17:35.028', 9),\n",
       " ('2014-01-19 01:42:45.892', 9),\n",
       " ('2014-01-19 01:46:35.258', 9),\n",
       " ('2014-01-19 01:50:24.309', 9),\n",
       " ('2014-01-26 01:50:44.57 ', 9),\n",
       " ('2014-01-26 01:54:33.656', 9),\n",
       " ('2014-01-26 01:58:22.413', 9),\n",
       " ('2014-01-26 02:03:53.676', 9),\n",
       " ('2014-01-26 02:10:22.398', 9),\n",
       " ('2014-01-28 00:56:31.886', 9),\n",
       " ('2014-01-28 01:30:42.922', 9),\n",
       " ('2014-01-28 01:37:52.809', 9),\n",
       " ('2014-01-28 01:45:02.493', 9),\n",
       " ('2014-02-02 01:53:49.572', 9),\n",
       " ('2014-02-02 01:57:38.74 ', 9),\n",
       " ('2014-02-02 02:01:30.874', 9),\n",
       " ('2014-02-04 01:24:52.651', 9),\n",
       " ('2014-02-04 01:31:23.013', 9),\n",
       " ('2014-02-04 01:37:52.493', 9),\n",
       " ('2014-02-09 01:54:03.04 ', 9),\n",
       " ('2014-02-09 01:57:52.088', 9),\n",
       " ('2014-02-09 02:01:41.533', 9),\n",
       " ('2014-08-21 08:46:20.175', 9),\n",
       " ('2014-08-21 08:53:29.848', 9),\n",
       " ('2014-08-21 09:00:37.546', 9),\n",
       " ('2014-09-03 08:14:14.808', 9),\n",
       " ('2014-09-03 08:21:23.76 ', 9),\n",
       " ('2014-09-03 08:28:32.639', 9),\n",
       " ('2014-09-15 04:53:26.975', 9),\n",
       " ('2014-09-15 05:00:37.271', 9),\n",
       " ('2014-09-15 05:07:46.113', 9),\n",
       " ('2014-09-15 06:07:35.786', 9),\n",
       " ('2014-09-15 06:11:23.502', 9),\n",
       " ('2014-09-15 06:15:11.98 ', 9),\n",
       " ('2014-09-16 04:38:39.918', 9),\n",
       " ('2014-09-16 04:42:29.055', 9),\n",
       " ('2014-09-16 04:46:16.61 ', 9),\n",
       " ('2014-09-20 04:23:02.212', 9),\n",
       " ('2014-09-20 04:26:50.993', 9),\n",
       " ('2014-09-20 04:30:40.254', 9),\n",
       " ('2014-09-24 04:38:22.536', 9),\n",
       " ('2014-09-24 04:45:30.985', 9),\n",
       " ('2014-09-25 04:17:03.532', 9),\n",
       " ('2014-09-25 04:20:53.457', 9),\n",
       " ('2014-09-25 04:24:42.083', 9),\n",
       " ('2014-10-01 04:18:14.971', 9),\n",
       " ('2014-10-01 04:25:22.847', 9),\n",
       " ('2014-10-02 03:38:21.502', 9),\n",
       " ('2014-10-02 03:42:08.369', 9),\n",
       " ('2014-10-02 03:45:55.406', 9),\n",
       " ('2014-10-06 03:46:01.182', 9),\n",
       " ('2014-10-06 03:53:09.582', 9),\n",
       " ('2014-10-06 04:00:18.654', 9),\n",
       " ('2014-10-13 04:36:53.099', 9),\n",
       " ('2014-10-13 04:40:41.181', 9),\n",
       " ('2014-10-13 04:44:30.674', 9),\n",
       " ('2014-10-13 06:19:01.987', 9),\n",
       " ('2014-10-13 06:26:10.897', 9),\n",
       " ('2014-10-19 03:00:59.995', 9),\n",
       " ('2014-10-19 03:04:49.631', 9),\n",
       " ('2014-10-19 03:08:38.552', 9),\n",
       " ('2014-10-19 03:14:11.723', 9),\n",
       " ('2014-10-19 03:21:21.415', 9),\n",
       " ('2014-10-19 03:28:30.815', 9),\n",
       " ('2014-10-26 05:12:33.892', 9),\n",
       " ('2014-10-26 05:16:20.761', 9),\n",
       " ('2014-10-26 05:20:10.318', 9),\n",
       " ('2014-10-26 05:32:56.192', 9),\n",
       " ('2014-10-30 06:50:50.263', 9),\n",
       " ('2014-10-30 06:57:58.047', 9),\n",
       " ('2014-10-30 07:05:05.637', 9),\n",
       " ('2014-11-12 02:05:01.472', 9),\n",
       " ('2014-11-12 02:08:49.664', 9),\n",
       " ('2014-11-12 02:12:37.484', 9),\n",
       " ('2014-11-12 02:18:03.479', 9),\n",
       " ('2014-11-12 02:25:11.216', 9),\n",
       " ('2014-11-12 02:32:18.775', 9),\n",
       " ('2014-11-19 01:53:56.247', 9),\n",
       " ('2014-11-19 01:57:43.884', 9),\n",
       " ('2014-11-19 02:01:32.168', 9),\n",
       " ('2014-11-19 02:14:11.125', 9),\n",
       " ('2014-11-19 02:21:19.812', 9),\n",
       " ('2014-11-25 05:21:33.184', 9),\n",
       " ('2014-11-25 05:25:20.326', 9),\n",
       " ('2014-11-25 05:29:07.604', 9),\n",
       " ('2014-11-26 02:01:05.702', 9),\n",
       " ('2014-11-26 02:04:54.125', 9),\n",
       " ('2014-11-26 02:08:41.986', 9),\n",
       " ('2014-11-26 02:14:10.572', 9),\n",
       " ('2014-11-26 02:28:27.232', 9),\n",
       " ('2014-11-29 02:01:50.404', 9),\n",
       " ('2014-11-29 02:05:37.752', 9),\n",
       " ('2014-11-29 02:09:25.049', 9),\n",
       " ('2014-11-29 02:14:55.531', 9),\n",
       " ('2014-12-10 01:12:40.004', 9),\n",
       " ('2014-12-10 01:16:27.6  ', 9),\n",
       " ('2014-12-10 01:20:15.894', 9),\n",
       " ('2014-12-10 01:25:44.851', 9),\n",
       " ('2014-12-10 01:32:52.879', 9),\n",
       " ('2014-12-10 01:40:00.897', 9),\n",
       " ('2014-12-14 02:03:10.033', 9),\n",
       " ('2014-12-14 02:10:47.531', 9),\n",
       " ('2014-12-14 02:16:18.953', 9),\n",
       " ('2014-12-14 02:23:27.701', 9),\n",
       " ('2014-12-14 02:30:35.786', 9),\n",
       " ('2014-12-21 02:18:23.481', 9),\n",
       " ('2014-12-21 02:22:11.767', 9),\n",
       " ('2014-12-21 02:25:59.58 ', 9),\n",
       " ('2014-12-21 02:31:28.038', 9),\n",
       " ('2014-12-21 02:38:36.061', 9),\n",
       " ('2014-12-21 02:45:43.984', 9),\n",
       " ('2014-12-27 02:22:09.162', 9),\n",
       " ('2014-12-27 02:25:57.077', 9),\n",
       " ('2014-12-27 02:29:44.251', 9),\n",
       " ('2014-12-27 03:08:42.132', 9),\n",
       " ('2014-12-27 03:22:58.571', 9),\n",
       " ('2015-01-03 02:30:29.004', 9),\n",
       " ('2015-01-03 02:37:36.206', 9),\n",
       " ('2015-01-10 01:32:41.85 ', 9),\n",
       " ('2015-01-10 01:39:51.438', 9),\n",
       " ('2015-01-10 01:46:58.951', 9),\n",
       " ('2015-01-16 02:49:41.835', 9),\n",
       " ('2015-01-16 02:56:50.956', 9),\n",
       " ('2015-01-16 03:03:58.855', 9),\n",
       " ('2015-01-20 01:32:33.639', 9),\n",
       " ('2015-01-20 01:36:21.291', 9),\n",
       " ('2015-01-20 01:40:09.607', 9),\n",
       " ('2015-01-22 01:49:41.748', 9),\n",
       " ('2015-01-22 01:56:49.353', 9),\n",
       " ('2015-01-22 02:03:56.304', 9),\n",
       " ('2015-01-27 01:20:28.936', 9),\n",
       " ('2015-01-27 01:24:17.151', 9),\n",
       " ('2015-01-27 01:28:05.938', 9),\n",
       " ('2015-01-29 01:32:23.523', 9),\n",
       " ('2015-01-29 01:46:38.852', 9),\n",
       " ('2013-11-12 05:23:56.127', 8),\n",
       " ('2013-09-08 09:14:13.449', 7),\n",
       " ('2013-10-03 05:34:44.135', 7),\n",
       " ('2013-10-11 03:07:14.55 ', 7),\n",
       " ('2013-10-15 03:09:45.275', 7),\n",
       " ('2013-10-15 03:35:36.371', 7),\n",
       " ('2013-11-06 06:08:59.682', 7),\n",
       " ('2013-11-06 06:15:28.748', 7),\n",
       " ('2013-11-19 05:09:53.869', 7),\n",
       " ('2013-12-10 02:29:27.942', 7),\n",
       " ('2013-12-20 02:03:50.062', 7),\n",
       " ('2014-01-12 01:48:50.449', 7),\n",
       " ('2014-09-03 08:56:53.617', 7),\n",
       " ('2012-11-07 04:30:13.368', 6),\n",
       " ('2012-11-07 04:34:03.147', 6),\n",
       " ('2012-11-07 04:37:54.073', 6),\n",
       " ('2012-11-07 04:44:53.051', 6),\n",
       " ('2012-11-07 04:52:03.216', 6),\n",
       " ('2012-11-07 04:59:13.521', 6),\n",
       " ('2012-11-09 02:44:22.273', 6),\n",
       " ('2012-11-11 02:59:27.282', 6),\n",
       " ('2012-11-19 03:08:17.232', 6),\n",
       " ('2012-11-19 03:12:06.673', 6),\n",
       " ('2012-11-19 03:15:56.522', 6),\n",
       " ('2012-11-19 03:19:45.552', 6),\n",
       " ('2012-11-19 03:26:55.763', 6),\n",
       " ('2012-11-19 03:34:06.27 ', 6),\n",
       " ('2012-12-05 03:41:00.248', 6),\n",
       " ('2012-12-05 03:44:48.757', 6),\n",
       " ('2012-12-05 03:48:37.846', 6),\n",
       " ('2012-12-05 03:52:27.254', 6),\n",
       " ('2012-12-05 03:59:35.661', 6),\n",
       " ('2012-12-05 04:06:46.543', 6),\n",
       " ('2012-12-10 02:57:36.545', 6),\n",
       " ('2012-12-10 03:01:25.116', 6),\n",
       " ('2012-12-10 03:05:13.645', 6),\n",
       " ('2012-12-16 03:50:58.36 ', 6),\n",
       " ('2012-12-16 03:54:47.836', 6),\n",
       " ('2012-12-16 03:58:38.479', 6),\n",
       " ('2012-12-23 04:13:44.248', 6),\n",
       " ('2012-12-23 04:17:36.409', 6),\n",
       " ('2012-12-29 03:51:33.583', 6),\n",
       " ('2012-12-29 03:55:22.652', 6),\n",
       " ('2012-12-29 03:59:11.686', 6),\n",
       " ('2012-12-29 04:10:10.205', 6),\n",
       " ('2013-01-05 02:23:18.936', 6),\n",
       " ('2013-01-05 02:27:09.855', 6),\n",
       " ('2013-01-05 02:30:58.32 ', 6),\n",
       " ('2013-01-05 02:34:47.207', 6),\n",
       " ('2013-01-05 02:41:55.216', 6),\n",
       " ('2013-01-05 02:49:04.477', 6),\n",
       " ('2013-01-14 02:16:02.15 ', 6),\n",
       " ('2013-01-14 02:30:20.313', 6),\n",
       " ('2013-01-16 01:24:19.445', 6),\n",
       " ('2013-01-16 01:28:11.944', 6),\n",
       " ('2013-01-16 01:32:03.359', 6),\n",
       " ('2013-09-02 09:05:37.545', 6),\n",
       " ('2013-09-02 09:12:07.145', 6),\n",
       " ('2013-09-02 09:18:35.899', 6),\n",
       " ('2013-09-02 09:31:34.04 ', 6),\n",
       " ('2013-09-03 06:16:06.638', 6),\n",
       " ('2013-09-03 06:23:14.999', 6),\n",
       " ('2013-09-03 06:30:23.457', 6),\n",
       " ('2013-09-08 09:20:45.347', 6),\n",
       " ('2013-09-08 09:33:44.961', 6),\n",
       " ('2013-09-12 08:41:59.417', 6),\n",
       " ('2013-09-24 05:41:01.278', 6),\n",
       " ('2013-09-24 05:47:30.478', 6),\n",
       " ('2013-09-24 06:00:30.249', 6),\n",
       " ('2013-09-29 06:26:07.156', 6),\n",
       " ('2013-09-29 06:39:04.682', 6),\n",
       " ('2013-09-29 06:45:34.161', 6),\n",
       " ('2013-09-29 07:32:56.231', 6),\n",
       " ('2013-10-03 05:21:35.397', 6),\n",
       " ('2013-10-03 05:28:09.376', 6),\n",
       " ('2013-10-03 05:41:22.71 ', 6),\n",
       " ('2013-10-11 03:00:46.195', 6),\n",
       " ('2013-10-11 03:13:43.282', 6),\n",
       " ('2013-10-11 03:20:13.305', 6),\n",
       " ('2013-10-11 03:26:42.361', 6),\n",
       " ('2013-10-15 03:16:12.018', 6),\n",
       " ('2013-10-27 01:56:56.688', 6),\n",
       " ('2013-10-27 02:03:30.044', 6),\n",
       " ('2013-10-27 02:09:58.732', 6),\n",
       " ('2013-10-27 02:16:27.718', 6),\n",
       " ('2013-11-06 06:02:27.832', 6),\n",
       " ('2013-11-06 06:21:58.895', 6),\n",
       " ('2013-11-06 06:28:27.44 ', 6),\n",
       " ('2013-11-11 03:54:56.846', 6),\n",
       " ('2013-11-12 04:57:56.127', 6),\n",
       " ('2013-11-12 05:17:24.652', 6),\n",
       " ('2013-11-14 00:51:43.702', 6),\n",
       " ('2013-11-19 04:56:56.189', 6),\n",
       " ('2013-11-19 05:03:25.757', 6),\n",
       " ('2013-11-20 02:05:04.161', 6),\n",
       " ('2013-11-20 02:12:11.806', 6),\n",
       " ('2013-11-20 02:19:22.972', 6),\n",
       " ('2013-12-01 02:53:26.167', 6),\n",
       " ('2013-12-01 02:59:53.928', 6),\n",
       " ('2013-12-01 03:06:27.832', 6),\n",
       " ('2013-12-01 03:19:25.559', 6),\n",
       " ('2013-12-08 04:41:36.629', 6),\n",
       " ('2013-12-08 04:45:26.719', 6),\n",
       " ('2013-12-10 02:35:57.417', 6),\n",
       " ('2013-12-10 02:42:26.689', 6),\n",
       " ('2013-12-10 02:48:55.47 ', 6),\n",
       " ('2013-12-10 02:55:24.163', 6),\n",
       " ('2013-12-10 03:46:29.11 ', 6),\n",
       " ('2013-12-20 02:10:20.458', 6),\n",
       " ('2013-12-20 02:16:51.048', 6),\n",
       " ('2013-12-20 02:23:19.254', 6),\n",
       " ('2013-12-20 02:29:49.809', 6),\n",
       " ('2013-12-27 02:56:51.388', 6),\n",
       " ('2013-12-27 03:03:21.992', 6),\n",
       " ('2013-12-27 03:09:50.318', 6),\n",
       " ('2013-12-27 03:16:19.993', 6),\n",
       " ('2013-12-27 03:22:51.902', 6),\n",
       " ('2014-01-04 02:47:55.158', 6),\n",
       " ('2014-01-12 01:22:52.822', 6),\n",
       " ('2014-01-12 01:29:22.582', 6),\n",
       " ('2014-01-12 01:35:52.619', 6),\n",
       " ('2014-01-12 01:42:21.792', 6),\n",
       " ('2014-01-12 01:56:53.073', 6),\n",
       " ('2014-01-12 02:04:01.619', 6),\n",
       " ('2014-01-12 02:11:13.497', 6),\n",
       " ('2014-01-19 02:10:42.891', 6),\n",
       " ('2014-01-19 02:23:43.594', 6),\n",
       " ('2014-01-19 02:30:13.788', 6),\n",
       " ('2014-01-19 02:49:25.071', 6),\n",
       " ('2014-01-19 02:56:35.222', 6),\n",
       " ('2014-01-19 03:03:47.413', 6),\n",
       " ('2014-01-26 02:27:27.025', 6),\n",
       " ('2014-01-28 01:09:30.367', 6),\n",
       " ('2014-01-28 01:15:59.911', 6),\n",
       " ('2014-01-28 01:22:29.667', 6),\n",
       " ('2014-02-04 01:50:49.496', 6),\n",
       " ('2014-02-05 01:09:50.662', 6),\n",
       " ('2014-02-05 01:17:00.75 ', 6),\n",
       " ('2014-02-05 01:24:12.082', 6),\n",
       " ('2014-08-21 06:31:39.457', 6),\n",
       " ('2014-08-21 06:35:28.902', 6),\n",
       " ('2014-08-21 06:39:17.193', 6),\n",
       " ('2014-08-21 08:38:08.861', 6),\n",
       " ('2014-08-29 06:02:52.342', 6),\n",
       " ('2014-08-29 06:06:40.97 ', 6),\n",
       " ('2014-08-29 06:10:28.437', 6),\n",
       " ('2014-08-29 09:00:11.961', 6),\n",
       " ('2014-08-29 09:07:20.357', 6),\n",
       " ('2014-08-29 09:14:28.991', 6),\n",
       " ('2014-09-03 05:40:51.013', 6),\n",
       " ('2014-09-03 05:44:38.016', 6),\n",
       " ('2014-09-03 05:48:25.497', 6),\n",
       " ('2014-09-03 08:37:27.573', 6),\n",
       " ('2014-09-03 08:43:56.628', 6),\n",
       " ('2014-09-03 08:50:25.022', 6),\n",
       " ('2014-09-03 09:03:22.537', 6),\n",
       " ('2014-09-15 05:33:31.845', 6),\n",
       " ('2014-09-15 05:40:00.109', 6),\n",
       " ('2014-09-15 05:46:28.104', 6),\n",
       " ('2014-09-15 05:52:55.647', 6),\n",
       " ('2014-09-15 05:59:23.878', 6),\n",
       " ('2014-09-24 04:52:38.882', 6),\n",
       " ('2014-09-24 05:01:30.637', 6),\n",
       " ('2014-09-24 05:14:27.055', 6),\n",
       " ('2014-09-24 05:20:54.814', 6),\n",
       " ('2014-09-24 05:27:23.921', 6),\n",
       " ('2014-10-01 04:11:07.632', 6),\n",
       " ('2014-10-01 04:53:39.635', 6),\n",
       " ('2014-10-06 04:09:14.135', 6),\n",
       " ('2014-10-06 04:15:42.034', 6),\n",
       " ('2014-10-06 04:28:38.551', 6),\n",
       " ('2014-10-06 04:35:06.878', 6),\n",
       " ('2014-10-13 06:11:54.223', 6),\n",
       " ('2014-10-13 06:54:29.221', 6),\n",
       " ('2014-10-13 07:00:57.493', 6),\n",
       " ('2014-10-19 03:37:27.992', 6),\n",
       " ('2014-10-19 04:03:21.497', 6),\n",
       " ('2014-10-26 05:25:47.101', 6),\n",
       " ('2014-10-26 05:40:04.856', 6),\n",
       " ('2014-10-26 05:49:06.068', 6),\n",
       " ('2014-10-26 05:55:33.973', 6),\n",
       " ('2014-10-26 06:02:01.935', 6),\n",
       " ('2014-10-26 06:08:29.829', 6),\n",
       " ('2014-10-26 06:14:59.13 ', 6),\n",
       " ('2014-10-30 05:55:44.119', 6),\n",
       " ('2014-10-30 05:59:31.287', 6),\n",
       " ('2014-10-30 06:03:19.91 ', 6),\n",
       " ('2014-10-31 04:26:23.719', 6),\n",
       " ('2014-11-12 01:10:25.188', 6),\n",
       " ('2014-11-12 01:36:18.273', 6),\n",
       " ('2014-11-19 02:07:02.781', 6),\n",
       " ('2014-11-26 02:21:18.908', 6),\n",
       " ('2014-11-29 02:22:02.898', 6),\n",
       " ('2014-11-29 02:29:10.769', 6),\n",
       " ('2014-11-29 02:38:12.261', 6),\n",
       " ('2014-11-29 02:44:39.891', 6),\n",
       " ('2014-11-29 02:51:09.224', 6),\n",
       " ('2014-11-29 02:57:38.138', 6),\n",
       " ('2014-11-29 03:04:05.922', 6),\n",
       " ('2014-12-14 02:06:59.321', 6),\n",
       " ('2014-12-14 02:39:31.304', 6),\n",
       " ('2014-12-14 02:45:59.687', 6),\n",
       " ('2014-12-14 02:52:27.572', 6),\n",
       " ('2014-12-14 02:58:55.52 ', 6),\n",
       " ('2014-12-14 03:05:24.907', 6),\n",
       " ('2014-12-21 02:54:39.609', 6),\n",
       " ('2014-12-21 03:01:06.876', 6),\n",
       " ('2014-12-21 03:07:34.337', 6),\n",
       " ('2014-12-21 03:14:01.878', 6),\n",
       " ('2014-12-21 03:20:30.224', 6),\n",
       " ('2014-12-27 03:15:50.303', 6),\n",
       " ('2014-12-27 03:41:12.897', 6),\n",
       " ('2014-12-27 03:47:41.844', 6),\n",
       " ('2014-12-27 03:54:10.843', 6),\n",
       " ('2014-12-27 04:00:39.711', 6),\n",
       " ('2015-01-03 02:23:21.959', 6),\n",
       " ('2015-01-03 02:46:30.547', 6),\n",
       " ('2015-01-03 02:52:58.125', 6),\n",
       " ('2015-01-10 01:55:48.354', 6),\n",
       " ('2015-01-10 02:02:16.991', 6),\n",
       " ('2015-01-10 02:08:44.209', 6),\n",
       " ('2015-01-10 02:15:11.378', 6),\n",
       " ('2015-01-10 02:21:40.504', 6),\n",
       " ('2015-01-17 00:58:51.542', 6),\n",
       " ('2015-01-17 01:05:19.874', 6),\n",
       " ('2015-01-17 01:18:16.312', 6),\n",
       " ('2015-01-17 01:24:43.641', 6),\n",
       " ('2015-01-22 02:32:11.44 ', 6),\n",
       " ('2015-01-22 02:38:38.85 ', 6),\n",
       " ('2015-01-29 01:39:31.198', 6),\n",
       " ('2015-08-15 07:01:16.861', 6),\n",
       " ('2015-08-15 07:05:06.087', 6),\n",
       " ('2015-08-15 07:08:55.16 ', 6),\n",
       " ('2015-08-15 07:14:26.735', 6),\n",
       " ('2015-08-15 07:21:34.84 ', 6),\n",
       " ('2015-08-15 07:28:43.04 ', 6),\n",
       " ('2015-08-15 07:37:34.202', 6),\n",
       " ('2015-08-15 07:50:30.459', 6),\n",
       " ('2015-08-19 08:13:50.887', 6),\n",
       " ('2015-08-19 08:17:38.096', 6),\n",
       " ('2015-08-19 08:21:25.294', 6),\n",
       " ('2015-08-19 08:26:53.264', 6),\n",
       " ('2015-08-19 08:34:02.054', 6),\n",
       " ('2015-08-19 08:41:11.742', 6),\n",
       " ('2015-08-23 07:44:44.665', 6),\n",
       " ('2015-08-23 07:48:32.469', 6),\n",
       " ('2015-08-23 07:52:21.471', 6),\n",
       " ('2015-08-23 07:57:53.56 ', 6),\n",
       " ('2015-08-23 08:05:01.266', 6),\n",
       " ('2015-08-23 08:12:09.867', 6),\n",
       " ('2015-08-23 08:27:29.535', 6),\n",
       " ('2015-09-04 05:27:04.768', 6),\n",
       " ('2015-09-04 05:30:53.605', 6),\n",
       " ('2015-09-04 05:34:41.629', 6),\n",
       " ('2015-09-08 08:12:34.924', 6),\n",
       " ('2015-09-08 08:31:58.141', 6),\n",
       " ('2015-09-08 08:38:26.222', 6),\n",
       " ('2015-09-13 05:12:03.453', 6),\n",
       " ('2015-09-13 05:19:13.363', 6),\n",
       " ('2015-09-13 05:26:22.245', 6),\n",
       " ('2015-09-13 06:10:54.455', 6),\n",
       " ('2015-09-13 06:14:44.113', 6),\n",
       " ('2015-09-13 06:18:33.789', 6),\n",
       " ('2015-09-18 04:52:06.923', 6),\n",
       " ('2015-09-18 04:58:35.308', 6),\n",
       " ('2015-09-22 05:41:31.224', 6),\n",
       " ('2015-09-22 05:55:48.709', 6),\n",
       " ('2015-09-22 06:19:40.095', 6),\n",
       " ('2015-10-02 06:17:36.502', 6),\n",
       " ('2015-10-03 08:38:23.101', 6),\n",
       " ('2015-10-03 08:42:13.267', 6),\n",
       " ('2015-10-03 08:46:01.902', 6),\n",
       " ('2015-10-06 07:02:47.062', 6),\n",
       " ('2015-10-06 07:09:56.167', 6),\n",
       " ('2015-10-06 07:17:04.895', 6),\n",
       " ('2015-10-06 07:26:00.156', 6),\n",
       " ('2015-10-06 07:32:28.104', 6),\n",
       " ('2015-10-06 07:38:56.617', 6),\n",
       " ('2015-10-06 07:51:52.703', 6),\n",
       " ('2015-10-08 05:36:27.746', 6),\n",
       " ('2015-10-08 05:40:17.053', 6),\n",
       " ('2015-10-16 02:59:55.742', 6),\n",
       " ('2015-10-16 03:07:05.09 ', 6),\n",
       " ('2015-10-16 03:28:55.434', 6),\n",
       " ('2015-10-16 03:35:24.302', 6),\n",
       " ('2015-10-16 06:30:06.575', 6),\n",
       " ('2015-10-16 06:33:55.727', 6),\n",
       " ('2015-10-16 06:37:43.349', 6),\n",
       " ('2015-10-20 05:23:35.989', 6),\n",
       " ('2015-10-21 02:39:42.568', 6),\n",
       " ('2015-10-21 02:46:10.78 ', 6),\n",
       " ('2015-10-21 02:52:40.538', 6),\n",
       " ('2015-11-01 01:50:07.769', 6),\n",
       " ('2015-11-01 01:53:57.763', 6),\n",
       " ('2015-11-01 01:57:45.768', 6),\n",
       " ('2015-11-01 04:23:14.909', 6),\n",
       " ('2015-11-01 04:30:23.299', 6),\n",
       " ('2015-11-03 01:41:53.473', 6),\n",
       " ('2015-11-03 01:48:22.454', 6),\n",
       " ('2015-11-03 01:54:51.568', 6),\n",
       " ('2015-11-03 02:01:20.614', 6),\n",
       " ('2015-11-03 02:07:49.4  ', 6),\n",
       " ('2015-11-05 01:36:40.366', 6),\n",
       " ('2015-11-05 01:40:29.089', 6),\n",
       " ('2015-11-05 01:44:16.298', 6),\n",
       " ('2015-11-05 03:28:15.807', 6),\n",
       " ('2015-11-05 03:35:25.747', 6),\n",
       " ('2015-11-05 03:42:33.966', 6),\n",
       " ('2015-11-13 01:07:11.365', 6),\n",
       " ('2015-11-13 01:13:40.145', 6),\n",
       " ('2015-11-13 01:20:07.794', 6),\n",
       " ('2015-11-13 01:26:37.159', 6),\n",
       " ('2015-11-13 01:33:07.151', 6),\n",
       " ('2015-11-13 04:13:34.326', 6),\n",
       " ('2015-11-13 04:17:22.933', 6),\n",
       " ('2015-11-13 04:21:10.77 ', 6),\n",
       " ('2015-11-13 04:26:44.788', 6),\n",
       " ('2015-11-13 04:33:53.068', 6),\n",
       " ('2015-11-19 01:54:03.555', 6),\n",
       " ('2015-11-19 01:57:51.796', 6),\n",
       " ('2015-11-19 02:01:41.447', 6),\n",
       " ('2015-11-19 02:50:00.067', 6),\n",
       " ('2015-11-19 02:57:09.099', 6),\n",
       " ('2015-11-19 03:04:18.03 ', 6),\n",
       " ('2015-11-20 00:54:29.275', 6),\n",
       " ('2015-11-20 00:58:19.148', 6),\n",
       " ('2015-11-20 01:02:07.065', 6),\n",
       " ('2015-11-29 04:04:47.892', 6),\n",
       " ('2015-11-29 04:11:58.259', 6),\n",
       " ('2015-11-29 04:19:06.868', 6),\n",
       " ('2015-11-29 04:54:02.394', 6),\n",
       " ('2015-11-30 02:37:25.128', 6),\n",
       " ('2015-11-30 02:41:13.59 ', 6),\n",
       " ('2015-11-30 02:45:02.841', 6),\n",
       " ('2015-12-09 01:33:44.645', 6),\n",
       " ('2015-12-09 01:40:52.606', 6),\n",
       " ('2015-12-09 01:48:01.056', 6),\n",
       " ('2015-12-09 01:56:50.109', 6),\n",
       " ('2015-12-09 02:03:17.973', 6),\n",
       " ('2015-12-09 02:16:13.524', 6),\n",
       " ('2015-12-10 01:36:47.834', 6),\n",
       " ('2015-12-10 01:40:36.531', 6),\n",
       " ('2015-12-10 01:44:25    ', 6),\n",
       " ('2015-12-16 01:25:54.091', 6),\n",
       " ('2015-12-16 01:33:03.097', 6),\n",
       " ('2015-12-16 01:40:10.464', 6),\n",
       " ('2015-12-16 01:49:04.129', 6),\n",
       " ('2015-12-17 01:32:17.371', 6),\n",
       " ('2015-12-17 01:36:05.804', 6),\n",
       " ('2015-12-17 01:39:53.875', 6),\n",
       " ('2015-12-29 01:17:35.918', 6),\n",
       " ('2015-12-30 01:21:19.338', 6),\n",
       " ('2015-12-30 01:25:07.197', 6),\n",
       " ('2015-12-30 01:28:56.307', 6),\n",
       " ('2015-12-31 02:11:04.359', 6),\n",
       " ('2015-12-31 02:18:13.705', 6),\n",
       " ('2015-12-31 02:25:21.886', 6),\n",
       " ('2016-01-02 02:22:08.643', 6),\n",
       " ('2016-01-07 01:42:34.782', 6),\n",
       " ('2016-01-07 01:46:23.975', 6),\n",
       " ('2016-01-07 01:50:12.707', 6),\n",
       " ('2016-01-07 01:55:47.118', 6),\n",
       " ('2016-01-07 02:02:54.752', 6),\n",
       " ('2016-01-07 02:10:03.704', 6),\n",
       " ('2016-01-13 02:45:48.351', 6),\n",
       " ('2016-01-13 02:49:37.641', 6),\n",
       " ('2016-01-13 02:53:25.796', 6),\n",
       " ('2016-01-14 01:03:48.218', 6),\n",
       " ('2016-01-14 01:10:56.569', 6),\n",
       " ('2016-01-14 01:18:05.329', 6),\n",
       " ('2016-01-16 02:04:17.626', 6),\n",
       " ('2016-01-21 00:59:35.513', 6),\n",
       " ('2016-01-21 01:03:24.248', 6),\n",
       " ('2016-01-21 01:07:12.969', 6),\n",
       " ('2016-09-05 05:33:36.072', 6),\n",
       " ('2016-09-05 05:37:25.276', 6),\n",
       " ('2016-09-05 05:41:13.996', 6),\n",
       " ('2016-09-05 06:03:04.019', 6),\n",
       " ('2016-09-05 06:10:12.565', 6),\n",
       " ('2016-09-05 06:17:21.455', 6),\n",
       " ('2016-09-11 07:23:48.82 ', 6),\n",
       " ('2016-09-11 07:27:37.427', 6),\n",
       " ('2016-09-11 07:31:27.399', 6),\n",
       " ('2016-09-11 08:01:00.354', 6),\n",
       " ('2016-09-11 08:08:07.924', 6),\n",
       " ('2016-09-11 08:15:16.34 ', 6),\n",
       " ('2016-09-14 06:33:59.106', 6),\n",
       " ('2016-09-14 06:37:47.652', 6),\n",
       " ('2016-09-14 06:41:37.462', 6),\n",
       " ('2016-09-14 06:56:39.377', 6),\n",
       " ('2016-09-14 07:03:47.422', 6),\n",
       " ('2016-09-14 07:10:55.683', 6),\n",
       " ('2016-09-22 04:23:07.331', 6),\n",
       " ('2016-09-22 04:26:55.352', 6),\n",
       " ('2016-09-22 04:30:44.545', 6),\n",
       " ('2016-09-22 04:36:05.105', 6),\n",
       " ('2016-09-22 04:43:14.698', 6),\n",
       " ('2016-09-22 04:50:23.455', 6),\n",
       " ('2016-09-24 04:08:11.139', 6),\n",
       " ('2016-09-24 04:15:19.697', 6),\n",
       " ('2016-09-24 04:22:28.538', 6),\n",
       " ('2016-09-26 06:22:09.534', 6),\n",
       " ('2016-09-26 06:25:57.261', 6),\n",
       " ('2016-09-26 06:29:46.545', 6),\n",
       " ('2016-09-29 08:35:20.12 ', 6),\n",
       " ('2016-09-29 08:42:27.57 ', 6),\n",
       " ('2016-09-29 08:49:36.114', 6),\n",
       " ('2016-10-02 03:43:59.062', 6),\n",
       " ('2016-10-02 03:47:49.409', 6),\n",
       " ('2016-10-02 03:51:38.145', 6),\n",
       " ('2016-10-03 03:29:47.965', 6),\n",
       " ('2016-10-03 03:36:56.397', 6),\n",
       " ('2016-10-03 03:44:05.319', 6),\n",
       " ('2016-10-09 02:29:25.738', 6),\n",
       " ('2016-10-09 02:33:14.485', 6),\n",
       " ('2016-10-09 02:37:02.393', 6),\n",
       " ('2016-10-10 02:34:20.123', 6),\n",
       " ('2016-10-10 02:41:28.293', 6),\n",
       " ('2016-10-10 02:48:37.006', 6),\n",
       " ('2016-10-20 02:33:37.853', 6),\n",
       " ('2016-10-20 02:37:26.683', 6),\n",
       " ('2016-10-20 02:41:14.726', 6),\n",
       " ('2016-10-20 04:54:03.955', 6),\n",
       " ('2016-10-20 05:01:12.004', 6),\n",
       " ('2016-10-20 05:08:20.903', 6),\n",
       " ('2016-10-25 02:56:22.279', 6),\n",
       " ('2016-10-25 03:00:10.536', 6),\n",
       " ('2016-10-25 03:03:59.052', 6),\n",
       " ('2016-10-25 03:09:20.216', 6),\n",
       " ('2016-10-25 03:16:28.15 ', 6),\n",
       " ('2016-10-25 03:23:35.775', 6),\n",
       " ('2017-01-03 02:11:54.862', 6),\n",
       " ('2017-01-03 02:15:42.654', 6),\n",
       " ('2017-01-03 02:19:31.103', 6),\n",
       " ('2017-01-08 01:58:09.723', 6),\n",
       " ('2017-01-08 02:05:19.318', 6),\n",
       " ('2017-01-08 02:12:27.314', 6),\n",
       " ('2017-01-10 01:10:06.449', 6),\n",
       " ('2017-01-10 01:17:15.868', 6),\n",
       " ('2017-01-10 01:24:26.202', 6),\n",
       " ('2012-11-09 01:51:21.525', 3),\n",
       " ('2012-11-09 01:57:49.576', 3),\n",
       " ('2012-11-09 02:04:17.781', 3),\n",
       " ('2012-11-09 02:10:46.965', 3),\n",
       " ('2012-11-09 02:17:15.595', 3),\n",
       " ('2012-11-13 00:54:58.53 ', 3),\n",
       " ('2012-11-13 01:01:27.028', 3),\n",
       " ('2012-11-13 01:07:55.049', 3),\n",
       " ('2012-11-13 01:14:23.159', 3),\n",
       " ('2012-11-13 01:20:51.763', 3),\n",
       " ('2012-11-14 01:07:33.818', 3),\n",
       " ('2012-11-14 01:14:01.619', 3),\n",
       " ('2012-11-14 01:20:31.195', 3),\n",
       " ('2012-11-14 01:27:00.993', 3),\n",
       " ('2012-11-14 01:33:30.529', 3),\n",
       " ('2012-11-19 03:41:14.61 ', 3),\n",
       " ('2012-11-19 03:47:43.768', 3),\n",
       " ('2012-11-19 03:54:14.649', 3),\n",
       " ('2012-11-19 04:00:45.175', 3),\n",
       " ('2012-11-19 04:07:16.581', 3),\n",
       " ('2012-12-10 03:09:02.267', 3),\n",
       " ('2012-12-10 03:16:10.614', 3),\n",
       " ('2012-12-10 03:23:18.918', 3),\n",
       " ('2012-12-16 04:02:26.194', 3),\n",
       " ('2012-12-16 04:09:36.543', 3),\n",
       " ('2012-12-16 04:16:46.711', 3),\n",
       " ('2012-12-23 04:21:25.412', 3),\n",
       " ('2012-12-24 03:28:10.978', 3),\n",
       " ('2012-12-24 03:35:19.746', 3),\n",
       " ('2012-12-24 03:42:29.118', 3),\n",
       " ('2012-12-29 04:03:00.363', 3),\n",
       " ('2012-12-29 04:17:18.226', 3),\n",
       " ('2013-01-05 02:58:56.182', 3),\n",
       " ('2013-01-05 03:25:32.304', 3),\n",
       " ('2013-01-14 02:23:10.561', 3),\n",
       " ('2013-09-08 09:40:15.305', 3),\n",
       " ('2013-09-24 05:34:32.235', 3),\n",
       " ('2013-09-24 07:10:06.425', 3),\n",
       " ('2013-09-24 07:17:14.873', 3),\n",
       " ('2013-09-24 07:24:24.053', 3),\n",
       " ('2013-09-29 06:32:35.847', 3),\n",
       " ('2013-10-15 02:46:55.474', 3),\n",
       " ('2013-10-15 03:22:39.697', 3),\n",
       " ('2013-10-15 03:29:08.587', 3),\n",
       " ('2013-10-15 03:58:07.114', 3),\n",
       " ('2013-10-27 02:22:56.244', 3),\n",
       " ('2013-11-11 03:47:17.728', 3),\n",
       " ('2013-11-11 03:51:07.285', 3),\n",
       " ('2013-11-14 00:58:53.156', 3),\n",
       " ('2013-11-14 01:06:03.908', 3),\n",
       " ('2013-11-19 05:16:23.383', 3),\n",
       " ('2013-11-19 05:22:51.597', 3),\n",
       " ('2013-12-08 04:37:45.854', 3),\n",
       " ('2013-12-20 02:37:51.459', 3),\n",
       " ('2013-12-20 02:45:02.509', 3),\n",
       " ('2013-12-20 02:52:10.605', 3),\n",
       " ('2014-01-19 02:17:13.608', 3),\n",
       " ('2014-01-19 02:36:44.09 ', 3),\n",
       " ('2014-08-21 08:12:20.895', 3),\n",
       " ('2014-08-21 08:18:48.049', 3),\n",
       " ('2014-08-21 08:25:15.039', 3),\n",
       " ('2014-08-21 08:31:41.464', 3),\n",
       " ('2014-08-29 09:23:44.627', 3),\n",
       " ('2014-08-29 09:30:12.112', 3),\n",
       " ('2014-08-29 09:36:39.663', 3),\n",
       " ('2014-08-29 09:43:07.293', 3),\n",
       " ('2014-08-29 09:49:34.949', 3),\n",
       " ('2014-09-24 05:07:58.371', 3),\n",
       " ('2014-10-01 04:34:13.234', 3),\n",
       " ('2014-10-01 04:40:42.15 ', 3),\n",
       " ('2014-10-01 04:47:10.925', 3),\n",
       " ('2014-10-01 05:00:08.068', 3),\n",
       " ('2014-10-06 04:22:10.863', 3),\n",
       " ('2014-10-13 06:35:04.1  ', 3),\n",
       " ('2014-10-13 06:41:33.367', 3),\n",
       " ('2014-10-13 06:48:01.078', 3),\n",
       " ('2014-10-19 03:43:56.232', 3),\n",
       " ('2014-10-19 03:50:24.581', 3),\n",
       " ('2014-10-19 03:56:52.471', 3),\n",
       " ('2014-10-31 04:07:01.37 ', 3),\n",
       " ('2014-10-31 04:13:29.48 ', 3),\n",
       " ('2014-10-31 04:19:56.439', 3),\n",
       " ('2014-10-31 04:32:51.508', 3),\n",
       " ('2014-11-01 06:42:22.066', 3),\n",
       " ('2014-11-01 06:48:50.519', 3),\n",
       " ('2014-11-01 06:55:18.854', 3),\n",
       " ('2014-11-01 07:01:46.219', 3),\n",
       " ('2014-11-01 07:08:14.057', 3),\n",
       " ('2014-11-12 01:16:54.213', 3),\n",
       " ('2014-11-12 01:23:22.711', 3),\n",
       " ('2014-11-12 01:29:50.764', 3),\n",
       " ('2014-11-19 02:30:15.753', 3),\n",
       " ('2014-11-19 02:36:43.514', 3),\n",
       " ('2014-11-19 02:43:11    ', 3),\n",
       " ('2014-11-19 02:49:39.51 ', 3),\n",
       " ('2014-11-19 02:56:07.868', 3),\n",
       " ('2014-11-26 02:37:20.164', 3),\n",
       " ('2014-11-26 02:43:49.496', 3),\n",
       " ('2014-11-26 02:50:17.531', 3),\n",
       " ('2014-11-26 02:56:45.474', 3),\n",
       " ('2014-11-26 03:03:14.019', 3),\n",
       " ('2014-12-10 01:49:00.613', 3),\n",
       " ('2014-12-10 01:55:29.054', 3),\n",
       " ('2014-12-10 02:01:58.982', 3),\n",
       " ('2014-12-10 02:08:27.999', 3),\n",
       " ('2014-12-10 02:14:57.466', 3),\n",
       " ('2014-12-27 04:07:07.53 ', 3),\n",
       " ('2015-01-03 02:59:26.562', 3),\n",
       " ('2015-01-03 03:05:55.09 ', 3),\n",
       " ('2015-01-03 03:12:23.425', 3),\n",
       " ('2015-01-17 01:11:48.059', 3),\n",
       " ('2015-01-22 02:12:48.828', 3),\n",
       " ('2015-01-22 02:19:16.498', 3),\n",
       " ('2015-01-22 02:25:43.649', 3),\n",
       " ('2015-01-29 01:55:34.056', 3),\n",
       " ('2015-01-29 02:02:01.608', 3),\n",
       " ('2015-01-29 02:08:29.17 ', 3),\n",
       " ('2015-01-29 02:14:58.482', 3),\n",
       " ('2015-01-29 02:21:27.988', 3),\n",
       " ('2015-08-15 07:44:02.522', 3),\n",
       " ('2015-08-15 07:56:58.897', 3),\n",
       " ('2015-08-15 08:03:26.194', 3),\n",
       " ('2015-08-19 08:56:23.913', 3),\n",
       " ('2015-08-19 09:02:52.561', 3),\n",
       " ('2015-08-19 09:09:20.727', 3),\n",
       " ('2015-08-19 09:15:49.121', 3),\n",
       " ('2015-08-19 09:22:16.611', 3),\n",
       " ('2015-08-23 08:33:59.226', 3),\n",
       " ('2015-08-23 08:40:27.504', 3),\n",
       " ('2015-08-23 08:46:55.862', 3),\n",
       " ('2015-08-23 08:53:23.131', 3),\n",
       " ('2015-08-31 09:23:20.835', 3),\n",
       " ('2015-08-31 09:29:48.479', 3),\n",
       " ('2015-08-31 09:36:16.733', 3),\n",
       " ('2015-08-31 09:42:45.42 ', 3),\n",
       " ('2015-08-31 09:49:13.993', 3),\n",
       " ('2015-09-03 05:41:23.293', 3),\n",
       " ('2015-09-03 05:48:31.067', 3),\n",
       " ('2015-09-03 05:55:39.614', 3),\n",
       " ('2015-09-08 08:19:02.498', 3),\n",
       " ('2015-09-08 08:25:29.965', 3),\n",
       " ('2015-09-18 04:32:40.384', 3),\n",
       " ('2015-09-18 04:39:09.575', 3),\n",
       " ('2015-09-18 04:45:38.616', 3),\n",
       " ('2015-09-22 04:19:03.2  ', 3),\n",
       " ('2015-09-22 04:22:51.518', 3),\n",
       " ('2015-09-22 04:26:39.504', 3),\n",
       " ('2015-09-22 05:48:40.506', 3),\n",
       " ('2015-09-22 06:26:08.771', 3),\n",
       " ('2015-09-22 06:32:37.581', 3),\n",
       " ('2015-09-22 06:39:05.83 ', 3),\n",
       " ('2015-09-22 06:45:34.284', 3),\n",
       " ('2015-09-26 04:00:57.599', 3),\n",
       " ('2015-09-26 04:07:25.766', 3),\n",
       " ('2015-09-26 04:13:53.971', 3),\n",
       " ('2015-09-26 04:20:23.166', 3),\n",
       " ('2015-09-26 04:26:52.051', 3),\n",
       " ('2015-09-26 05:39:15.453', 3),\n",
       " ('2015-09-26 05:46:25.044', 3),\n",
       " ('2015-09-26 05:53:34.233', 3),\n",
       " ('2015-10-02 06:10:26.857', 3),\n",
       " ('2015-10-02 06:24:43.892', 3),\n",
       " ('2015-10-02 06:33:38.865', 3),\n",
       " ('2015-10-02 06:40:07.199', 3),\n",
       " ('2015-10-02 06:46:35.865', 3),\n",
       " ('2015-10-02 06:53:04.912', 3),\n",
       " ('2015-10-02 06:59:33.666', 3),\n",
       " ('2015-10-06 07:45:24.34 ', 3),\n",
       " ('2015-10-07 07:19:56.875', 3),\n",
       " ('2015-10-07 07:23:44.735', 3),\n",
       " ('2015-10-07 07:27:32.348', 3),\n",
       " ('2015-10-08 05:32:38.055', 3),\n",
       " ('2015-10-10 07:01:06.243', 3),\n",
       " ('2015-10-10 07:08:15.585', 3),\n",
       " ('2015-10-10 07:15:23.774', 3),\n",
       " ('2015-10-10 07:24:19.046', 3),\n",
       " ('2015-10-10 07:30:48.022', 3),\n",
       " ('2015-10-10 07:37:15.984', 3),\n",
       " ('2015-10-10 07:43:44.569', 3),\n",
       " ('2015-10-10 07:50:13.177', 3),\n",
       " ('2015-10-16 02:52:47.127', 3),\n",
       " ('2015-10-16 03:15:58.383', 3),\n",
       " ('2015-10-16 03:22:26.846', 3),\n",
       " ('2015-10-16 03:41:52.356', 3),\n",
       " ('2015-10-20 05:15:57.857', 3),\n",
       " ('2015-10-20 05:19:47.24 ', 3),\n",
       " ('2015-10-20 05:50:46.253', 3),\n",
       " ('2015-10-20 05:57:55.282', 3),\n",
       " ('2015-10-20 06:05:03.982', 3),\n",
       " ('2015-10-21 02:26:46.103', 3),\n",
       " ('2015-10-21 02:33:15.036', 3),\n",
       " ('2015-10-24 02:46:48.32 ', 3),\n",
       " ('2015-10-24 02:53:56.814', 3),\n",
       " ('2015-10-24 03:01:04.934', 3),\n",
       " ('2015-10-24 06:57:04.79 ', 3),\n",
       " ('2015-10-24 07:00:52.993', 3),\n",
       " ('2015-10-24 07:04:40.96 ', 3),\n",
       " ('2015-10-30 01:58:12.374', 3),\n",
       " ('2015-10-30 02:04:40.276', 3),\n",
       " ('2015-10-30 02:11:09.85 ', 3),\n",
       " ('2015-10-30 02:17:38.896', 3),\n",
       " ('2015-10-30 02:24:07.155', 3),\n",
       " ('2015-11-01 04:37:32.364', 3),\n",
       " ('2015-11-13 04:41:00.775', 3),\n",
       " ('2015-11-19 03:13:11.007', 3),\n",
       " ('2015-11-19 03:19:38.95 ', 3),\n",
       " ('2015-11-19 03:26:07.453', 3),\n",
       " ('2015-11-19 03:32:35.71 ', 3),\n",
       " ('2015-11-19 03:39:05.162', 3),\n",
       " ('2015-11-29 04:28:02.39 ', 3),\n",
       " ('2015-11-29 04:34:34.117', 3),\n",
       " ('2015-11-29 04:41:03.583', 3),\n",
       " ('2015-11-29 04:47:32.148', 3),\n",
       " ('2015-12-03 04:52:02.731', 3),\n",
       " ('2015-12-03 04:59:12.226', 3),\n",
       " ('2015-12-03 05:06:19.683', 3),\n",
       " ('2015-12-09 02:09:45.386', 3),\n",
       " ('2015-12-09 02:22:42.529', 3),\n",
       " ('2015-12-16 01:55:32.628', 3),\n",
       " ('2015-12-16 02:02:01.196', 3),\n",
       " ('2015-12-16 02:08:29.936', 3),\n",
       " ('2015-12-16 02:14:57.286', 3),\n",
       " ('2015-12-20 02:19:14.367', 3),\n",
       " ('2015-12-20 02:26:22.721', 3),\n",
       " ('2015-12-20 02:33:30.153', 3),\n",
       " ('2015-12-29 00:58:07.681', 3),\n",
       " ('2015-12-29 01:04:37.256', 3),\n",
       " ('2015-12-29 01:11:07.026', 3),\n",
       " ('2015-12-29 01:24:04.756', 3),\n",
       " ('2016-01-02 02:02:41.774', 3),\n",
       " ('2016-01-02 02:09:10.758', 3),\n",
       " ('2016-01-02 02:15:39.954', 3),\n",
       " ('2016-01-02 02:28:37.589', 3),\n",
       " ('2016-01-09 01:44:37.384', 3),\n",
       " ('2016-01-09 01:51:02.935', 3),\n",
       " ('2016-01-09 01:57:31.528', 3),\n",
       " ('2016-01-09 02:04:00.44 ', 3),\n",
       " ('2016-01-09 02:10:29.476', 3),\n",
       " ('2016-01-16 01:44:51.056', 3),\n",
       " ('2016-01-16 01:51:20.359', 3),\n",
       " ('2016-01-16 01:57:49.165', 3),\n",
       " ('2016-01-16 02:10:46.823', 3),\n",
       " ('2016-01-19 02:24:08.316', 3),\n",
       " ('2016-01-19 02:31:17.306', 3),\n",
       " ('2016-01-19 02:38:25.428', 3),\n",
       " ('2016-08-14 07:53:55.973', 3),\n",
       " ('2016-08-14 08:00:24.582', 3),\n",
       " ('2016-08-14 08:06:52.849', 3),\n",
       " ('2016-08-14 08:13:21.615', 3),\n",
       " ('2016-08-14 08:19:52.043', 3),\n",
       " ('2016-08-14 08:27:58.819', 3),\n",
       " ('2016-08-14 08:35:06.921', 3),\n",
       " ('2016-08-14 08:42:14.977', 3),\n",
       " ('2016-08-14 08:51:03.899', 3),\n",
       " ('2016-08-14 08:54:52.845', 3),\n",
       " ('2016-08-14 08:58:41.024', 3),\n",
       " ('2016-08-24 06:18:27.949', 3),\n",
       " ('2016-08-24 06:22:16.842', 3),\n",
       " ('2016-08-24 06:26:06.136', 3),\n",
       " ('2016-08-24 06:46:18.958', 3),\n",
       " ('2016-08-24 06:53:26.723', 3),\n",
       " ('2016-08-24 07:00:34.895', 3),\n",
       " ('2016-08-24 07:09:22.898', 3),\n",
       " ('2016-08-24 07:15:51.664', 3),\n",
       " ('2016-08-24 07:22:19.389', 3),\n",
       " ('2016-08-24 07:28:48.629', 3),\n",
       " ('2016-08-24 07:35:17.157', 3),\n",
       " ('2016-08-25 06:16:57.642', 3),\n",
       " ('2016-08-25 06:20:46.725', 3),\n",
       " ('2016-08-25 06:24:36.004', 3),\n",
       " ('2016-08-25 06:29:49.126', 3),\n",
       " ('2016-08-25 06:36:58.236', 3),\n",
       " ('2016-08-25 06:44:07.181', 3),\n",
       " ('2016-08-25 07:31:45.733', 3),\n",
       " ('2016-08-25 07:38:15.96 ', 3),\n",
       " ('2016-08-25 07:44:44.919', 3),\n",
       " ('2016-08-25 07:51:13.485', 3),\n",
       " ('2016-08-25 07:57:41.721', 3),\n",
       " ('2016-08-26 06:03:52.268', 3),\n",
       " ('2016-08-26 06:10:21.586', 3),\n",
       " ('2016-08-26 06:16:50.345', 3),\n",
       " ('2016-08-26 06:23:17.997', 3),\n",
       " ('2016-08-26 06:29:47.945', 3),\n",
       " ('2016-08-31 06:12:04.639', 3),\n",
       " ('2016-08-31 06:15:54.44 ', 3),\n",
       " ('2016-08-31 06:19:42.374', 3),\n",
       " ('2016-08-31 07:03:44.008', 3),\n",
       " ('2016-08-31 07:10:53.149', 3),\n",
       " ('2016-08-31 07:18:02.855', 3),\n",
       " ('2016-09-02 05:44:51.367', 3),\n",
       " ('2016-09-02 05:51:19.652', 3),\n",
       " ('2016-09-02 05:57:48.201', 3),\n",
       " ('2016-09-02 06:04:16.521', 3),\n",
       " ('2016-09-02 06:10:45.615', 3),\n",
       " ('2016-09-06 05:52:46.665', 3),\n",
       " ('2016-09-06 05:59:15.902', 3),\n",
       " ('2016-09-06 06:05:43.305', 3),\n",
       " ('2016-09-06 06:12:10.983', 3),\n",
       " ('2016-09-06 06:18:40.577', 3),\n",
       " ('2016-09-12 05:34:22.274', 3),\n",
       " ('2016-09-12 05:40:49.971', 3),\n",
       " ('2016-09-12 05:47:18.256', 3),\n",
       " ('2016-09-12 05:53:45.757', 3),\n",
       " ('2016-09-12 06:00:14.523', 3),\n",
       " ('2016-09-14 08:27:02.899', 3),\n",
       " ('2016-09-14 08:33:31.22 ', 3),\n",
       " ('2016-09-14 08:39:59.497', 3),\n",
       " ('2016-09-14 08:46:28.226', 3),\n",
       " ('2016-09-14 08:52:56.772', 3),\n",
       " ('2016-09-22 04:59:08.265', 3),\n",
       " ('2016-09-22 05:05:38.114', 3),\n",
       " ('2016-09-22 05:12:06.432', 3),\n",
       " ('2016-09-22 05:18:34.285', 3),\n",
       " ('2016-09-22 05:25:02.448', 3),\n",
       " ('2016-09-24 04:31:07.065', 3),\n",
       " ('2016-09-24 04:37:34.504', 3),\n",
       " ('2016-09-24 04:44:02.297', 3),\n",
       " ('2016-09-24 04:50:30.908', 3),\n",
       " ('2016-09-24 04:56:59.228', 3),\n",
       " ('2016-10-01 03:37:52.448', 3),\n",
       " ('2016-10-01 03:44:21.806', 3),\n",
       " ('2016-10-01 03:50:49.431', 3),\n",
       " ('2016-10-01 03:57:17.269', 3),\n",
       " ('2016-10-01 04:03:46.442', 3),\n",
       " ...]"
      ]
     },
     "execution_count": 17,
     "metadata": {},
     "output_type": "execute_result"
    }
   ],
   "source": [
    "Counter(T.date_obs).most_common()"
   ]
  },
  {
   "cell_type": "code",
   "execution_count": 18,
   "metadata": {},
   "outputs": [
    {
     "data": {
      "text/plain": [
       "1170"
      ]
     },
     "execution_count": 18,
     "metadata": {},
     "output_type": "execute_result"
    }
   ],
   "source": [
    "len(np.unique(T.date_obs))"
   ]
  },
  {
   "cell_type": "code",
   "execution_count": 19,
   "metadata": {},
   "outputs": [
    {
     "data": {
      "text/plain": [
       "array(['c4d_150107_011031_oow_g_d2.fits.fz',\n",
       "       'tu4556124.fits.fz                 ',\n",
       "       'c4d_150107_011031_ood_g_d2.fits.fz',\n",
       "       'c4d_150107_011031_oow_g_v1.fits.fz',\n",
       "       'c4d_150107_011031_ooi_g_d2.fits.fz',\n",
       "       'c4d_150107_011031_ood_g_v1.fits.fz',\n",
       "       'c4d_150107_011031_ooi_g_v1.fits.fz',\n",
       "       'c4d_150107_011031_oow_g_a1.fits.fz',\n",
       "       'c4d_150107_011031_ood_g_a1.fits.fz',\n",
       "       'c4d_150107_011031_ooi_g_a1.fits.fz',\n",
       "       'tu4556866.fits.fz                 ',\n",
       "       'tu4556065.fits.fz                 '],\n",
       "      dtype='<U34')"
      ]
     },
     "execution_count": 19,
     "metadata": {},
     "output_type": "execute_result"
    }
   ],
   "source": [
    "T[T.date_obs == '2015-01-07 01:06:23.817'].archive_file"
   ]
  },
  {
   "cell_type": "code",
   "execution_count": 20,
   "metadata": {},
   "outputs": [
    {
     "data": {
      "text/plain": [
       "6143"
      ]
     },
     "execution_count": 20,
     "metadata": {},
     "output_type": "execute_result"
    }
   ],
   "source": [
    "I = [f.startswith('c4d') for f in T.archive_file]\n",
    "Counter(I)\n",
    "T.cut(I)\n",
    "len(T)"
   ]
  },
  {
   "cell_type": "code",
   "execution_count": 21,
   "metadata": {
    "collapsed": true
   },
   "outputs": [],
   "source": [
    "T.cpver = np.array([f.split('_')[-1].split('.')[0] for f in T.archive_file])"
   ]
  },
  {
   "cell_type": "code",
   "execution_count": 22,
   "metadata": {},
   "outputs": [
    {
     "data": {
      "text/plain": [
       "Counter({'a1': 564, 'd1': 552, 'd2': 1538, 'v1': 3084, 'v2': 405})"
      ]
     },
     "execution_count": 22,
     "metadata": {},
     "output_type": "execute_result"
    }
   ],
   "source": [
    "Counter(T.cpver)"
   ]
  },
  {
   "cell_type": "code",
   "execution_count": 23,
   "metadata": {},
   "outputs": [],
   "source": [
    "I = np.argsort(T.cpver)\n",
    "T.cut(list(reversed(I)))"
   ]
  },
  {
   "cell_type": "code",
   "execution_count": 24,
   "metadata": {},
   "outputs": [],
   "source": [
    "T.cptype = np.array([f.split('_')[3] for f in T.archive_file])\n",
    "Counter(T.cptype)\n",
    "T.cut(T.cptype == 'ooi')"
   ]
  },
  {
   "cell_type": "code",
   "execution_count": 25,
   "metadata": {},
   "outputs": [
    {
     "name": "stdout",
     "output_type": "stream",
     "text": [
      "1149\n"
     ]
    }
   ],
   "source": [
    "d,I = np.unique(T.date_obs, return_index=True)\n",
    "print(len(I))\n",
    "T.cut(I)"
   ]
  },
  {
   "cell_type": "code",
   "execution_count": 26,
   "metadata": {
    "collapsed": true
   },
   "outputs": [],
   "source": [
    "T.night = np.array([f.split('_')[1] for f in T.archive_file])"
   ]
  },
  {
   "cell_type": "code",
   "execution_count": 27,
   "metadata": {},
   "outputs": [
    {
     "data": {
      "text/plain": [
       "192"
      ]
     },
     "execution_count": 27,
     "metadata": {},
     "output_type": "execute_result"
    }
   ],
   "source": [
    "len(np.unique(T.night))"
   ]
  },
  {
   "cell_type": "code",
   "execution_count": 28,
   "metadata": {
    "collapsed": true
   },
   "outputs": [],
   "source": [
    "def onepernight(T, band):\n",
    "    G = []\n",
    "    nights = set()\n",
    "    I, = np.nonzero([f[0] == band for f in T.filter])\n",
    "    for i in I:\n",
    "        if T.night[i] in nights:\n",
    "            continue\n",
    "        G.append(i)\n",
    "        nights.add(T.night[i])\n",
    "    return np.array(G)"
   ]
  },
  {
   "cell_type": "code",
   "execution_count": 29,
   "metadata": {},
   "outputs": [
    {
     "name": "stdout",
     "output_type": "stream",
     "text": [
      "109\n",
      "108\n",
      "102\n"
     ]
    }
   ],
   "source": [
    "G = onepernight(T, 'g')\n",
    "print(len(G))\n",
    "R = onepernight(T, 'r')\n",
    "print(len(R))\n",
    "I = onepernight(T, 'i')\n",
    "print(len(I))"
   ]
  },
  {
   "cell_type": "code",
   "execution_count": 30,
   "metadata": {},
   "outputs": [
    {
     "data": {
      "text/plain": [
       "array(['c4d_121107_043013_ooi_g_a1.fits.fz',\n",
       "       'c4d_121109_024422_ooi_g_a1.fits.fz',\n",
       "       'c4d_121111_025927_ooi_g_a1.fits.fz',\n",
       "       'c4d_121119_030817_ooi_g_a1.fits.fz',\n",
       "       'c4d_121205_034100_ooi_g_d2.fits.fz',\n",
       "       'c4d_121210_025736_ooi_g_d2.fits.fz',\n",
       "       'c4d_121216_035058_ooi_g_d2.fits.fz',\n",
       "       'c4d_121223_041344_ooi_g_d2.fits.fz',\n",
       "       'c4d_121229_035133_ooi_g_d2.fits.fz',\n",
       "       'c4d_130105_022318_ooi_g_d2.fits.fz',\n",
       "       'c4d_130116_012419_ooi_g_d2.fits.fz',\n",
       "       'c4d_130901_045845_ooi_g_v1.fits.fz',\n",
       "       'c4d_130908_052142_ooi_g_v1.fits.fz',\n",
       "       'c4d_130912_065907_ooi_g_v1.fits.fz',\n",
       "       'c4d_130928_040232_ooi_g_v1.fits.fz',\n",
       "       'c4d_131002_055814_ooi_g_v1.fits.fz',\n",
       "       'c4d_131010_050908_ooi_g_v1.fits.fz',\n",
       "       'c4d_131014_045411_ooi_g_v1.fits.fz',\n",
       "       'c4d_131026_044420_ooi_g_v1.fits.fz',\n",
       "       'c4d_131030_023251_ooi_g_v1.fits.fz',\n",
       "       'c4d_131106_032758_ooi_g_v1.fits.fz',\n",
       "       'c4d_131111_034717_ooi_g_v1.fits.fz',\n",
       "       'c4d_131121_004800_ooi_g_v1.fits.fz',\n",
       "       'c4d_131201_013630_ooi_g_v1.fits.fz',\n",
       "       'c4d_131208_044158_ooi_g_v1.fits.fz',\n",
       "       'c4d_131209_032811_ooi_g_v1.fits.fz',\n",
       "       'c4d_131220_015502_ooi_g_d2.fits.fz',\n",
       "       'c4d_131227_024751_ooi_g_v1.fits.fz',\n",
       "       'c4d_140104_011203_ooi_g_v1.fits.fz',\n",
       "       'c4d_140119_014659_ooi_g_v1.fits.fz',\n",
       "       'c4d_140126_015456_ooi_g_v1.fits.fz',\n",
       "       'c4d_140202_015810_ooi_g_v1.fits.fz',\n",
       "       'c4d_140209_015815_ooi_g_v1.fits.fz',\n",
       "       'c4d_140821_063552_ooi_g_v1.fits.fz',\n",
       "       'c4d_140829_060703_ooi_g_v1.fits.fz',\n",
       "       'c4d_140903_054501_ooi_g_v1.fits.fz',\n",
       "       'c4d_140915_061146_ooi_g_v1.fits.fz',\n",
       "       'c4d_140916_044250_ooi_g_v1.fits.fz',\n",
       "       'c4d_140920_042712_ooi_g_v1.fits.fz',\n",
       "       'c4d_140925_042114_ooi_g_v1.fits.fz',\n",
       "       'c4d_141002_034231_ooi_g_v1.fits.fz',\n",
       "       'c4d_141013_044103_ooi_g_v1.fits.fz',\n",
       "       'c4d_141019_030510_ooi_g_v1.fits.fz',\n",
       "       'c4d_141026_051644_ooi_g_v1.fits.fz',\n",
       "       'c4d_141030_055952_ooi_g_v1.fits.fz',\n",
       "       'c4d_141112_020911_ooi_g_v1.fits.fz',\n",
       "       'c4d_141119_015810_ooi_g_v1.fits.fz',\n",
       "       'c4d_141125_052547_ooi_g_v1.fits.fz',\n",
       "       'c4d_141126_020515_ooi_g_v1.fits.fz',\n",
       "       'c4d_141129_020600_ooi_g_v1.fits.fz',\n",
       "       'c4d_141210_011648_ooi_g_v1.fits.fz',\n",
       "       'c4d_141214_020718_ooi_g_v1.fits.fz',\n",
       "       'c4d_141221_022234_ooi_g_v1.fits.fz',\n",
       "       'c4d_141227_022617_ooi_g_v1.fits.fz',\n",
       "       'c4d_150107_011031_ooi_g_v1.fits.fz',\n",
       "       'c4d_150114_010350_ooi_g_v1.fits.fz',\n",
       "       'c4d_150120_013641_ooi_g_v1.fits.fz',\n",
       "       'c4d_150127_012439_ooi_g_v1.fits.fz',\n",
       "       'c4d_150815_070528_ooi_g_v1.fits.fz',\n",
       "       'c4d_150819_081759_ooi_g_v1.fits.fz',\n",
       "       'c4d_150823_074854_ooi_g_v1.fits.fz',\n",
       "       'c4d_150904_053122_ooi_g_v1.fits.fz',\n",
       "       'c4d_150913_061507_ooi_g_v1.fits.fz',\n",
       "       'c4d_150922_042315_ooi_g_v1.fits.fz',\n",
       "       'c4d_151003_084234_ooi_g_v1.fits.fz',\n",
       "       'c4d_151007_072404_ooi_g_v1.fits.fz',\n",
       "       'c4d_151008_053647_ooi_g_v1.fits.fz',\n",
       "       'c4d_151016_063416_ooi_g_v1.fits.fz',\n",
       "       'c4d_151020_052008_ooi_g_v1.fits.fz',\n",
       "       'c4d_151024_070114_ooi_g_v1.fits.fz',\n",
       "       'c4d_151101_015418_ooi_g_v1.fits.fz',\n",
       "       'c4d_151105_014050_ooi_g_v1.fits.fz',\n",
       "       'c4d_151113_041744_ooi_g_v1.fits.fz',\n",
       "       'c4d_151119_015830_ooi_g_v1.fits.fz',\n",
       "       'c4d_151120_005840_ooi_g_v1.fits.fz',\n",
       "       'c4d_151130_024134_ooi_g_v1.fits.fz',\n",
       "       'c4d_151210_014058_ooi_g_v1.fits.fz',\n",
       "       'c4d_151217_013627_ooi_g_v1.fits.fz',\n",
       "       'c4d_151230_012529_ooi_g_v1.fits.fz',\n",
       "       'c4d_160107_014645_ooi_g_v1.fits.fz',\n",
       "       'c4d_160113_024959_ooi_g_v1.fits.fz',\n",
       "       'c4d_160121_010345_ooi_g_v1.fits.fz',\n",
       "       'c4d_160814_085515_ooi_g_v1.fits.fz',\n",
       "       'c4d_160824_062237_ooi_g_v1.fits.fz',\n",
       "       'c4d_160825_062109_ooi_g_v1.fits.fz',\n",
       "       'c4d_160831_061614_ooi_g_v1.fits.fz',\n",
       "       'c4d_160905_053747_ooi_g_v2.fits.fz',\n",
       "       'c4d_160911_072801_ooi_g_v2.fits.fz',\n",
       "       'c4d_160914_063810_ooi_g_v2.fits.fz',\n",
       "       'c4d_160922_042717_ooi_g_v2.fits.fz',\n",
       "       'c4d_160926_062619_ooi_g_v2.fits.fz',\n",
       "       'c4d_161002_034809_ooi_g_v2.fits.fz',\n",
       "       'c4d_161009_023340_ooi_g_v2.fits.fz',\n",
       "       'c4d_161020_023748_ooi_g_v2.fits.fz',\n",
       "       'c4d_161025_030033_ooi_g_v2.fits.fz',\n",
       "       'c4d_161102_014802_ooi_g_v1.fits.fz',\n",
       "       'c4d_161109_020025_ooi_g_v1.fits.fz',\n",
       "       'c4d_161117_011311_ooi_g_v1.fits.fz',\n",
       "       'c4d_161122_044720_ooi_g_v1.fits.fz',\n",
       "       'c4d_161126_020400_ooi_g_v1.fits.fz',\n",
       "       'c4d_161201_005409_ooi_g_v1.fits.fz',\n",
       "       'c4d_161208_014128_ooi_g_v1.fits.fz',\n",
       "       'c4d_161217_035306_ooi_g_v1.fits.fz',\n",
       "       'c4d_161222_015251_ooi_g_v1.fits.fz',\n",
       "       'c4d_161228_014204_ooi_g_v1.fits.fz',\n",
       "       'c4d_170103_021606_ooi_g_v2.fits.fz',\n",
       "       'c4d_170117_010414_ooi_g_v1.fits.fz',\n",
       "       'c4d_170125_005949_ooi_g_v1.fits.fz',\n",
       "       'c4d_170129_010824_ooi_g_v1.fits.fz'],\n",
       "      dtype='<U34')"
      ]
     },
     "execution_count": 30,
     "metadata": {},
     "output_type": "execute_result"
    }
   ],
   "source": [
    "T.archive_file[G]"
   ]
  },
  {
   "cell_type": "code",
   "execution_count": 31,
   "metadata": {},
   "outputs": [
    {
     "data": {
      "image/png": "[encoded data removed]",
      "text/plain": [
       "<matplotlib.figure.Figure at 0x10ca3c198>"
      ]
     },
     "metadata": {},
     "output_type": "display_data"
    }
   ],
   "source": [
    "plt.plot(T.ra[G], T.dec[G], 'g.');"
   ]
  },
  {
   "cell_type": "code",
   "execution_count": 32,
   "metadata": {
    "scrolled": true
   },
   "outputs": [
    {
     "name": "stdout",
     "output_type": "stream",
     "text": [
      "('c4d_160825_062109_ooi_g_v1.fits.fz','c4d_160831_061614_ooi_g_v1.fits.fz','c4d_160905_053747_ooi_g_v2.fits.fz','c4d_160911_072801_ooi_g_v2.fits.fz','c4d_160914_063810_ooi_g_v2.fits.fz','c4d_160922_042717_ooi_g_v2.fits.fz','c4d_160926_062619_ooi_g_v2.fits.fz','c4d_161002_034809_ooi_g_v2.fits.fz','c4d_161009_023340_ooi_g_v2.fits.fz','c4d_161020_023748_ooi_g_v2.fits.fz','c4d_161025_030033_ooi_g_v2.fits.fz','c4d_161102_014802_ooi_g_v1.fits.fz','c4d_161109_020025_ooi_g_v1.fits.fz','c4d_161117_011311_ooi_g_v1.fits.fz','c4d_161122_044720_ooi_g_v1.fits.fz','c4d_161126_020400_ooi_g_v1.fits.fz','c4d_161201_005409_ooi_g_v1.fits.fz','c4d_161208_014128_ooi_g_v1.fits.fz','c4d_161217_035306_ooi_g_v1.fits.fz','c4d_161222_015251_ooi_g_v1.fits.fz','c4d_161228_014204_ooi_g_v1.fits.fz','c4d_170103_021606_ooi_g_v2.fits.fz','c4d_170117_010414_ooi_g_v1.fits.fz','c4d_170125_005949_ooi_g_v1.fits.fz','c4d_170129_010824_ooi_g_v1.fits.fz','c4d_160905_061034_ooi_r_v2.fits.fz','c4d_160911_080833_ooi_r_v2.fits.fz','c4d_160914_070409_ooi_r_v2.fits.fz','c4d_160922_044336_ooi_r_v2.fits.fz','c4d_160924_041540_ooi_r_v2.fits.fz','c4d_160929_084249_ooi_r_v2.fits.fz','c4d_161003_033717_ooi_r_v2.fits.fz','c4d_161010_024149_ooi_r_v2.fits.fz','c4d_161020_050137_ooi_r_v2.fits.fz','c4d_161025_031648_ooi_r_v2.fits.fz','c4d_161102_020431_ooi_r_v1.fits.fz','c4d_161109_021639_ooi_r_v1.fits.fz','c4d_161116_023814_ooi_r_v1.fits.fz','c4d_161117_012925_ooi_r_v1.fits.fz','c4d_161123_010119_ooi_r_v1.fits.fz','c4d_161128_044900_ooi_r_v1.fits.fz','c4d_161203_005355_ooi_r_v1.fits.fz','c4d_161208_043515_ooi_r_v1.fits.fz','c4d_161218_015027_ooi_r_v1.fits.fz','c4d_161225_015224_ooi_r_v1.fits.fz','c4d_161230_021140_ooi_r_v1.fits.fz','c4d_170108_020538_ooi_r_v2.fits.fz','c4d_170110_011738_ooi_r_v2.fits.fz','c4d_170120_015427_ooi_r_v1.fits.fz','c4d_170128_014059_ooi_r_v1.fits.fz','c4d_160906_055935_ooi_i_v1.fits.fz','c4d_160912_054112_ooi_i_v1.fits.fz','c4d_160914_083353_ooi_i_v1.fits.fz','c4d_160922_050558_ooi_i_v1.fits.fz','c4d_160924_043757_ooi_i_v1.fits.fz','c4d_161001_034441_ooi_i_v1.fits.fz','c4d_161008_030729_ooi_i_v1.fits.fz','c4d_161012_072747_ooi_i_v1.fits.fz','c4d_161020_065109_ooi_i_v1.fits.fz','c4d_161025_062345_ooi_i_v1.fits.fz','c4d_161102_022642_ooi_i_v1.fits.fz','c4d_161109_023903_ooi_i_v1.fits.fz','c4d_161116_030040_ooi_i_v1.fits.fz','c4d_161122_015030_ooi_i_v1.fits.fz','c4d_161126_035047_ooi_i_v1.fits.fz','c4d_161201_010953_ooi_i_v1.fits.fz','c4d_161208_015707_ooi_i_v1.fits.fz','c4d_161218_021249_ooi_i_v1.fits.fz','c4d_161225_021441_ooi_i_v1.fits.fz','c4d_161230_025052_ooi_i_v1.fits.fz','c4d_170108_022802_ooi_i_v1.fits.fz','c4d_170109_013725_ooi_i_v1.fits.fz','c4d_170119_012443_ooi_i_v1.fits.fz','c4d_170127_014020_ooi_i_v1.fits.fz','c4d_170207_005508_ooi_i_v1.fits.fz','c4d_160825_062109_ood_g_v1.fits.fz','c4d_160831_061614_ood_g_v1.fits.fz','c4d_160905_053747_ood_g_v2.fits.fz','c4d_160911_072801_ood_g_v2.fits.fz','c4d_160914_063810_ood_g_v2.fits.fz','c4d_160922_042717_ood_g_v2.fits.fz','c4d_160926_062619_ood_g_v2.fits.fz','c4d_161002_034809_ood_g_v2.fits.fz','c4d_161009_023340_ood_g_v2.fits.fz','c4d_161020_023748_ood_g_v2.fits.fz','c4d_161025_030033_ood_g_v2.fits.fz','c4d_161102_014802_ood_g_v1.fits.fz','c4d_161109_020025_ood_g_v1.fits.fz','c4d_161117_011311_ood_g_v1.fits.fz','c4d_161122_044720_ood_g_v1.fits.fz','c4d_161126_020400_ood_g_v1.fits.fz','c4d_161201_005409_ood_g_v1.fits.fz','c4d_161208_014128_ood_g_v1.fits.fz','c4d_161217_035306_ood_g_v1.fits.fz','c4d_161222_015251_ood_g_v1.fits.fz','c4d_161228_014204_ood_g_v1.fits.fz','c4d_170103_021606_ood_g_v2.fits.fz','c4d_170117_010414_ood_g_v1.fits.fz','c4d_170125_005949_ood_g_v1.fits.fz','c4d_170129_010824_ood_g_v1.fits.fz','c4d_160905_061034_ood_r_v2.fits.fz','c4d_160911_080833_ood_r_v2.fits.fz','c4d_160914_070409_ood_r_v2.fits.fz','c4d_160922_044336_ood_r_v2.fits.fz','c4d_160924_041540_ood_r_v2.fits.fz','c4d_160929_084249_ood_r_v2.fits.fz','c4d_161003_033717_ood_r_v2.fits.fz','c4d_161010_024149_ood_r_v2.fits.fz','c4d_161020_050137_ood_r_v2.fits.fz','c4d_161025_031648_ood_r_v2.fits.fz','c4d_161102_020431_ood_r_v1.fits.fz','c4d_161109_021639_ood_r_v1.fits.fz','c4d_161116_023814_ood_r_v1.fits.fz','c4d_161117_012925_ood_r_v1.fits.fz','c4d_161123_010119_ood_r_v1.fits.fz','c4d_161128_044900_ood_r_v1.fits.fz','c4d_161203_005355_ood_r_v1.fits.fz','c4d_161208_043515_ood_r_v1.fits.fz','c4d_161218_015027_ood_r_v1.fits.fz','c4d_161225_015224_ood_r_v1.fits.fz','c4d_161230_021140_ood_r_v1.fits.fz','c4d_170108_020538_ood_r_v2.fits.fz','c4d_170110_011738_ood_r_v2.fits.fz','c4d_170120_015427_ood_r_v1.fits.fz','c4d_170128_014059_ood_r_v1.fits.fz','c4d_160906_055935_ood_i_v1.fits.fz','c4d_160912_054112_ood_i_v1.fits.fz','c4d_160914_083353_ood_i_v1.fits.fz','c4d_160922_050558_ood_i_v1.fits.fz','c4d_160924_043757_ood_i_v1.fits.fz','c4d_161001_034441_ood_i_v1.fits.fz','c4d_161008_030729_ood_i_v1.fits.fz','c4d_161012_072747_ood_i_v1.fits.fz','c4d_161020_065109_ood_i_v1.fits.fz','c4d_161025_062345_ood_i_v1.fits.fz','c4d_161102_022642_ood_i_v1.fits.fz','c4d_161109_023903_ood_i_v1.fits.fz','c4d_161116_030040_ood_i_v1.fits.fz','c4d_161122_015030_ood_i_v1.fits.fz','c4d_161126_035047_ood_i_v1.fits.fz','c4d_161201_010953_ood_i_v1.fits.fz','c4d_161208_015707_ood_i_v1.fits.fz','c4d_161218_021249_ood_i_v1.fits.fz','c4d_161225_021441_ood_i_v1.fits.fz','c4d_161230_025052_ood_i_v1.fits.fz','c4d_170108_022802_ood_i_v1.fits.fz','c4d_170109_013725_ood_i_v1.fits.fz','c4d_170119_012443_ood_i_v1.fits.fz','c4d_170127_014020_ood_i_v1.fits.fz','c4d_170207_005508_ood_i_v1.fits.fz','c4d_160825_062109_oow_g_v1.fits.fz','c4d_160831_061614_oow_g_v1.fits.fz','c4d_160905_053747_oow_g_v2.fits.fz','c4d_160911_072801_oow_g_v2.fits.fz','c4d_160914_063810_oow_g_v2.fits.fz','c4d_160922_042717_oow_g_v2.fits.fz','c4d_160926_062619_oow_g_v2.fits.fz','c4d_161002_034809_oow_g_v2.fits.fz','c4d_161009_023340_oow_g_v2.fits.fz','c4d_161020_023748_oow_g_v2.fits.fz','c4d_161025_030033_oow_g_v2.fits.fz','c4d_161102_014802_oow_g_v1.fits.fz','c4d_161109_020025_oow_g_v1.fits.fz','c4d_161117_011311_oow_g_v1.fits.fz','c4d_161122_044720_oow_g_v1.fits.fz','c4d_161126_020400_oow_g_v1.fits.fz','c4d_161201_005409_oow_g_v1.fits.fz','c4d_161208_014128_oow_g_v1.fits.fz','c4d_161217_035306_oow_g_v1.fits.fz','c4d_161222_015251_oow_g_v1.fits.fz','c4d_161228_014204_oow_g_v1.fits.fz','c4d_170103_021606_oow_g_v2.fits.fz','c4d_170117_010414_oow_g_v1.fits.fz','c4d_170125_005949_oow_g_v1.fits.fz','c4d_170129_010824_oow_g_v1.fits.fz','c4d_160905_061034_oow_r_v2.fits.fz','c4d_160911_080833_oow_r_v2.fits.fz','c4d_160914_070409_oow_r_v2.fits.fz','c4d_160922_044336_oow_r_v2.fits.fz','c4d_160924_041540_oow_r_v2.fits.fz','c4d_160929_084249_oow_r_v2.fits.fz','c4d_161003_033717_oow_r_v2.fits.fz','c4d_161010_024149_oow_r_v2.fits.fz','c4d_161020_050137_oow_r_v2.fits.fz','c4d_161025_031648_oow_r_v2.fits.fz','c4d_161102_020431_oow_r_v1.fits.fz','c4d_161109_021639_oow_r_v1.fits.fz','c4d_161116_023814_oow_r_v1.fits.fz','c4d_161117_012925_oow_r_v1.fits.fz','c4d_161123_010119_oow_r_v1.fits.fz','c4d_161128_044900_oow_r_v1.fits.fz','c4d_161203_005355_oow_r_v1.fits.fz','c4d_161208_043515_oow_r_v1.fits.fz','c4d_161218_015027_oow_r_v1.fits.fz','c4d_161225_015224_oow_r_v1.fits.fz','c4d_161230_021140_oow_r_v1.fits.fz','c4d_170108_020538_oow_r_v2.fits.fz','c4d_170110_011738_oow_r_v2.fits.fz','c4d_170120_015427_oow_r_v1.fits.fz','c4d_170128_014059_oow_r_v1.fits.fz','c4d_160906_055935_oow_i_v1.fits.fz','c4d_160912_054112_oow_i_v1.fits.fz','c4d_160914_083353_oow_i_v1.fits.fz','c4d_160922_050558_oow_i_v1.fits.fz','c4d_160924_043757_oow_i_v1.fits.fz','c4d_161001_034441_oow_i_v1.fits.fz','c4d_161008_030729_oow_i_v1.fits.fz','c4d_161012_072747_oow_i_v1.fits.fz','c4d_161020_065109_oow_i_v1.fits.fz','c4d_161025_062345_oow_i_v1.fits.fz','c4d_161102_022642_oow_i_v1.fits.fz','c4d_161109_023903_oow_i_v1.fits.fz','c4d_161116_030040_oow_i_v1.fits.fz','c4d_161122_015030_oow_i_v1.fits.fz','c4d_161126_035047_oow_i_v1.fits.fz','c4d_161201_010953_oow_i_v1.fits.fz','c4d_161208_015707_oow_i_v1.fits.fz','c4d_161218_021249_oow_i_v1.fits.fz','c4d_161225_021441_oow_i_v1.fits.fz','c4d_161230_025052_oow_i_v1.fits.fz','c4d_170108_022802_oow_i_v1.fits.fz','c4d_170109_013725_oow_i_v1.fits.fz','c4d_170119_012443_oow_i_v1.fits.fz','c4d_170127_014020_oow_i_v1.fits.fz','c4d_170207_005508_oow_i_v1.fits.fz')\n"
     ]
    }
   ],
   "source": [
    "files = np.hstack((T.archive_file[G[-25:]], T.archive_file[R[-25:]], T.archive_file[I[-25:]]))\n",
    "files = list(files) + [f.replace('_ooi_','_ood_') for f in files] + [f.replace('_ooi_','_oow_') for f in files]\n",
    "print('(' + ','.join(\"'%s'\" % d for d in files) + ')')"
   ]
  },
  {
   "cell_type": "code",
   "execution_count": 33,
   "metadata": {},
   "outputs": [
    {
     "name": "stdout",
     "output_type": "stream",
     "text": [
      "('c4d_160107_014645_ooi_g_v1.fits.fz','c4d_160113_024959_ooi_g_v1.fits.fz','c4d_160121_010345_ooi_g_v1.fits.fz','c4d_160814_085515_ooi_g_v1.fits.fz','c4d_160824_062237_ooi_g_v1.fits.fz','c4d_160119_023138_ooi_r_v1.fits.fz','c4d_160814_083528_ooi_r_v1.fits.fz','c4d_160824_065348_ooi_r_v1.fits.fz','c4d_160825_063720_ooi_r_v1.fits.fz','c4d_160831_071112_ooi_r_v1.fits.fz','c4d_160814_080048_ooi_i_v1.fits.fz','c4d_160824_071610_ooi_i_v1.fits.fz','c4d_160825_073837_ooi_i_v1.fits.fz','c4d_160826_061048_ooi_i_v1.fits.fz','c4d_160902_055141_ooi_i_v1.fits.fz','c4d_160107_014645_ood_g_v1.fits.fz','c4d_160113_024959_ood_g_v1.fits.fz','c4d_160121_010345_ood_g_v1.fits.fz','c4d_160814_085515_ood_g_v1.fits.fz','c4d_160824_062237_ood_g_v1.fits.fz','c4d_160119_023138_ood_r_v1.fits.fz','c4d_160814_083528_ood_r_v1.fits.fz','c4d_160824_065348_ood_r_v1.fits.fz','c4d_160825_063720_ood_r_v1.fits.fz','c4d_160831_071112_ood_r_v1.fits.fz','c4d_160814_080048_ood_i_v1.fits.fz','c4d_160824_071610_ood_i_v1.fits.fz','c4d_160825_073837_ood_i_v1.fits.fz','c4d_160826_061048_ood_i_v1.fits.fz','c4d_160902_055141_ood_i_v1.fits.fz','c4d_160107_014645_oow_g_v1.fits.fz','c4d_160113_024959_oow_g_v1.fits.fz','c4d_160121_010345_oow_g_v1.fits.fz','c4d_160814_085515_oow_g_v1.fits.fz','c4d_160824_062237_oow_g_v1.fits.fz','c4d_160119_023138_oow_r_v1.fits.fz','c4d_160814_083528_oow_r_v1.fits.fz','c4d_160824_065348_oow_r_v1.fits.fz','c4d_160825_063720_oow_r_v1.fits.fz','c4d_160831_071112_oow_r_v1.fits.fz','c4d_160814_080048_oow_i_v1.fits.fz','c4d_160824_071610_oow_i_v1.fits.fz','c4d_160825_073837_oow_i_v1.fits.fz','c4d_160826_061048_oow_i_v1.fits.fz','c4d_160902_055141_oow_i_v1.fits.fz')\n"
     ]
    }
   ],
   "source": [
    "files = np.hstack((T.archive_file[G[-30:-25]], T.archive_file[R[-30:-25]], T.archive_file[I[-30:-25]]))\n",
    "files = list(files) + [f.replace('_ooi_','_ood_') for f in files] + [f.replace('_ooi_','_oow_') for f in files]\n",
    "print('(' + ','.join(\"'%s'\" % d for d in files) + ')')"
   ]
  },
  {
   "cell_type": "code",
   "execution_count": 1,
   "metadata": {},
   "outputs": [],
   "source": [
    "T = fits_table('survey-ccds-snx3.fits.gz')"
   ]
  },
  {
   "cell_type": "code",
   "execution_count": 4,
   "metadata": {},
   "outputs": [
    {
     "data": {
      "text/plain": [
       "Counter({'g   ': 1793, 'r   ': 1794, 'i   ': 1671})"
      ]
     },
     "execution_count": 4,
     "metadata": {},
     "output_type": "execute_result"
    }
   ],
   "source": [
    "from collections import Counter\n",
    "Counter(T.filter)"
   ]
  },
  {
   "cell_type": "code",
   "execution_count": 7,
   "metadata": {},
   "outputs": [
    {
     "data": {
      "text/plain": [
       "88"
      ]
     },
     "execution_count": 7,
     "metadata": {},
     "output_type": "execute_result"
    }
   ],
   "source": [
    "len(set(T.expnum))"
   ]
  },
  {
   "cell_type": "code",
   "execution_count": 9,
   "metadata": {},
   "outputs": [
    {
     "data": {
      "text/plain": [
       "Counter({'g   ': 30, 'r   ': 30, 'i   ': 28})"
      ]
     },
     "execution_count": 9,
     "metadata": {},
     "output_type": "execute_result"
    }
   ],
   "source": [
    "e,E = np.unique(T.expnum, return_index=True)\n",
    "Counter(T.filter[E])"
   ]
  },
  {
   "cell_type": "code",
   "execution_count": 18,
   "metadata": {},
   "outputs": [],
   "source": [
    "EG = T[E][T.filter[E] == 'g   ']\n",
    "ER = T[E][T.filter[E] == 'r   ']\n",
    "EI = T[E][T.filter[E] == 'i   ']"
   ]
  },
  {
   "cell_type": "code",
   "execution_count": 19,
   "metadata": {},
   "outputs": [
    {
     "data": {
      "text/plain": [
       "(30, 30, 28)"
      ]
     },
     "execution_count": 19,
     "metadata": {},
     "output_type": "execute_result"
    }
   ],
   "source": [
    "len(EG), len(ER), len(EI)"
   ]
  },
  {
   "cell_type": "code",
   "execution_count": 14,
   "metadata": {},
   "outputs": [
    {
     "data": {
      "text/plain": [
       "array([57394.07123591, 57400.11514296, 57408.04138326, 57614.36879513,\n",
       "       57624.26282349, 57625.26177827, 57631.25838703, 57636.23166751,\n",
       "       57642.30820394, 57645.27360077, 57653.18272374, 57657.26538813,\n",
       "       57663.1555447 , 57670.10377012, 57681.10668812, 57686.12248009,\n",
       "       57694.07214291, 57701.08075502, 57709.04793107, 57714.19666554,\n",
       "       57718.08324925, 57723.03478573, 57730.06756975, 57739.15897183,\n",
       "       57744.07547089, 57750.06798035, 57756.0916072 , 57770.04171705,\n",
       "       57778.0386646 , 57782.04461219])"
      ]
     },
     "execution_count": 14,
     "metadata": {},
     "output_type": "execute_result"
    }
   ],
   "source": [
    "EG.mjd_obs"
   ]
  },
  {
   "cell_type": "code",
   "execution_count": 22,
   "metadata": {},
   "outputs": [
    {
     "data": {
      "text/plain": [
       "[<matplotlib.lines.Line2D at 0x1113e7da0>]"
      ]
     },
     "execution_count": 22,
     "metadata": {},
     "output_type": "execute_result"
    },
    {
     "data": {
      "image/png": "[encoded data removed]",
      "text/plain": [
       "<Figure size 432x288 with 1 Axes>"
      ]
     },
     "metadata": {},
     "output_type": "display_data"
    }
   ],
   "source": [
    "from astrometry.util.starutil_numpy import *\n",
    "plt.plot([mjdtodate(m) for m in EG.mjd_obs], [0]*len(EG), 'g.')\n",
    "plt.plot([mjdtodate(m) for m in ER.mjd_obs], [1]*len(ER), 'r.')\n",
    "plt.plot([mjdtodate(m) for m in EI.mjd_obs], [2]*len(EI), 'm.')"
   ]
  },
  {
   "cell_type": "code",
   "execution_count": 23,
   "metadata": {},
   "outputs": [
    {
     "data": {
      "text/plain": [
       "57394.07123591"
      ]
     },
     "execution_count": 23,
     "metadata": {},
     "output_type": "execute_result"
    }
   ],
   "source": [
    "EG.mjd_obs.min()"
   ]
  },
  {
   "cell_type": "code",
   "execution_count": 26,
   "metadata": {},
   "outputs": [
    {
     "data": {
      "text/plain": [
       "150"
      ]
     },
     "execution_count": 26,
     "metadata": {},
     "output_type": "execute_result"
    }
   ],
   "source": [
    "T = fits_table('survey-ccds-snx3-25.fits.gz')\n",
    "len(T)"
   ]
  },
  {
   "cell_type": "code",
   "execution_count": 25,
   "metadata": {},
   "outputs": [
    {
     "data": {
      "text/plain": [
       "Counter({'i   ': 25, 'r   ': 25, 'g   ': 25})"
      ]
     },
     "execution_count": 25,
     "metadata": {},
     "output_type": "execute_result"
    }
   ],
   "source": [
    "e,E = np.unique(T.expnum, return_index=True)\n",
    "Counter(T.filter[E])"
   ]
  },
  {
   "cell_type": "code",
   "execution_count": 27,
   "metadata": {},
   "outputs": [],
   "source": [
    "EG = T[E][T.filter[E] == 'g   ']\n",
    "ER = T[E][T.filter[E] == 'r   ']\n",
    "EI = T[E][T.filter[E] == 'i   ']"
   ]
  },
  {
   "cell_type": "code",
   "execution_count": 28,
   "metadata": {},
   "outputs": [
    {
     "data": {
      "image/png": "[encoded data removed]",
      "text/plain": [
       "<Figure size 432x288 with 1 Axes>"
      ]
     },
     "metadata": {},
     "output_type": "display_data"
    }
   ],
   "source": [
    "plt.plot([mjdtodate(m) for m in EG.mjd_obs], [0]*len(EG), 'g.')\n",
    "plt.plot([mjdtodate(m) for m in ER.mjd_obs], [1]*len(ER), 'r.')\n",
    "plt.plot([mjdtodate(m) for m in EI.mjd_obs], [2]*len(EI), 'm.');"
   ]
  },
  {
   "cell_type": "code",
   "execution_count": 30,
   "metadata": {},
   "outputs": [
    {
     "data": {
      "text/plain": [
       "(Counter({200.0: 25}), Counter({400.0: 25}), Counter({360.0: 25}))"
      ]
     },
     "execution_count": 30,
     "metadata": {},
     "output_type": "execute_result"
    }
   ],
   "source": [
    "Counter(EG.exptime), Counter(ER.exptime), Counter(EI.exptime)"
   ]
  },
  {
   "cell_type": "code",
   "execution_count": 34,
   "metadata": {},
   "outputs": [
    {
     "name": "stdout",
     "output_type": "stream",
     "text": [
      "1.553469934463501 1.4676635951995851 1.348712597846985\n"
     ]
    },
    {
     "data": {
      "image/png": "[encoded data removed]",
      "text/plain": [
       "<Figure size 432x288 with 1 Axes>"
      ]
     },
     "metadata": {},
     "output_type": "display_data"
    }
   ],
   "source": [
    "plt.hist(EG.fwhm * 0.262, histtype='step', color='g');\n",
    "plt.hist(ER.fwhm * 0.262, histtype='step', color='r');\n",
    "plt.hist(EI.fwhm * 0.262, histtype='step', color='m');\n",
    "print(np.median(EG.fwhm)* 0.262,\n",
    "    np.median(ER.fwhm)* 0.262,\n",
    "    np.median(EI.fwhm)* 0.262)\n"
   ]
  },
  {
   "cell_type": "code",
   "execution_count": 36,
   "metadata": {},
   "outputs": [
    {
     "data": {
      "text/plain": [
       "(24.84484, 25.098766)"
      ]
     },
     "execution_count": 36,
     "metadata": {},
     "output_type": "execute_result"
    }
   ],
   "source": [
    "EG.ccdzpt.min(), EG.ccdzpt.max()"
   ]
  },
  {
   "cell_type": "code",
   "execution_count": 37,
   "metadata": {},
   "outputs": [
    {
     "data": {
      "text/plain": [
       "(24.855314, 25.31969)"
      ]
     },
     "execution_count": 37,
     "metadata": {},
     "output_type": "execute_result"
    }
   ],
   "source": [
    "ER.ccdzpt.min(), ER.ccdzpt.max()"
   ]
  },
  {
   "cell_type": "code",
   "execution_count": 38,
   "metadata": {},
   "outputs": [
    {
     "data": {
      "text/plain": [
       "(25.202745, 25.293486)"
      ]
     },
     "execution_count": 38,
     "metadata": {},
     "output_type": "execute_result"
    }
   ],
   "source": [
    "EI.ccdzpt.min(), EI.ccdzpt.max()"
   ]
  },
  {
   "cell_type": "code",
   "execution_count": 45,
   "metadata": {},
   "outputs": [
    {
     "name": "stdout",
     "output_type": "stream",
     "text": [
      "g    & 563982 & 2016-08-14 & 200 & 1.28 & 24.65\n",
      "g    & 566968 & 2016-08-24 & 200 & 1.79 & 23.02\n",
      "g    & 567422 & 2016-08-25 & 200 & 1.72 & 23.55\n",
      "g    & 569591 & 2016-08-31 & 200 & 1.55 & 24.39\n",
      "g    & 571049 & 2016-09-05 & 200 & 1.67 & 24.29\n",
      "g    & 573546 & 2016-09-11 & 200 & 1.42 & 24.49\n",
      "g    & 574702 & 2016-09-14 & 200 & 2.17 & 22.75\n",
      "g    & 575794 & 2016-09-22 & 200 & 1.20 & 24.17\n",
      "g    & 577432 & 2016-09-26 & 200 & 1.55 & 24.47\n",
      "g    & 579874 & 2016-10-02 & 200 & 1.37 & 24.51\n",
      "g    & 582140 & 2016-10-09 & 200 & 1.61 & 23.56\n",
      "g    & 584106 & 2016-10-20 & 200 & 1.64 & 24.05\n",
      "g    & 585888 & 2016-10-25 & 200 & 2.00 & 24.11\n",
      "g    & 588620 & 2016-11-02 & 200 & 1.39 & 24.43\n",
      "g    & 591449 & 2016-11-09 & 200 & 1.47 & 23.53\n",
      "g    & 593383 & 2016-11-17 & 200 & 1.53 & 24.39\n",
      "g    & 595093 & 2016-11-22 & 200 & 1.45 & 24.48\n",
      "g    & 596474 & 2016-11-26 & 200 & 1.07 & 24.80\n",
      "g    & 598232 & 2016-12-01 & 200 & 1.96 & 23.91\n",
      "g    & 600846 & 2016-12-08 & 200 & 1.20 & 23.69\n",
      "g    & 601468 & 2016-12-17 & 200 & 1.32 & 23.41\n",
      "g    & 603288 & 2016-12-22 & 200 & 1.55 & 24.35\n",
      "g    & 604684 & 2016-12-28 & 200 & 1.82 & 24.26\n",
      "g    & 605946 & 2017-01-03 & 200 & 1.75 & 24.11\n",
      "g    & 609567 & 2017-01-17 & 200 & 1.17 & 24.14\n",
      "r    & 563978 & 2016-08-14 & 400 & 1.37 & 24.51\n",
      "r    & 566976 & 2016-08-24 & 400 & 1.58 & 23.57\n",
      "r    & 567426 & 2016-08-25 & 400 & 1.53 & 23.99\n",
      "r    & 569613 & 2016-08-31 & 400 & 1.18 & 24.82\n",
      "r    & 571060 & 2016-09-05 & 400 & 1.64 & 24.51\n",
      "r    & 573562 & 2016-09-11 & 400 & 1.34 & 24.19\n",
      "r    & 574711 & 2016-09-14 & 400 & 1.47 & 23.82\n",
      "r    & 575798 & 2016-09-22 & 400 & 1.07 & 24.33\n",
      "r    & 576542 & 2016-09-24 & 400 & 1.67 & 24.44\n",
      "r    & 578740 & 2016-09-29 & 400 & 1.54 & 24.46\n",
      "r    & 580295 & 2016-10-03 & 400 & 1.62 & 24.34\n",
      "r    & 582423 & 2016-10-10 & 400 & 1.07 & 24.12\n",
      "r    & 584144 & 2016-10-20 & 400 & 1.55 & 23.91\n",
      "r    & 585892 & 2016-10-25 & 400 & 1.90 & 24.15\n",
      "r    & 588624 & 2016-11-02 & 400 & 1.25 & 24.61\n",
      "r    & 591453 & 2016-11-09 & 400 & 1.16 & 24.30\n",
      "r    & 593076 & 2016-11-16 & 400 & 1.15 & 23.52\n",
      "r    & 593387 & 2016-11-17 & 400 & 1.35 & 24.64\n",
      "r    & 595359 & 2016-11-23 & 400 & 1.85 & 24.20\n",
      "r    & 597239 & 2016-11-28 & 400 & 1.84 & 24.33\n",
      "r    & 598940 & 2016-12-03 & 400 & 1.43 & 24.46\n",
      "r    & 600880 & 2016-12-08 & 400 & 2.67 & 23.26\n",
      "r    & 601776 & 2016-12-18 & 400 & 1.20 & 24.98\n",
      "r    & 604334 & 2016-12-25 & 400 & 1.01 & 25.05\n",
      "r    & 605255 & 2016-12-30 & 400 & 1.50 & 24.64\n",
      "i    & 563972 & 2016-08-14 & 360 & 1.77 & 23.49\n",
      "i    & 566980 & 2016-08-24 & 360 & 1.35 & 23.61\n",
      "i    & 567442 & 2016-08-25 & 360 & 1.05 & 24.20\n",
      "i    & 567867 & 2016-08-26 & 360 & 1.04 & 24.24\n",
      "i    & 570175 & 2016-09-02 & 360 & 1.81 & 23.10\n",
      "i    & 571447 & 2016-09-06 & 360 & 1.54 & 23.23\n",
      "i    & 573865 & 2016-09-12 & 360 & 1.66 & 23.01\n",
      "i    & 574727 & 2016-09-14 & 360 & 1.80 & 22.73\n",
      "i    & 575802 & 2016-09-22 & 360 & 1.09 & 23.13\n",
      "i    & 576546 & 2016-09-24 & 360 & 1.41 & 23.33\n",
      "i    & 579449 & 2016-10-01 & 360 & 1.15 & 23.41\n",
      "i    & 581861 & 2016-10-08 & 360 & 1.47 & 23.03\n",
      "i    & 584166 & 2016-10-20 & 360 & 1.27 & 23.01\n",
      "i    & 585960 & 2016-10-25 & 360 & 1.73 & 22.89\n",
      "i    & 588628 & 2016-11-02 & 360 & 1.20 & 23.93\n",
      "i    & 591457 & 2016-11-09 & 360 & 1.06 & 24.00\n",
      "i    & 593080 & 2016-11-16 & 360 & 1.03 & 23.51\n",
      "i    & 595056 & 2016-11-22 & 360 & 1.81 & 23.75\n",
      "i    & 596517 & 2016-11-26 & 360 & 1.61 & 24.00\n",
      "i    & 598236 & 2016-12-01 & 360 & 1.38 & 23.88\n",
      "i    & 600850 & 2016-12-08 & 360 & 1.04 & 24.12\n",
      "i    & 601780 & 2016-12-18 & 360 & 1.12 & 24.44\n",
      "i    & 604338 & 2016-12-25 & 360 & 1.14 & 24.23\n",
      "i    & 605266 & 2016-12-30 & 360 & 1.67 & 23.90\n",
      "i    & 607844 & 2017-01-09 & 360 & 1.34 & 22.65\n"
     ]
    }
   ],
   "source": [
    "from tractor import NanoMaggies\n",
    "\n",
    "for e in merge_tables([EG, ER, EI]):\n",
    "    psf_sigma = e.fwhm / 2.35\n",
    "    psfnorm = 1./(2. * np.sqrt(np.pi) * psf_sigma)\n",
    "    zpscale = NanoMaggies.zeropointToScale(e.ccdzpt + 2.5*np.log10(e.exptime))\n",
    "    detsig1 = (e.sig1/zpscale) / psfnorm\n",
    "    psfdepth = -2.5 * (np.log10(5. * detsig1) - 9)\n",
    "    print('%s & %i & %s & %i & %.2f & %.2f' % (e.filter, e.expnum, str(mjdtodate(e.mjd_obs).date()), e.exptime, e.fwhm*0.262,\n",
    "                                          psfdepth))\n",
    "    "
   ]
  },
  {
   "cell_type": "code",
   "execution_count": null,
   "metadata": {},
   "outputs": [],
   "source": []
  }
 ],
 "metadata": {
  "kernelspec": {
   "display_name": "Python 3",
   "language": "python",
   "name": "python3"
  },
  "language_info": {
   "codemirror_mode": {
    "name": "ipython",
    "version": 3
   },
   "file_extension": ".py",
   "mimetype": "text/x-python",
   "name": "python",
   "nbconvert_exporter": "python",
   "pygments_lexer": "ipython3",
   "version": "3.7.0"
  }
 },
 "nbformat": 4,
 "nbformat_minor": 2
}
