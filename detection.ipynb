{
 "cells": [
  {
   "cell_type": "code",
   "execution_count": null,
   "metadata": {},
   "outputs": [],
   "source": [
    "%matplotlib inline\n",
    "import matplotlib\n",
    "matplotlib.rcParams['figure.figsize'] = (10,8)\n",
    "import pylab as plt\n",
    "import numpy as np\n",
    "import fitsio\n",
    "from astrometry.util.fits import *\n",
    "from astrometry.util.util import Tan\n",
    "from astrometry.util.plotutils import *\n",
    "from collections import Counter\n",
    "from astrometry.util.starutil import *\n",
    "from scipy.ndimage.filters import *\n",
    "from scipy.ndimage.measurements import label, find_objects\n",
    "from scipy.ndimage.morphology import binary_dilation, binary_fill_holes"
   ]
  },
  {
   "cell_type": "code",
   "execution_count": null,
   "metadata": {},
   "outputs": [],
   "source": [
    "#g_det = fitsio.read('16/detmap-g.fits')\n",
    "#g_detiv = fitsio.read('16/detiv-g.fits')\n",
    "#r_det = fitsio.read('16/detmap-r.fits')\n",
    "#r_detiv = fitsio.read('16/detiv-r.fits')\n",
    "#i_det = fitsio.read('16/detmap-i.fits')\n",
    "#i_detiv = fitsio.read('16/detiv-i.fits')\n",
    "g_det = fitsio.read('25/detmap-g.fits')\n",
    "g_detiv = fitsio.read('25/detiv-g.fits')\n",
    "r_det = fitsio.read('25/detmap-r.fits')\n",
    "r_detiv = fitsio.read('25/detiv-r.fits')\n",
    "i_det = fitsio.read('25/detmap-i.fits')\n",
    "i_detiv = fitsio.read('25/detiv-i.fits')\n",
    "\n",
    "img = plt.imread('25/legacysurvey-custom-036450m04600-image.jpg')\n",
    "img = np.flipud(img)\n",
    "H,W,three = img.shape\n",
    "\n",
    "ra,dec = 36.45, -4.6\n",
    "pixscale = 0.262 / 3600.\n",
    "wcs = Tan(ra, dec, W/2.+0.5, H/2.+0.5,\n",
    "        -pixscale, 0., 0., pixscale,\n",
    "        float(W), float(H))"
   ]
  },
  {
   "cell_type": "code",
   "execution_count": null,
   "metadata": {},
   "outputs": [],
   "source": [
    "gsig1 = 1./np.sqrt(np.median(g_detiv))\n",
    "print(gsig1)\n",
    "plt.imshow(g_det/gsig1, interpolation='nearest', origin='lower', vmin=-1, vmax=10);"
   ]
  },
  {
   "cell_type": "code",
   "execution_count": null,
   "metadata": {},
   "outputs": [],
   "source": [
    "Ng = fitsio.read('25/legacysurvey-custom-036450m04600-nexp-g.fits.fz')\n",
    "Nr = fitsio.read('25/legacysurvey-custom-036450m04600-nexp-r.fits.fz')\n",
    "Ni = fitsio.read('25/legacysurvey-custom-036450m04600-nexp-i.fits.fz')\n",
    "good = ((Ng > 12) * (Nr > 12) * (Ni > 12))\n",
    "plt.imshow(good)"
   ]
  },
  {
   "cell_type": "code",
   "execution_count": null,
   "metadata": {},
   "outputs": [],
   "source": [
    "plt.imshow(img, origin='lower'); # * good[:,:,np.newaxis])"
   ]
  },
  {
   "cell_type": "code",
   "execution_count": null,
   "metadata": {},
   "outputs": [],
   "source": [
    "plt.imshow(img[500:1000, 500:1000], origin='lower');"
   ]
  },
  {
   "cell_type": "code",
   "execution_count": null,
   "metadata": {},
   "outputs": [],
   "source": [
    "def sedsn(detmaps, detivs, sed):\n",
    "    H,W = detmaps[0].shape\n",
    "    sedmap = np.zeros((H,W), np.float32)\n",
    "    sediv  = np.zeros((H,W), np.float32)\n",
    "    for iband in range(len(detmaps)):\n",
    "        # We convert the detmap to canonical band via\n",
    "        #   detmap * w\n",
    "        # And the corresponding change to sig1 is\n",
    "        #   sig1 * w\n",
    "        # So the invvar-weighted sum is\n",
    "        #    (detmap * w) / (sig1**2 * w**2)\n",
    "        #  = detmap / (sig1**2 * w)\n",
    "        sedmap += detmaps[iband] * detivs[iband] / sed[iband]\n",
    "        sediv  += detivs [iband] / sed[iband]**2\n",
    "    sedmap /= np.maximum(1e-16, sediv)\n",
    "    sedsn   = sedmap * np.sqrt(sediv)\n",
    "    return sedsn"
   ]
  },
  {
   "cell_type": "code",
   "execution_count": null,
   "metadata": {},
   "outputs": [],
   "source": [
    "detmaps = [g_det, r_det, i_det]\n",
    "detivs = [g_detiv, r_detiv, i_detiv]\n",
    "\n",
    "def colorsed(gr, ri):\n",
    "    return np.array([10.**(-0.4*gr), 1., 10.**(-0.4*ri)])\n",
    "\n",
    "sedlist = [\n",
    "    ('flat', colorsed(0., 0.)),\n",
    "    ('yellow', colorsed(1., 0.3)),\n",
    "    ('red', colorsed(1.5, 1.)),\n",
    "    ('blue', colorsed(-1., -1.)),\n",
    "    ('mid', colorsed(0.8, 0.6)),\n",
    "]\n",
    "\n",
    "flat_sn = sedsn(detmaps, detivs, [1., 1., 1.])\n",
    "red_sn  = sedsn(detmaps, detivs, [2.5, 1., 0.4])\n",
    "blue_sn = sedsn(detmaps, detivs, [0.4, 1., 2.5])\n",
    "yel_sn = sedsn(detmaps, detivs, [2.5, 1, 10.**(-0.4 * 0.3)])\n",
    "redder_sn  = sedsn(detmaps, detivs, [10.**(-0.4 * -1.5), 1., 10.**(-0.4 * 1.)])\n",
    "mid_sn = sedsn(detmaps, detivs, [10.**(-0.4 * -0.75), 1., 10.**(-0.4 * 0.6)])"
   ]
  },
  {
   "cell_type": "code",
   "execution_count": null,
   "metadata": {},
   "outputs": [],
   "source": [
    "def detect_sources(snmap, threshold):\n",
    "    hot = (snmap > threshold)\n",
    "    hot = binary_dilation(hot, iterations=2)\n",
    "    hot = binary_fill_holes(hot)\n",
    "    blobs,nblobs = label(hot)\n",
    "    print(nblobs, 'blobs')\n",
    "    print('blobs min', blobs.min(), 'max', blobs.max())\n",
    "    slices = find_objects(blobs)\n",
    "    px,py = [],[]\n",
    "    for i,slc in enumerate(slices):\n",
    "        blob_loc = blobs[slc]\n",
    "        sn_loc = snmap[slc]\n",
    "        imax = np.argmax((blob_loc == (i+1)) * sn_loc)\n",
    "        y,x = np.unravel_index(imax, blob_loc.shape)\n",
    "        y0,x0 = slc[0].start, slc[1].start\n",
    "        px.append(x0+x)\n",
    "        py.append(y0+y)\n",
    "        #if i == 0:\n",
    "        #    plt.subplot(2,2,1)\n",
    "        #    plt.imshow(blob_loc, interpolation='nearest', origin='lower')\n",
    "        #    plt.colorbar()\n",
    "        #    plt.subplot(2,2,2)\n",
    "        #    plt.imshow((blob_loc==(i+1))*sn_loc, interpolation='nearest', origin='lower')\n",
    "        #    plt.subplot(2,2,3)\n",
    "        #    plt.plot(x, y, 'ro')\n",
    "    return np.array(px),np.array(py)"
   ]
  },
  {
   "cell_type": "code",
   "execution_count": null,
   "metadata": {},
   "outputs": [],
   "source": [
    "print(flat_sn.shape)\n",
    "x,y = detect_sources(flat_sn, 100.)\n",
    "flat = fits_table()\n",
    "flat.x = x\n",
    "flat.y = y\n",
    "flat.cut(good[flat.y, flat.x])\n",
    "print('Cut to', len(flat), 'good sources')\n",
    "flat.flat_sn = flat_sn[flat.y, flat.x]\n",
    "flat.red_sn  = red_sn[flat.y, flat.x]\n",
    "flat.blue_sn = blue_sn[flat.y, flat.x]\n",
    "\n",
    "flat.yel_sn = yel_sn[flat.y, flat.x]\n",
    "flat.redder_sn = redder_sn[flat.y, flat.x]\n",
    "flat.mid_sn = mid_sn[flat.y, flat.x]\n",
    "\n",
    "flat.g_sn = (g_det[flat.y, flat.x] * np.sqrt(g_detiv[flat.y, flat.x]))\n",
    "flat.r_sn = (r_det[flat.y, flat.x] * np.sqrt(r_detiv[flat.y, flat.x]))\n",
    "flat.i_sn = (i_det[flat.y, flat.x] * np.sqrt(i_detiv[flat.y, flat.x]))\n",
    "flat.g_flux = g_det[flat.y, flat.x]\n",
    "flat.r_flux = r_det[flat.y, flat.x]\n",
    "flat.i_flux = i_det[flat.y, flat.x]\n",
    "flat.ra,flat.dec = wcs.pixelxy2radec(flat.x+1, flat.y+1)\n",
    "flat.g_mag = -2.5*(np.log10(flat.g_flux) - 9)\n",
    "flat.r_mag = -2.5*(np.log10(flat.r_flux) - 9)\n",
    "flat.i_mag = -2.5*(np.log10(flat.i_flux) - 9)\n",
    "\n",
    "sz = 20\n",
    "H,W = flat_sn.shape\n",
    "flat.cut((flat.x > sz) * (flat.y > sz) * (flat.x < (W-sz)) * (flat.y < (H-sz)))\n",
    "print(len(flat), 'not near edges')\n",
    "flat.cut((g_detiv[flat.y, flat.x] > 0) * (r_detiv[flat.y, flat.x] > 0) * (i_detiv[flat.y, flat.x] > 0))\n",
    "print(len(flat), 'with gri obs')\n",
    "I = np.argsort(-flat.flat_sn)\n",
    "flat.cut(I)"
   ]
  },
  {
   "cell_type": "code",
   "execution_count": null,
   "metadata": {},
   "outputs": [],
   "source": [
    "plt.plot(flat.g_mag - flat.r_mag, flat.r_mag - flat.i_mag, 'k.')\n",
    "plt.axis([-0.5, 2.5, -.5, 2])\n",
    "plt.xlabel('g-r (mag)')\n",
    "plt.ylabel('r-i (mag)');"
   ]
  },
  {
   "cell_type": "code",
   "execution_count": null,
   "metadata": {},
   "outputs": [],
   "source": [
    "len(flatx)\n",
    "plt.imshow(flat_sn, interpolation='nearest', origin='lower', vmin=0, vmax=50)\n",
    "ax = plt.axis()\n",
    "plt.plot(flatx, flaty, 'r.')\n",
    "plt.axis(ax)\n",
    "plt.axis([0,500,0,500])"
   ]
  },
  {
   "cell_type": "code",
   "execution_count": null,
   "metadata": {},
   "outputs": [],
   "source": [
    "np.sum(good[flat.y, flat.x]==0), len(flat)\n",
    "#plt.imshow(img, interpolation='nearest', origin='lower');\n",
    "#plt.plot(flat.x, flat.y, 'r.')"
   ]
  },
  {
   "cell_type": "code",
   "execution_count": null,
   "metadata": {},
   "outputs": [],
   "source": []
  },
  {
   "cell_type": "code",
   "execution_count": null,
   "metadata": {},
   "outputs": [],
   "source": [
    "plt.subplots_adjust(hspace=0.01, wspace=0.01)\n",
    "N=100\n",
    "R,C = 9,12\n",
    "for i in range(len(flat)):\n",
    "    if i >= R*C:\n",
    "        break\n",
    "    plt.subplot(R,C,i+1)\n",
    "    f = flat[i]\n",
    "    plt.imshow(img[f.y-sz : f.y+sz+1, f.x-sz : f.x+sz+1, :], interpolation='nearest', origin='lower')\n",
    "    plt.xticks([]); plt.yticks([])    "
   ]
  },
  {
   "cell_type": "code",
   "execution_count": null,
   "metadata": {},
   "outputs": [],
   "source": [
    "def show_sources(T, img):\n",
    "    sz = 10\n",
    "    imgrows = []\n",
    "    R,C = 10,10\n",
    "    k = 0\n",
    "    for i in range(R):\n",
    "        imgrow = []\n",
    "        for j in range(C):\n",
    "            if k >= len(T):\n",
    "                sub = np.zeros((sz*2+1,sz*2+1,3), np.uint8)\n",
    "            else:\n",
    "                f = T[k]\n",
    "                sub = img[f.y-sz : f.y+sz+1, f.x-sz : f.x+sz+1, :]\n",
    "            imgrow.append(sub)\n",
    "            k += 1\n",
    "        imgrow = np.hstack(imgrow)\n",
    "        #print('imgrow', imgrow.shape)\n",
    "        imgrows.append(imgrow)\n",
    "    imgrows = np.vstack(reversed(imgrows))\n",
    "    plt.imshow(imgrows, interpolation='nearest', origin='lower')\n",
    "    plt.xticks([]); plt.yticks([]);"
   ]
  },
  {
   "cell_type": "code",
   "execution_count": null,
   "metadata": {},
   "outputs": [],
   "source": [
    "show_sources(flat, img)"
   ]
  },
  {
   "cell_type": "code",
   "execution_count": null,
   "metadata": {},
   "outputs": [],
   "source": [
    "I = np.argsort(-flat.red_sn / flat.flat_sn)\n",
    "show_sources(flat[I], img)"
   ]
  },
  {
   "cell_type": "code",
   "execution_count": null,
   "metadata": {},
   "outputs": [],
   "source": [
    "I = np.argsort(-flat.blue_sn / flat.flat_sn)\n",
    "show_sources(flat[I], img)"
   ]
  },
  {
   "cell_type": "code",
   "execution_count": null,
   "metadata": {},
   "outputs": [],
   "source": [
    "I = np.argsort(-flat.g_sn / flat.flat_sn)\n",
    "show_sources(flat[I], img)"
   ]
  },
  {
   "cell_type": "code",
   "execution_count": null,
   "metadata": {},
   "outputs": [],
   "source": [
    "I = np.argsort(-flat.r_sn / flat.flat_sn)\n",
    "show_sources(flat[I], img)"
   ]
  },
  {
   "cell_type": "code",
   "execution_count": null,
   "metadata": {},
   "outputs": [],
   "source": [
    "I = np.argsort(-flat.i_sn / flat.flat_sn)\n",
    "show_sources(flat[I], img)"
   ]
  },
  {
   "cell_type": "code",
   "execution_count": null,
   "metadata": {},
   "outputs": [],
   "source": [
    "I = np.argsort(-flat.yel_sn / flat.flat_sn)\n",
    "show_sources(flat[I], img)"
   ]
  },
  {
   "cell_type": "code",
   "execution_count": null,
   "metadata": {},
   "outputs": [],
   "source": [
    "I = np.argsort(-flat.redder_sn / flat.flat_sn)\n",
    "show_sources(flat[I], img)"
   ]
  },
  {
   "cell_type": "code",
   "execution_count": null,
   "metadata": {},
   "outputs": [],
   "source": [
    "I = np.argsort(-flat.mid_sn / flat.flat_sn)\n",
    "show_sources(flat[I], img)"
   ]
  },
  {
   "cell_type": "code",
   "execution_count": null,
   "metadata": {},
   "outputs": [],
   "source": [
    "#flat.imax = np.argmax(np.vstack((flat.g_sn, flat.r_sn, flat.i_sn, flat.flat_sn, flat.red_sn, flat.blue_sn)), axis=0)\n",
    "#sednames = ['g-only','r-only','i-only', 'Flat', 'Red', 'Blue']\n",
    "\n",
    "flat.imax = np.argmax(np.vstack((flat.g_sn, flat.r_sn, flat.i_sn, flat.flat_sn,\n",
    "                                 flat.yel_sn, flat.redder_sn, flat.blue_sn, flat.mid_sn)), axis=0)\n",
    "sednames = ['g-only','r-only','i-only', 'Flat',\n",
    "            'Yellow', 'Red', 'Blue', 'mid']\n"
   ]
  },
  {
   "cell_type": "code",
   "execution_count": null,
   "metadata": {},
   "outputs": [],
   "source": [
    "Counter(flat.imax)"
   ]
  },
  {
   "cell_type": "code",
   "execution_count": null,
   "metadata": {},
   "outputs": [],
   "source": [
    "for i,tt in enumerate(sednames):\n",
    "    I = np.flatnonzero(flat.imax == i)\n",
    "    plt.plot(flat.g_mag[I] - flat.r_mag[I], flat.r_mag[I] - flat.i_mag[I], '.', label=tt)\n",
    "plt.axis([-0.5, 2.5, -.5, 2])\n",
    "plt.xlabel('g-r (mag)')\n",
    "plt.ylabel('r-i (mag)');\n",
    "plt.legend()"
   ]
  },
  {
   "cell_type": "code",
   "execution_count": null,
   "metadata": {
    "scrolled": false
   },
   "outputs": [],
   "source": [
    "for i,tt in enumerate(sednames):\n",
    "    I = np.flatnonzero(flat.imax == i)\n",
    "    print(len(I), tt)\n",
    "    show_sources(flat[I], img)\n",
    "    plt.title('%s best' % tt);\n",
    "    plt.show();"
   ]
  },
  {
   "cell_type": "code",
   "execution_count": null,
   "metadata": {},
   "outputs": [],
   "source": [
    "plt.plot(flat.red_sn / flat.flat_sn, 'r.');"
   ]
  },
  {
   "cell_type": "code",
   "execution_count": null,
   "metadata": {},
   "outputs": [],
   "source": [
    "DES = fits_table('des-db.fits')\n",
    "print(len(DES))\n",
    "DES.cut((DES.mag_auto_g < 99) * (DES.mag_auto_r < 99) * (DES.mag_auto_i < 99))\n",
    "print(len(DES))\n",
    "ok,x,y = wcs.radec2pixelxy(DES.ra, DES.dec)\n",
    "DES.x = (x-1).astype(np.int)\n",
    "DES.y = (y-1).astype(np.int)\n",
    "DES.cut((DES.x > sz) * (DES.y > sz) * (DES.x < (W-sz)) * (DES.y < (H-sz)))\n",
    "print(len(DES))\n",
    "DES.cut((g_detiv[DES.y, DES.x] > 0) * (r_detiv[DES.y, DES.x] > 0) * (i_detiv[DES.y, DES.x] > 0))\n",
    "print(len(DES))"
   ]
  },
  {
   "cell_type": "code",
   "execution_count": null,
   "metadata": {},
   "outputs": [],
   "source": [
    "plt.hist(DES.mag_auto_g)"
   ]
  },
  {
   "cell_type": "code",
   "execution_count": null,
   "metadata": {},
   "outputs": [],
   "source": [
    "I,J,d = match_radec(flat.ra, flat.dec, DES.ra, DES.dec, 1./3600, nearest=True)"
   ]
  },
  {
   "cell_type": "code",
   "execution_count": null,
   "metadata": {},
   "outputs": [],
   "source": [
    "len(I), len(flat)"
   ]
  },
  {
   "cell_type": "code",
   "execution_count": null,
   "metadata": {},
   "outputs": [],
   "source": [
    "plt.plot(DES.mag_auto_g[J] - DES.mag_auto_r[J], DES.mag_auto_r[J] - DES.mag_auto_i[J], 'k.')\n",
    "plt.axis([-0.5, 3, -0.5, 2])"
   ]
  },
  {
   "cell_type": "code",
   "execution_count": null,
   "metadata": {},
   "outputs": [],
   "source": [
    "## FIXME -- star vs galaxy; isolated\n",
    "colorbins = np.linspace(-0.5, 4.0, 10)\n",
    "#colorbins = np.linspace(-0.5, 4.0, 19)\n",
    "II = []\n",
    "K = []\n",
    "DES.gi = DES.mag_auto_g - DES.mag_auto_i\n",
    "for clo,chi in zip(colorbins, colorbins[1:]):\n",
    "    C = np.flatnonzero((DES.gi >= clo) * (DES.gi < chi))\n",
    "    minmag = np.vstack((DES.mag_auto_g, DES.mag_auto_r, DES.mag_auto_i)).max(axis=0)[C]\n",
    "    #I.extend(J[np.argsort(DES.mag_auto_r[J])[:10]])\n",
    "    C = C[np.argsort(np.abs(minmag - 18))]\n",
    "    II.extend(C[:10])\n",
    "    K.append(C[0])\n",
    "    #print('min mags', np.sort(minmag)[:10])\n",
    "    #print('r mags', np.sort(DES.mag_auto_r[J])[:10])\n",
    "show_sources(DES[II], img)"
   ]
  },
  {
   "cell_type": "code",
   "execution_count": null,
   "metadata": {},
   "outputs": [],
   "source": [
    "plt.plot(DES.mag_auto_g[J] - DES.mag_auto_i[J], flat.red_sn[I] / flat.flat_sn[I], 'r.');\n",
    "plt.plot(DES.mag_auto_g[J] - DES.mag_auto_i[J], flat.blue_sn[I] / flat.flat_sn[I], 'b.');\n",
    "plt.axhline(1., color='k', alpha=0.5)\n",
    "plt.xlabel('DES g-i color (mag)')\n",
    "plt.ylabel('Relative strength of SED-matched filter vs Flat');\n",
    "plt.axis([-0.5, 4.0, 0.3, 1.6])\n",
    "ax = plt.axis()\n",
    "aspect = plt.gca().get_aspect()\n",
    "#print('aspect:', aspect)\n",
    "for clo,chi,k in zip(colorbins, colorbins[1:], K):\n",
    "    x,y = DES.x[k], DES.y[k]\n",
    "    plt.imshow(img[y-sz:y+sz+1, x-sz:x+sz+1], interpolation='nearest', origin='lower',\n",
    "              extent=[clo,chi,0.3,0.46], zorder=20)\n",
    "plt.axis(ax)\n",
    "plt.gca().set_aspect(aspect);"
   ]
  },
  {
   "cell_type": "code",
   "execution_count": null,
   "metadata": {},
   "outputs": [],
   "source": [
    "plt.plot(DES.mag_auto_g[J] - DES.mag_auto_i[J], flat.yel_sn[I] / flat.flat_sn[I], '.', color='orange');\n",
    "plt.plot(DES.mag_auto_g[J] - DES.mag_auto_i[J], flat.redder_sn[I] / flat.flat_sn[I], 'r.');\n",
    "plt.plot(DES.mag_auto_g[J] - DES.mag_auto_i[J], flat.blue_sn[I] / flat.flat_sn[I], 'b.');\n",
    "plt.axhline(1., color='k', alpha=0.5)\n",
    "plt.xlabel('DES g-i color (mag)')\n",
    "plt.ylabel('Relative strength of SED-matched filter vs Flat');\n",
    "plt.axis([-0.5, 4.0, 0.3, 1.6])\n",
    "ax = plt.axis()\n",
    "aspect = plt.gca().get_aspect()\n",
    "#print('aspect:', aspect)\n",
    "for clo,chi,k in zip(colorbins, colorbins[1:], K):\n",
    "    x,y = DES.x[k], DES.y[k]\n",
    "    plt.imshow(img[y-sz:y+sz+1, x-sz:x+sz+1], interpolation='nearest', origin='lower',\n",
    "              extent=[clo,chi,0.3,0.46], zorder=20)\n",
    "plt.axis(ax)\n",
    "plt.gca().set_aspect(aspect);"
   ]
  },
  {
   "cell_type": "code",
   "execution_count": null,
   "metadata": {},
   "outputs": [],
   "source": []
  },
  {
   "cell_type": "code",
   "execution_count": null,
   "metadata": {},
   "outputs": [],
   "source": []
  },
  {
   "cell_type": "code",
   "execution_count": null,
   "metadata": {},
   "outputs": [],
   "source": [
    "# Galaxy detection.\n",
    "from tractor.splinesky import SplineSky\n",
    "from tractor.psfex import PixelizedPsfEx\n",
    "from astrometry.util.util import wcs_pv2sip_hdr\n",
    "\n",
    "imfn = '1/data/images/decam/cp/c4d_160814_085515_ooi_g_v1-N4.fits'\n",
    "im = fitsio.read(imfn)                 \n",
    "dq = fitsio.read('1/data/images/decam/cp/c4d_160814_085515_ood_g_v1-N4.fits')\n",
    "wt = fitsio.read('1/data/images/decam/cp/c4d_160814_085515_oow_g_v1-N4.fits')\n",
    "sig1 = 1./np.sqrt(np.median(wt[dq==0]))\n",
    "H,W = im.shape\n",
    "\n",
    "hdr = fitsio.read_header(imfn, ext=1)\n",
    "imwcs = wcs_pv2sip_hdr(hdr)\n",
    "\n",
    "fn = '1/data/calib/decam/splinesky/00563/00563982/decam-00563982-N4.fits'\n",
    "sky = SplineSky.from_fits(fn, None)\n",
    "sky.addTo(im, scale=-1)\n",
    "psf = PixelizedPsfEx('1/data/calib/decam/psfex/00563/00563982/decam-00563982-N4.fits')"
   ]
  },
  {
   "cell_type": "code",
   "execution_count": null,
   "metadata": {},
   "outputs": [],
   "source": [
    "#plt.hist(im.ravel(), range=(-5.*sig1, 5.*sig1), bins=100);"
   ]
  },
  {
   "cell_type": "code",
   "execution_count": null,
   "metadata": {},
   "outputs": [],
   "source": [
    "from tractor import Image, NullWCS, ExpGalaxy, ConstantSky, LinearPhotoCal, NanoMaggies, PixPos, GaussianMixturePSF, Tractor\n",
    "from tractor.ellipses import EllipseE"
   ]
  },
  {
   "cell_type": "code",
   "execution_count": null,
   "metadata": {},
   "outputs": [],
   "source": [
    "v = (psf.fwhm / 2.35)**2\n",
    "gpsf = GaussianMixturePSF(1., 0., 0., v, v, 0)                          \n",
    "tim = Image(data=im, inverr=(dq == 0)*1./sig1, wcs=NullWCS(pixscale=0.262),\n",
    "           psf=psf, sky=ConstantSky(0.), photocal=LinearPhotoCal(1., band='g'))"
   ]
  },
  {
   "cell_type": "code",
   "execution_count": null,
   "metadata": {},
   "outputs": [],
   "source": [
    "gal = ExpGalaxy(PixPos(W/2., H/2.), NanoMaggies(g=1.), EllipseE(0.5, 0., 0.))\n",
    "mog = gal._getAffineProfile(tim, W/2., H/2.)\n",
    "#print(mog)\n",
    "mog.var[:,0,0]"
   ]
  },
  {
   "cell_type": "code",
   "execution_count": null,
   "metadata": {},
   "outputs": [],
   "source": [
    "#tr = Tractor([tim], [gal])\n",
    "mod = gal.getModelPatch(tim)\n",
    "tim.psf = gpsf\n",
    "gmod = gal.getModelPatch(tim)\n",
    "print(mod.patch.min(), mod.patch.max())\n",
    "print(gmod.patch.min(), gmod.patch.max())\n",
    "plt.subplot(1,2,1)\n",
    "plt.imshow(mod.patch, interpolation='nearest', origin='lower')\n",
    "plt.subplot(1,2,2)\n",
    "plt.imshow(gmod.patch, interpolation='nearest', origin='lower')"
   ]
  },
  {
   "cell_type": "code",
   "execution_count": null,
   "metadata": {
    "scrolled": true
   },
   "outputs": [],
   "source": [
    "psf_sigma = psf.fwhm / 2.35\n",
    "print('PSF sigma:', psf_sigma)\n",
    "\n",
    "gpsf = gmod.patch\n",
    "print('gal x psf sum', gpsf.sum())\n",
    "gpsf /= gpsf.sum()\n",
    "gpsfnorm = np.sqrt(np.sum(gpsf**2))\n",
    "print('gal x psf norm', gpsfnorm)\n",
    "\n",
    "gdetsum = 0.\n",
    "for amp,sigma in zip(mog.amp, np.sqrt(mog.var[:,0,0])):\n",
    "    sig = np.hypot(psf_sigma, sigma)\n",
    "    gdetsum = gdetsum + amp * gaussian_filter(im, sig)\n",
    "    print(gdetsum.shape)\n",
    "gdetsum /= gpsfnorm**2\n",
    "gdetsig = sig1 / gpsfnorm\n",
    "\n",
    "# PSF detection map\n",
    "psfnorm = 1./(2.*np.sqrt(np.pi)*psf_sigma)\n",
    "print('PSF norm', psfnorm)\n",
    "psfdet = gaussian_filter(im, psf_sigma) / psfnorm**2\n",
    "psfsig1 = sig1 / psfnorm"
   ]
  },
  {
   "cell_type": "code",
   "execution_count": null,
   "metadata": {},
   "outputs": [],
   "source": [
    "psfsn = psfdet / psfsig1\n",
    "galsn = gdetsum / gdetsig\n",
    "\n",
    "plt.subplot(1,2,1)\n",
    "plt.imshow(psfsn, interpolation='nearest', origin='lower', vmin=-3, vmax=10.)\n",
    "plt.subplot(1,2,2)\n",
    "plt.imshow(galsn, interpolation='nearest', origin='lower', vmin=-3, vmax=10.);"
   ]
  },
  {
   "cell_type": "code",
   "execution_count": null,
   "metadata": {},
   "outputs": [],
   "source": [
    "psf = fits_table()\n",
    "# x,y in detection image\n",
    "psf.dx,psf.dy = detect_sources(psfsn, 10.)\n",
    "gal = fits_table()\n",
    "gal.dx, gal.dy = detect_sources(galsn, 10.)\n",
    "\n",
    "psf.psf_sn = psfsn[psf.dy, psf.dx]\n",
    "psf.gal_sn = galsn[psf.dy, psf.dx]\n",
    "gal.psf_sn = psfsn[gal.dy, gal.dx]\n",
    "gal.gal_sn = galsn[gal.dy, gal.dx]\n",
    "print(len(psf), 'PSF detections')\n",
    "print(len(gal), 'Galaxy detections')"
   ]
  },
  {
   "cell_type": "code",
   "execution_count": null,
   "metadata": {},
   "outputs": [],
   "source": [
    "# for viewing, convert to x,y in RGB image.\n",
    "r,d = imwcs.pixelxy2radec(psf.dx+1, psf.dy+1)\n",
    "ok,x,y = wcs.radec2pixelxy(r, d)\n",
    "psf.x = (x-1).astype(int)\n",
    "psf.y = (y-1).astype(int)\n",
    "\n",
    "r,d = imwcs.pixelxy2radec(gal.dx+1, gal.dy+1)\n",
    "ok,x,y = wcs.radec2pixelxy(r, d)\n",
    "gal.x = (x-1).astype(int)\n",
    "gal.y = (y-1).astype(int)\n",
    "\n",
    "H,W,nil = img.shape\n",
    "galok = gal[(gal.x > sz) * (gal.y > sz) * (gal.x < (W-sz)) * (gal.y < (H-sz))]\n",
    "#galok.cut((g_detiv[galok.y, galok.x] > 0) * (r_detiv[galok.y, galok.x] > 0) * (i_detiv[galok.y, galok.x] > 0))\n",
    "\n",
    "#I = np.argsort(-galok.gal_sn / galok.psf_sn);\n",
    "I = np.argsort(-(galok.gal_sn - galok.psf_sn))\n",
    "show_sources(galok[I], img)"
   ]
  },
  {
   "cell_type": "code",
   "execution_count": null,
   "metadata": {},
   "outputs": [],
   "source": [
    "S = fits_table('sweep-240p005-250p010.fits')\n",
    "len(S)"
   ]
  },
  {
   "cell_type": "code",
   "execution_count": null,
   "metadata": {},
   "outputs": [],
   "source": [
    "S.mag_g = -2.5*(np.log10(S.flux_g)-9)\n",
    "S.mag_r = -2.5*(np.log10(S.flux_r)-9)\n",
    "S.mag_z = -2.5*(np.log10(S.flux_z)-9)"
   ]
  },
  {
   "cell_type": "code",
   "execution_count": null,
   "metadata": {},
   "outputs": [],
   "source": [
    "plothist(S.mag_g - S.mag_r, S.mag_r - S.mag_z, range=((-1,5),(-1,5)));\n",
    "#plt.axis([-1, 5, -1, 5])\n"
   ]
  },
  {
   "cell_type": "code",
   "execution_count": null,
   "metadata": {},
   "outputs": [],
   "source": []
  }
 ],
 "metadata": {
  "kernelspec": {
   "display_name": "Python 3",
   "language": "python",
   "name": "python3"
  },
  "language_info": {
   "codemirror_mode": {
    "name": "ipython",
    "version": 3
   },
   "file_extension": ".py",
   "mimetype": "text/x-python",
   "name": "python",
   "nbconvert_exporter": "python",
   "pygments_lexer": "ipython3",
   "version": "3.7.0"
  }
 },
 "nbformat": 4,
 "nbformat_minor": 2
}
