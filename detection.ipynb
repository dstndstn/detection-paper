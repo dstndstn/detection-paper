{
 "cells": [
  {
   "cell_type": "code",
   "execution_count": null,
   "metadata": {},
   "outputs": [],
   "source": [
    "%matplotlib inline\n",
    "import matplotlib\n",
    "matplotlib.rcParams['figure.figsize'] = (10,8)\n",
    "import pylab as plt\n",
    "import numpy as np\n",
    "import fitsio\n",
    "from astrometry.util.fits import *\n",
    "from astrometry.util.util import Tan\n",
    "from astrometry.util.plotutils import *\n",
    "from astrometry.libkd.spherematch import match_radec\n",
    "from collections import Counter\n",
    "from astrometry.util.starutil import *\n",
    "from scipy.ndimage.filters import *\n",
    "from scipy.ndimage.measurements import label, find_objects\n",
    "from scipy.ndimage.morphology import binary_dilation, binary_fill_holes"
   ]
  },
  {
   "cell_type": "markdown",
   "metadata": {},
   "source": [
    "Read coadded images for making RGB plots"
   ]
  },
  {
   "cell_type": "code",
   "execution_count": null,
   "metadata": {},
   "outputs": [],
   "source": [
    "def sdss_rgb(imgs, bands, scales=None, m=0.03, Q=20):\n",
    "    rgbscales=dict(g=(2, 6.0),\n",
    "                   r=(1, 3.4),\n",
    "                   i=(0, 3.0),\n",
    "                   z=(0, 2.2))\n",
    "    if scales is not None:\n",
    "        rgbscales.update(scales)\n",
    "    I = 0\n",
    "    for img,band in zip(imgs, bands):\n",
    "        plane,scale = rgbscales[band]\n",
    "        img = np.maximum(0, img * scale + m)\n",
    "        I = I + img\n",
    "    I /= len(bands)\n",
    "    fI = np.arcsinh(Q * I) / np.sqrt(Q)\n",
    "    I += (I == 0.) * 1e-6\n",
    "    H,W = I.shape\n",
    "    rgb = np.zeros((H,W,3), np.float32)\n",
    "    for img,band in zip(imgs, bands):\n",
    "        plane,scale = rgbscales[band]\n",
    "        rgb[:,:,plane] = np.clip((img * scale + m) * fI / I, 0, 1)\n",
    "    return rgb"
   ]
  },
  {
   "cell_type": "code",
   "execution_count": null,
   "metadata": {},
   "outputs": [],
   "source": [
    "gco = fitsio.read('25/legacysurvey-custom-036450m04600-image-g.fits.fz')\n",
    "rco = fitsio.read('25/legacysurvey-custom-036450m04600-image-r.fits.fz')\n",
    "ico = fitsio.read('25/legacysurvey-custom-036450m04600-image-i.fits.fz')\n",
    "bands = 'gri'\n",
    "ims = [gco,rco,ico]\n",
    "s = 4\n",
    "scale = dict(g=(2, 6.0*s),\n",
    "            r=(1, 3.4*s),\n",
    "            i=(0, 3.0*s))\n",
    "img = sdss_rgb([gco,rco,ico], bands, scales=scale)\n",
    "#img = plt.imread('25/legacysurvey-custom-036450m04600-image.jpg')\n",
    "#img = np.flipud(img)\n",
    "\n",
    "rgb = sdss_rgb(ims, bands)\n",
    "# Show a small portion of the 4000 x 4400 image.\n",
    "plt.imshow(img[500:1200, 500:1200], origin='lower');"
   ]
  },
  {
   "cell_type": "markdown",
   "metadata": {},
   "source": [
    "Read the detection maps and inverse-variances"
   ]
  },
  {
   "cell_type": "code",
   "execution_count": null,
   "metadata": {},
   "outputs": [],
   "source": [
    "g_det = fitsio.read('25/detmap-g.fits')\n",
    "g_detiv = fitsio.read('25/detiv-g.fits')\n",
    "r_det = fitsio.read('25/detmap-r.fits')\n",
    "r_detiv = fitsio.read('25/detiv-r.fits')\n",
    "i_det = fitsio.read('25/detmap-i.fits')\n",
    "i_detiv = fitsio.read('25/detiv-i.fits')\n",
    "H,W = g_det.shape\n",
    "\n",
    "# In later versions of the code, the WCS headers are correctly written to the detection map images\n",
    "ra,dec = 36.45, -4.6\n",
    "pixscale = 0.262 / 3600.\n",
    "wcs = Tan(ra, dec, W/2.+0.5, H/2.+0.5,\n",
    "        -pixscale, 0., 0., pixscale,\n",
    "        float(W), float(H))\n",
    "imgwcs = wcs"
   ]
  },
  {
   "cell_type": "markdown",
   "metadata": {},
   "source": [
    "Read the number-of-exposure maps and define a simple \"good\" region with >= 12 exposures per pixel.  These images have a total of 25 exposures included.  This \"good\" map masks the chip gap, and the edges somewhat."
   ]
  },
  {
   "cell_type": "code",
   "execution_count": null,
   "metadata": {},
   "outputs": [],
   "source": [
    "Ng = fitsio.read('25/legacysurvey-custom-036450m04600-nexp-g.fits.fz')\n",
    "Nr = fitsio.read('25/legacysurvey-custom-036450m04600-nexp-r.fits.fz')\n",
    "Ni = fitsio.read('25/legacysurvey-custom-036450m04600-nexp-i.fits.fz')\n",
    "good = ((Ng >= 12) * (Nr >= 12) * (Ni >= 12))"
   ]
  },
  {
   "cell_type": "code",
   "execution_count": null,
   "metadata": {},
   "outputs": [],
   "source": [
    "# Compute a SED-matched signal-to-noise map from detection maps and an SED.\n",
    "def sedsn(detmaps, detivs, sed):\n",
    "    H,W = detmaps[0].shape\n",
    "    sedmap = np.zeros((H,W), np.float32)\n",
    "    sediv  = np.zeros((H,W), np.float32)\n",
    "    for detmap,detiv,s in zip(detmaps,detivs,sed):\n",
    "        if s == 0:\n",
    "            continue\n",
    "        # We convert the detmap to canonical band via\n",
    "        #   F_i = detmap_i / sed_i\n",
    "        # And the corresponding change to sig1 is\n",
    "        #   sig_f = sig1_i / sed_i\n",
    "        # And invvar is\n",
    "        #   invvar_f,i = sed_i^2 / sig1_i^2\n",
    "        #   invvar_f,i = sed_i^2 * detiv_i\n",
    "        # So the invvar-weighted accumulator is\n",
    "        #   F_i * invvar_f,i = (detmap_i / sed_i) * (sed_i^2 * detiv_i)\n",
    "        #                    = detmap_i * detiv_i * sed_i\n",
    "        sedmap += detmap * detiv * s\n",
    "        sediv  += detiv  * s**2\n",
    "    sedmap /= np.maximum(1e-16, sediv)\n",
    "    sedsn   = sedmap * np.sqrt(sediv)\n",
    "    return sedsn"
   ]
  },
  {
   "cell_type": "markdown",
   "metadata": {},
   "source": [
    "Create our list of SEDs."
   ]
  },
  {
   "cell_type": "code",
   "execution_count": null,
   "metadata": {},
   "outputs": [],
   "source": [
    "def colorsed(gr, ri):\n",
    "    return np.array([10.**(-0.4*gr), 1., 10.**(-0.4*-ri)])\n",
    "\n",
    "class SED(object):\n",
    "    def __init__(self, name, plotcolor, sed):\n",
    "        self.name = name\n",
    "        self.plotcolor = plotcolor\n",
    "        self.sed = sed\n",
    "        self.tname = name.replace('-','_') + '_sn'\n",
    "    def __repr__(self):\n",
    "        return self.name + ': ' + str(self.sed)\n",
    "\n",
    "sedlist = [\n",
    "    SED('blue',   '0.5',    colorsed(0., 0.)),\n",
    "    SED('yellow', 'orange', colorsed(1., 0.3)),\n",
    "    SED('red',    'r',      colorsed(1.5, 1.)),\n",
    "    SED('g-only', 'g',      np.array([1., 0., 0.])),\n",
    "    SED('r-only', 'pink',   np.array([0., 1., 0.])),\n",
    "    SED('i-only', 'm',      np.array([0., 0., 1.])),\n",
    "]\n",
    "for s in sedlist:\n",
    "    print('%8s' % s.name, '   '.join(['%6.3f' % x for x in s.sed]))\n",
    "\n",
    "detmaps = [g_det, r_det, i_det]\n",
    "detivs = [g_detiv, r_detiv, i_detiv]\n",
    "for s in sedlist:\n",
    "    s.snmap = sedsn(detmaps, detivs, s.sed)\n",
    "yellow_sed = sedlist[1]\n",
    "yellow_sn = yellow_sed.snmap"
   ]
  },
  {
   "cell_type": "code",
   "execution_count": null,
   "metadata": {},
   "outputs": [],
   "source": [
    "# A simple source detection method that returns the peak pixel within each blob of pixels above threshold.\n",
    "# No deblending.\n",
    "def detect_sources(snmap, threshold):\n",
    "    hot = (snmap > threshold)\n",
    "    hot = binary_dilation(hot, iterations=2)\n",
    "    hot = binary_fill_holes(hot)\n",
    "    blobs,nblobs = label(hot)\n",
    "    print(nblobs, 'blobs')\n",
    "    #print('blobs min', blobs.min(), 'max', blobs.max())\n",
    "    slices = find_objects(blobs)\n",
    "    px,py = [],[]\n",
    "    for i,slc in enumerate(slices):\n",
    "        blob_loc = blobs[slc]\n",
    "        sn_loc = snmap[slc]\n",
    "        imax = np.argmax((blob_loc == (i+1)) * sn_loc)\n",
    "        y,x = np.unravel_index(imax, blob_loc.shape)\n",
    "        y0,x0 = slc[0].start, slc[1].start\n",
    "        px.append(x0+x)\n",
    "        py.append(y0+y)\n",
    "    return np.array(px),np.array(py)"
   ]
  },
  {
   "cell_type": "markdown",
   "metadata": {},
   "source": [
    "Run the detection method on the \"Yellow\" SED-matched filter with a very high threshold."
   ]
  },
  {
   "cell_type": "code",
   "execution_count": null,
   "metadata": {},
   "outputs": [],
   "source": [
    "x,y = detect_sources(yellow_sn, 100.)\n",
    "sources = fits_table()\n",
    "sources.x = x\n",
    "sources.y = y\n",
    "sources.cut(good[sources.y, sources.x])\n",
    "print('Cut to', len(sources), 'good sources')\n",
    "sz = 20\n",
    "H,W = good.shape\n",
    "sources.cut((sources.x > sz) * (sources.y > sz) * (sources.x < (W-sz)) * (sources.y < (H-sz)))\n",
    "print(len(sources), 'not near edges')\n",
    "sources.cut((g_detiv[sources.y, sources.x] > 0) * (r_detiv[sources.y, sources.x] > 0) * (i_detiv[sources.y, sources.x] > 0))\n",
    "print(len(sources), 'with gri obs')\n",
    "\n",
    "for s in sedlist:\n",
    "    sources.set(s.tname, s.snmap[sources.y, sources.x])\n",
    "sources.imax = np.argmax(np.vstack([sources.get(s.tname) for s in sedlist]), axis=0)\n",
    "sources.max_sn = np.max(np.vstack([sources.get(s.tname) for s in sedlist]), axis=0)\n",
    "\n",
    "sources.g_sn = (g_det[sources.y, sources.x] * np.sqrt(g_detiv[sources.y, sources.x]))\n",
    "sources.r_sn = (r_det[sources.y, sources.x] * np.sqrt(r_detiv[sources.y, sources.x]))\n",
    "sources.i_sn = (i_det[sources.y, sources.x] * np.sqrt(i_detiv[sources.y, sources.x]))\n",
    "sources.g_flux = g_det[sources.y, sources.x]\n",
    "sources.r_flux = r_det[sources.y, sources.x]\n",
    "sources.i_flux = i_det[sources.y, sources.x]\n",
    "sources.ra,sources.dec = wcs.pixelxy2radec(sources.x+1, sources.y+1)\n",
    "sources.g_mag = -2.5*(np.log10(sources.g_flux) - 9)\n",
    "sources.r_mag = -2.5*(np.log10(sources.r_flux) - 9)\n",
    "sources.i_mag = -2.5*(np.log10(sources.i_flux) - 9)"
   ]
  },
  {
   "cell_type": "code",
   "execution_count": null,
   "metadata": {},
   "outputs": [],
   "source": [
    "def show_sources(T, img, R=10, C=10, sz=10, divider=0):\n",
    "    imgrows = []\n",
    "    k = 0\n",
    "    for i in range(R):\n",
    "        imgrow = []\n",
    "        for j in range(C):\n",
    "            if k >= len(T):\n",
    "                sub = np.zeros((sz*2+1,sz*2+1,3), np.uint8)\n",
    "            else:\n",
    "                f = T[k]\n",
    "                sub = img[f.y-sz : f.y+sz+1, f.x-sz : f.x+sz+1, :]\n",
    "            imgrow.append(sub)\n",
    "            if divider and j < C-1:\n",
    "                imgrow.append(np.zeros((sz*2+1,divider,3), np.uint8)+255)\n",
    "            k += 1\n",
    "        imgrow = np.hstack(imgrow)\n",
    "        #print('imgrow', imgrow.shape)\n",
    "        imgrows.append(imgrow)\n",
    "        if divider and i < R-1:\n",
    "            rh,rw,three = imgrow.shape\n",
    "            imgrows.append(np.zeros((divider, rw, 3), np.uint8) + 255)\n",
    "    imgrows = np.vstack(reversed(imgrows))\n",
    "    plt.imshow(imgrows, interpolation='nearest', origin='lower')\n",
    "    plt.xticks([]); plt.yticks([]);"
   ]
  },
  {
   "cell_type": "code",
   "execution_count": null,
   "metadata": {},
   "outputs": [],
   "source": [
    "show_sources(sources[np.argsort(-sources.yellow_sn)], img)"
   ]
  },
  {
   "cell_type": "markdown",
   "metadata": {},
   "source": [
    "Where in color-color space do sources detected most strongly by each of the SED-matched filters live?"
   ]
  },
  {
   "cell_type": "code",
   "execution_count": null,
   "metadata": {},
   "outputs": [],
   "source": [
    "for i,s in enumerate(sedlist):\n",
    "    sed = s.sed\n",
    "    if not np.all(sed > 0):\n",
    "        continue\n",
    "    I = np.flatnonzero(sources.imax == i)\n",
    "    plt.plot(sources.g_mag[I] - sources.r_mag[I], sources.r_mag[I] - sources.i_mag[I], '.', label=s.name,\n",
    "            color=s.plotcolor)\n",
    "    gr = -2.5 * np.log10(sed[0] / sed[1])\n",
    "    ri = -2.5 * np.log10(sed[1] / sed[2])\n",
    "    #print(sedlist[i].name, 'gr', gr, 'ri', ri)\n",
    "    plt.plot(gr, ri, 'ko', mfc='none', ms=8, mew=3)\n",
    "plt.axis([-0.8, 2.5, -0.8, 2])\n",
    "plt.xlabel('g-r (mag)')\n",
    "plt.ylabel('r-i (mag)')\n",
    "plt.legend();\n",
    "plt.savefig('best-color.png')"
   ]
  },
  {
   "cell_type": "markdown",
   "metadata": {},
   "source": [
    "Show sources that are most strongly detected by each of the SED-matched filters."
   ]
  },
  {
   "cell_type": "code",
   "execution_count": null,
   "metadata": {},
   "outputs": [],
   "source": [
    "for i,s in enumerate(sedlist):\n",
    "    I = np.flatnonzero(sources.imax == i)\n",
    "    #print(len(I), s.name)\n",
    "    show_sources(sources[I], img)\n",
    "    plt.title('%s best (%i)' % (s.name, len(I)));\n",
    "    plt.savefig('best-%s.png' % s.name)\n",
    "    #print('Coords:', list(zip(sources.x[I], 4400-sources.y[I]))[:10])\n",
    "    plt.show();"
   ]
  },
  {
   "cell_type": "markdown",
   "metadata": {},
   "source": [
    "Demonstrate galaxy detection"
   ]
  },
  {
   "cell_type": "code",
   "execution_count": null,
   "metadata": {},
   "outputs": [],
   "source": [
    "for galsig in [1]:\n",
    "    s = '%.1f' % galsig\n",
    "    g_galdet = fitsio.read('25/galdetmap-'+s+'-g.fits')\n",
    "    g_galdetiv = fitsio.read('25/galdetiv-'+s+'-g.fits')\n",
    "    r_galdet = fitsio.read('25/galdetmap-'+s+'-r.fits')\n",
    "    r_galdetiv = fitsio.read('25/galdetiv-'+s+'-r.fits')\n",
    "    i_galdet = fitsio.read('25/galdetmap-'+s+'-i.fits')\n",
    "    i_galdetiv = fitsio.read('25/galdetiv-'+s+'-i.fits')\n",
    "    gdetmaps = [g_galdet, r_galdet, i_galdet]\n",
    "    gdetivs = [g_galdetiv, r_galdetiv, i_galdetiv]\n",
    "    for s in sedlist:\n",
    "        setattr(s, 'galsnmap_%i' % int(galsig), sedsn(gdetmaps, gdetivs, s.sed))\n",
    "# Detect high-threshold sources in \"yellow\"-tuned galaxy map\n",
    "yellow_gal = yellow_sed.galsnmap_1\n",
    "x,y = detect_sources(yellow_gal, 100.)\n",
    "gals = fits_table()\n",
    "gals.x = x\n",
    "gals.y = y\n",
    "gals.cut(good[gals.y, gals.x])\n",
    "print('Cut to', len(gals), 'good gals')\n",
    "sz = 20\n",
    "H,W = good.shape\n",
    "gals.cut((gals.x > sz) * (gals.y > sz) * (gals.x < (W-sz)) * (gals.y < (H-sz)))\n",
    "print(len(gals), 'not near edges')\n",
    "gals.cut((g_galdetiv[gals.y, gals.x] > 0) * (r_galdetiv[gals.y, gals.x] > 0) * (i_galdetiv[gals.y, gals.x] > 0))\n",
    "print(len(gals), 'with gri obs')\n",
    "# Pull out SED strengths\n",
    "sns = []\n",
    "for s in sedlist:\n",
    "    # Galaxy\n",
    "    gals.set(s.tname, s.galsnmap_1[gals.y, gals.x])\n",
    "    # PSF\n",
    "    gals.set(s.tname+'_psf', s.snmap[gals.y, gals.x])\n",
    "    sns.append(s.galsnmap_1[gals.y, gals.x])\n",
    "sns = np.vstack(sns)\n",
    "gals.sn_max = np.max(sns, axis=0)\n",
    "gals.imax = np.argmax(sns, axis=0)\n",
    "\n",
    "# These are PSF fluxes/mags\n",
    "gals.g_sn = (g_det[gals.y, gals.x] * np.sqrt(g_detiv[gals.y, gals.x]))\n",
    "gals.r_sn = (r_det[gals.y, gals.x] * np.sqrt(r_detiv[gals.y, gals.x]))\n",
    "gals.i_sn = (i_det[gals.y, gals.x] * np.sqrt(i_detiv[gals.y, gals.x]))\n",
    "gals.g_flux = g_det[gals.y, gals.x]\n",
    "gals.r_flux = r_det[gals.y, gals.x]\n",
    "gals.i_flux = i_det[gals.y, gals.x]\n",
    "gals.ra,gals.dec = wcs.pixelxy2radec(gals.x+1, gals.y+1)\n",
    "gals.g_mag = -2.5*(np.log10(gals.g_flux) - 9)\n",
    "gals.r_mag = -2.5*(np.log10(gals.r_flux) - 9)\n",
    "gals.i_mag = -2.5*(np.log10(gals.i_flux) - 9)\n",
    "\n",
    "gals.g_galflux = g_galdet[gals.y, gals.x]\n",
    "gals.r_galflux = r_galdet[gals.y, gals.x]\n",
    "gals.i_galflux = i_galdet[gals.y, gals.x]\n",
    "gals.g_galmag = -2.5*(np.log10(gals.g_galflux) - 9)\n",
    "gals.r_galmag = -2.5*(np.log10(gals.r_galflux) - 9)\n",
    "gals.i_galmag = -2.5*(np.log10(gals.i_galflux) - 9)\n",
    "\n",
    "I = np.argsort(-gals.yellow_sn)\n",
    "gals.cut(I)"
   ]
  },
  {
   "cell_type": "markdown",
   "metadata": {},
   "source": [
    "Show galaxies with the largest difference between galaxy and PSF detections"
   ]
  },
  {
   "cell_type": "code",
   "execution_count": null,
   "metadata": {},
   "outputs": [],
   "source": [
    "plt.figure(figsize=(10,10))\n",
    "I = np.argsort(-(gals.yellow_sn - gals.yellow_sn_psf))\n",
    "show_sources(gals[I], img, sz=20)\n",
    "plt.savefig('gals-gauss.png')"
   ]
  },
  {
   "cell_type": "code",
   "execution_count": null,
   "metadata": {},
   "outputs": [],
   "source": [
    "plt.figure(figsize=(10,10))\n",
    "I = np.argsort(-(gals.yellow_sn - gals.yellow_sn_psf) * (gals.yellow_sn == gals.sn_max))\n",
    "show_sources(gals[I], img, sz=20)"
   ]
  },
  {
   "cell_type": "code",
   "execution_count": null,
   "metadata": {},
   "outputs": [],
   "source": [
    "plt.figure(figsize=(10,10))\n",
    "I = np.argsort(-(gals.red_sn - gals.red_sn_psf) * (gals.red_sn == gals.sn_max))\n",
    "show_sources(gals[I], img, sz=15)"
   ]
  },
  {
   "cell_type": "code",
   "execution_count": null,
   "metadata": {},
   "outputs": [],
   "source": [
    "plt.plot(gals.yellow_sn, gals.yellow_sn_psf, 'b.')\n",
    "plt.plot([100,20000], [100,20000], 'k-')\n",
    "plt.xscale('log')\n",
    "plt.yscale('log')"
   ]
  },
  {
   "cell_type": "code",
   "execution_count": null,
   "metadata": {},
   "outputs": [],
   "source": [
    "plt.semilogx(gals.yellow_sn, gals.yellow_sn / gals.yellow_sn_psf, 'k.', alpha=0.5);\n",
    "plt.ylim(0.9, 1.2)\n",
    "plt.xlabel('Galaxy S/N')\n",
    "plt.ylabel('Galaxy-to-PSF S/N ratio');"
   ]
  },
  {
   "cell_type": "code",
   "execution_count": null,
   "metadata": {},
   "outputs": [],
   "source": [
    "# Are the different SED-matched filters distributed differently in relative S/N space?  (No) \n",
    "for i,s in enumerate(sedlist):\n",
    "    sed = s.sed\n",
    "    if not np.all(sed > 0):\n",
    "        continue\n",
    "    I = np.flatnonzero(gals.imax == i)\n",
    "    plt.semilogx(gals.get(s.tname)[I], gals.get(s.tname)[I] / gals.get(s.tname + '_psf')[I],\n",
    "                 '.', label=s.name, color=s.plotcolor, alpha=0.5)\n",
    "plt.ylim(0.9, 1.2)\n",
    "plt.legend();"
   ]
  },
  {
   "cell_type": "code",
   "execution_count": null,
   "metadata": {},
   "outputs": [],
   "source": [
    "# Show sources in a narrow range of galaxy-to-PSF S/N ratios\n",
    "plt.figure(figsize=(10,10))\n",
    "f = gals.yellow_sn / gals.yellow_sn_psf\n",
    "#I = np.flatnonzero((f > 0.97) * (f < 1))\n",
    "#I = np.flatnonzero((f > 1.05) * (f < 1.06))\n",
    "#I = np.flatnonzero((f > 0.93) * (f < 0.97))\n",
    "I = np.flatnonzero((f > 1.1) * (f < 1.15))\n",
    "I = I[np.argsort(-gals.yellow_sn[I])]\n",
    "show_sources(gals[I], img, sz=15)"
   ]
  },
  {
   "cell_type": "markdown",
   "metadata": {},
   "source": [
    "Where in color space do the galaxy detections live?"
   ]
  },
  {
   "cell_type": "code",
   "execution_count": null,
   "metadata": {},
   "outputs": [],
   "source": [
    "plt.plot(gals.g_galmag - gals.r_galmag, gals.r_galmag - gals.i_galmag, 'k.', label='PSF')\n",
    "for i,s in enumerate(sedlist):\n",
    "    sed = s.sed\n",
    "    if not np.all(sed > 0):\n",
    "        continue\n",
    "    I = np.flatnonzero((gals.imax == i) * (gals.get(s.tname) > gals.get(s.tname+'_psf')))\n",
    "    plt.plot(gals.g_galmag[I] - gals.r_galmag[I], gals.r_galmag[I] - gals.i_galmag[I],\n",
    "         '.', label=s.name + \" gal\", color=s.plotcolor)\n",
    "plt.axis([-0.5, 2.5, -.5, 2])\n",
    "plt.legend()\n",
    "plt.xlabel('g-r (mag)')\n",
    "plt.ylabel('r-i (mag)');"
   ]
  },
  {
   "cell_type": "markdown",
   "metadata": {},
   "source": [
    "Back to PSF detection"
   ]
  },
  {
   "cell_type": "code",
   "execution_count": null,
   "metadata": {},
   "outputs": [],
   "source": [
    "plt.imshow(yellow_sn, interpolation='nearest', origin='lower', vmin=0, vmax=50, cmap='gray')\n",
    "ax = plt.axis()\n",
    "plt.plot(sources.x, sources.y, 'r.')\n",
    "plt.axis(ax)\n",
    "plt.axis([0,500,0,500]);"
   ]
  },
  {
   "cell_type": "markdown",
   "metadata": {},
   "source": [
    "Show detections that are strongest in the single-band-only filters"
   ]
  },
  {
   "cell_type": "code",
   "execution_count": null,
   "metadata": {},
   "outputs": [],
   "source": [
    "I = np.hstack((np.flatnonzero(sources.imax == 3),\n",
    "              np.flatnonzero(sources.imax == 4),\n",
    "              np.flatnonzero(sources.imax == 5)))\n",
    "show_sources(sources[I], img, R=6, C=7)"
   ]
  },
  {
   "cell_type": "markdown",
   "metadata": {},
   "source": [
    "Show individual epochs of imaging for the single-band-only detections"
   ]
  },
  {
   "cell_type": "code",
   "execution_count": null,
   "metadata": {
    "scrolled": false
   },
   "outputs": [],
   "source": [
    "from astrometry.util.util import wcs_pv2sip_hdr\n",
    "ccds = fits_table('survey-ccds-snx3-25.fits.gz')\n",
    "ccds.cut(np.argsort(ccds.mjd_obs))\n",
    "wcses = []\n",
    "Fhdu = []\n",
    "for ccd in ccds:\n",
    "    #F = fitsio.FITS(ccd.image_filename.strip())\n",
    "    hdr = fitsio.read_header(ccd.image_filename.strip(), ext=ccd.ccdname.strip())\n",
    "    ccdwcs = wcs_pv2sip_hdr(hdr)\n",
    "    wcses.append((ccdwcs, ccd))\n",
    "    Fhdu.append(fitsio.FITS(ccd.image_filename.strip())[ccd.ccdname.strip()])\n",
    "#plt.plot(sources.x[I], sources.y[I])\n",
    "\n",
    "\n",
    "for isrc,s in enumerate(sources[I]):\n",
    "    if not isrc+1 in [4]: #, 6, 9, 10]: #[1, 8, 29]:\n",
    "        continue\n",
    "    plt.imshow(img[s.y-50:s.y+51, s.x-50:s.x+51,:])\n",
    "    plt.show()\n",
    "    imgs = []\n",
    "    for j,(ccdwcs,ccd) in enumerate(wcses):\n",
    "        ok,xx,yy = ccdwcs.radec2pixelxy(s.ra, s.dec)\n",
    "        if not ((xx >= 1) * (yy >= 1) * (xx < ccdwcs.get_width()) * (yy < ccdwcs.get_height())):\n",
    "            continue\n",
    "        x = int(xx)-1\n",
    "        y = int(yy)-1\n",
    "        sz = 50\n",
    "        subimg = Fhdu[j][y-sz:y+sz+1, x-sz:x+sz+1]\n",
    "        imgs.append((subimg,ccd))\n",
    "    print(len(imgs))\n",
    "    plt.figure(figsize=(10,10))\n",
    "    plt.subplots_adjust(left=0.01, right=0.99, bottom=0.01, top=0.99, hspace=0.2, wspace=0.1)\n",
    "    plt.clf()\n",
    "    for k,(subimg,ccd) in enumerate(imgs[:81]):\n",
    "        plt.subplot(8,10,k+1)\n",
    "        pp = np.percentile(subimg.ravel(), [16,50,84])\n",
    "        med = pp[1]\n",
    "        sig = (pp[2]-pp[0])/2.\n",
    "        plt.imshow(subimg, vmin=med-3.*sig, vmax=med+10.*sig)\n",
    "        if subimg[sz,sz] > med+5.*sig:\n",
    "            plt.title('%i' % ccd.expnum, color='red')\n",
    "            print(isrc+1, 'jpl_query(%s, %s, %s)' % (s.ra, s.dec, ccd.mjd_obs))\n",
    "        else:\n",
    "            plt.title('%i' % ccd.expnum)\n",
    "        plt.xticks([]); plt.yticks([])\n",
    "    plt.show();"
   ]
  },
  {
   "cell_type": "markdown",
   "metadata": {},
   "source": [
    "Load DES DR1 catalog results for this region\n",
    "\n",
    "Via query of the database at\n",
    "https://des.ncsa.illinois.edu/easyweb/db-access\n",
    "\n",
    "SELECT RA, DEC, MAG_AUTO_G, MAG_AUTO_R, MAG_AUTO_I from DR1_MAIN\n",
    "where RA between 36.3 and 36.6\n",
    "and DEC between -4.76 and -4.44\n",
    "\n",
    "-> des-db-2.fits"
   ]
  },
  {
   "cell_type": "code",
   "execution_count": null,
   "metadata": {},
   "outputs": [],
   "source": [
    "sz = 20\n",
    "wcs = imgwcs\n",
    "DES = fits_table('des-db-2.fits')\n",
    "print(len(DES), 'DES')\n",
    "DES.cut((DES.mag_auto_g < 99) * (DES.mag_auto_r < 99) * (DES.mag_auto_i < 99))\n",
    "print(len(DES), 'with good mags')\n",
    "ok,x,y = wcs.radec2pixelxy(DES.ra, DES.dec)\n",
    "DES.x = (x-1).astype(np.int)\n",
    "DES.y = (y-1).astype(np.int)\n",
    "DES.cut((DES.x > sz) * (DES.y > sz) * (DES.x < (W-sz)) * (DES.y < (H-sz)))\n",
    "print(len(DES), 'not near edges')\n",
    "DES.cut(good[DES.y, DES.x])\n",
    "print(len(DES), 'in good region')"
   ]
  },
  {
   "cell_type": "markdown",
   "metadata": {},
   "source": [
    "Show mag distributions"
   ]
  },
  {
   "cell_type": "code",
   "execution_count": null,
   "metadata": {},
   "outputs": [],
   "source": [
    "ha = dict(bins=20, range=(18,28), histtype='step')\n",
    "plt.hist(DES.mag_auto_g, color='g', **ha)\n",
    "plt.hist(DES.mag_auto_r, color='r', **ha)\n",
    "plt.hist(DES.mag_auto_i, color='m', **ha)\n",
    "plt.xlabel('DES mag');"
   ]
  },
  {
   "cell_type": "markdown",
   "metadata": {},
   "source": [
    "Cross-match our detected sources with DES sources"
   ]
  },
  {
   "cell_type": "code",
   "execution_count": null,
   "metadata": {},
   "outputs": [],
   "source": [
    "MI,MJ,d = match_radec(sources.ra, sources.dec, DES.ra, DES.dec, 1./3600, nearest=True)\n",
    "print(len(MI), 'matches out of', len(sources), 'sources')\n",
    "MDES = DES[MJ]\n",
    "Msources = sources[MI]"
   ]
  },
  {
   "cell_type": "markdown",
   "metadata": {},
   "source": [
    "Show distribution of matched source mags"
   ]
  },
  {
   "cell_type": "code",
   "execution_count": null,
   "metadata": {},
   "outputs": [],
   "source": [
    "ha = dict(range=(20,28), bins=50, histtype='step')\n",
    "plt.hist(DES.mag_auto_r, color='r', **ha);\n",
    "plt.hist(MDES.mag_auto_r, color='r', ls='--', **ha);"
   ]
  },
  {
   "cell_type": "markdown",
   "metadata": {},
   "source": [
    "Show locations of DES sources in color-color space"
   ]
  },
  {
   "cell_type": "code",
   "execution_count": null,
   "metadata": {},
   "outputs": [],
   "source": [
    "#K = np.flatnonzero(DES.mag_auto_r < 23.)\n",
    "K = np.flatnonzero(DES.mag_auto_r < 27.)\n",
    "#print(len(K))\n",
    "#plt.plot(DES.mag_auto_g[K] - DES.mag_auto_r[K], DES.mag_auto_r[K] - DES.mag_auto_i[K], 'k.')\n",
    "#plt.axis([-0.5, 3, -0.5, 2]);\n",
    "plothist(DES.mag_auto_g[K] - DES.mag_auto_r[K], DES.mag_auto_r[K] - DES.mag_auto_i[K],\n",
    "         range=((-0.5, 3),(-0.5,2)));\n",
    "plt.xlabel('g-r (mag)')\n",
    "plt.ylabel('r-i (mag)');"
   ]
  },
  {
   "cell_type": "markdown",
   "metadata": {},
   "source": [
    "Compute DES flux-fractions / SED vectors"
   ]
  },
  {
   "cell_type": "code",
   "execution_count": null,
   "metadata": {},
   "outputs": [],
   "source": [
    "DES.flux_g = 10. ** ((DES.mag_auto_g - 22.5) / -2.5)\n",
    "DES.flux_r = 10. ** ((DES.mag_auto_r - 22.5) / -2.5)\n",
    "DES.flux_i = 10. ** ((DES.mag_auto_i - 22.5) / -2.5)\n",
    "flux = DES.flux_g + DES.flux_r + DES.flux_i\n",
    "DES.f_g = DES.flux_g / flux\n",
    "DES.f_r = DES.flux_r / flux\n",
    "DES.f_i = DES.flux_i / flux"
   ]
  },
  {
   "cell_type": "markdown",
   "metadata": {},
   "source": [
    "Histogram DES flux fractions to use in Bayesian SED-matched filter"
   ]
  },
  {
   "cell_type": "code",
   "execution_count": null,
   "metadata": {},
   "outputs": [],
   "source": [
    "nbins=11\n",
    "edge = 1. / (nbins-1) / 2.\n",
    "N,xe,ye = loghist(DES.f_g[K], DES.f_r[K], range=((0-edge,1+edge),(0-edge,1+edge)), nbins=nbins);\n",
    "N = N.T\n",
    "plt.xlabel('f_g')\n",
    "plt.ylabel('f_r');"
   ]
  },
  {
   "cell_type": "code",
   "execution_count": null,
   "metadata": {},
   "outputs": [],
   "source": [
    "print(np.sum(N > 0), 'color-color bins are populated; max N', N.max(), 'sum', N.sum())"
   ]
  },
  {
   "cell_type": "code",
   "execution_count": null,
   "metadata": {},
   "outputs": [],
   "source": [
    "plt.hist(DES.f_g[K], histtype='step', color='g');\n",
    "plt.hist(DES.f_r[K], histtype='step', color='r');\n",
    "plt.hist(DES.f_i[K], histtype='step', color='m');\n",
    "plt.xlabel('Flux fraction');"
   ]
  },
  {
   "cell_type": "markdown",
   "metadata": {},
   "source": [
    "Convert histogram bins into flux fractions and weights"
   ]
  },
  {
   "cell_type": "code",
   "execution_count": null,
   "metadata": {},
   "outputs": [],
   "source": [
    "iy,ix = np.nonzero(N > N.sum()*0.001)\n",
    "print(len(iy), 'significant bins')\n",
    "#iy,ix = np.unravel_index(np.arange(len(N.flat)), N.shape)\n",
    "# Find f_{g,r} histogram midpoints\n",
    "mx = (xe[:-1] + xe[1:]) / 2.\n",
    "my = (ye[:-1] + ye[1:]) / 2.\n",
    "fx = mx[ix]\n",
    "fy = my[iy]\n",
    "fn = N[iy,ix]"
   ]
  },
  {
   "cell_type": "code",
   "execution_count": null,
   "metadata": {},
   "outputs": [],
   "source": [
    "fg = fx\n",
    "fr = fy\n",
    "fi = 1. - (fg + fr)\n",
    "seds = np.clip(np.vstack((fg,fr,fi)).T, 0., 1.)\n",
    "weights = fn / np.sum(fn)"
   ]
  },
  {
   "cell_type": "code",
   "execution_count": null,
   "metadata": {},
   "outputs": [],
   "source": [
    "seds.shape, weights.shape, weights.dtype"
   ]
  },
  {
   "cell_type": "code",
   "execution_count": null,
   "metadata": {},
   "outputs": [],
   "source": [
    "plt.scatter(seds[:,0], seds[:,1], c=weights, cmap='hot', s=100)\n",
    "ax = plt.gca()\n",
    "ax.set_facecolor('0.5')\n",
    "plt.xlabel('f_g')\n",
    "plt.ylabel('f_r');"
   ]
  },
  {
   "cell_type": "code",
   "execution_count": null,
   "metadata": {},
   "outputs": [],
   "source": [
    "plothist(DES.mag_auto_g[K] - DES.mag_auto_r[K], DES.mag_auto_r[K] - DES.mag_auto_i[K],\n",
    "         range=((-0.5, 3),(-0.5,2)));\n",
    "plt.xlabel('g-r (mag)')\n",
    "plt.ylabel('r-i (mag)')\n",
    "for (fg,fr,fi),w in zip(seds,weights):\n",
    "    #print('SED', fg,fr,fi, 'weight', w)\n",
    "    if min(fg, fr, fi) == 0:\n",
    "        continue\n",
    "    gr = -2.5 * np.log10(fg / fr)\n",
    "    ri = -2.5 * np.log10(fr / fi)\n",
    "    plt.plot(gr, ri, 'x', color='g', mfc='none', ms=8, mew=3)\n",
    "    plt.text(gr, ri, '%i' % (100*w), color='1')\n",
    "    plt.gca().set_fc('0.5')"
   ]
  },
  {
   "cell_type": "code",
   "execution_count": null,
   "metadata": {},
   "outputs": [],
   "source": [
    "from scipy.special import erf, erfc, erfcx, logsumexp\n",
    "def log_pratio_bayes(seds, weights, D, Div, alpha):\n",
    "    '''\n",
    "    N: # SEDs\n",
    "    J: # bands\n",
    "    H,W: # pixels\n",
    "\n",
    "    seds: N x J\n",
    "    weights: N\n",
    "    D: J x H x W\n",
    "    Div: J x H x W\n",
    "\n",
    "    D is detection map\n",
    "    Div is detection map inverse-variance\n",
    "    '''\n",
    "    J,H,W = D.shape\n",
    "    N = len(weights)\n",
    "    assert(seds.shape == (N,J))\n",
    "    assert(weights.shape == (N,))\n",
    "    assert(Div.shape == (J,H,W))\n",
    "\n",
    "    terms = np.empty((N,H,W), np.float32)\n",
    "    terms[:,:,:] = -1e6\n",
    "    for i in range(N):\n",
    "        # sum over bands j\n",
    "        a_i = alpha - np.sum(D * seds[i,:,np.newaxis,np.newaxis] * Div, axis=0)\n",
    "        assert(a_i.shape == (H,W))\n",
    "        # sum over bands j\n",
    "        b_i = 0.5 * np.sum(seds[i,:,np.newaxis,np.newaxis]**2 * Div, axis=0)\n",
    "        assert(b_i.shape == (H,W))\n",
    "        beta_i = 2 * np.sqrt(b_i)\n",
    "        ok = np.nonzero(b_i)\n",
    "        c_i = a_i[ok] / beta_i[ok]\n",
    "        terms[i,:,:][ok] = np.log(weights[i] / beta_i[ok]) + np.log(erfc(c_i)) + c_i**2\n",
    "        print('.', end='')\n",
    "    print()\n",
    "    lse = logsumexp(terms, axis=0)\n",
    "    return lse + np.log(alpha * np.sqrt(np.pi))"
   ]
  },
  {
   "cell_type": "code",
   "execution_count": null,
   "metadata": {},
   "outputs": [],
   "source": [
    "H,W = detmaps[0].shape\n",
    "J = 3\n",
    "D = np.zeros((J,H,W))\n",
    "Div = np.zeros((J,H,W))\n",
    "for i,(d,div) in enumerate(zip(detmaps,detivs)):\n",
    "    D[i,:,:] = d\n",
    "    Div[i,:,:] = div\n",
    "alpha = 1.\n",
    "lprb = log_pratio_bayes(seds, weights, D, Div, alpha)"
   ]
  },
  {
   "cell_type": "code",
   "execution_count": null,
   "metadata": {},
   "outputs": [],
   "source": [
    "plt.imshow(lprb, vmin=-6, vmax=20)\n",
    "lprb.min(), lprb.max()"
   ]
  },
  {
   "cell_type": "code",
   "execution_count": null,
   "metadata": {},
   "outputs": [],
   "source": [
    "# 60 -> 3115\n",
    "x,y = detect_sources(yellow_sn, 60.)\n",
    "sources = fits_table()\n",
    "sources.x = x\n",
    "sources.y = y\n",
    "sources.cut(good[sources.y, sources.x])\n",
    "print('Cut to', len(sources), 'good sources')\n",
    "sz = 20\n",
    "H,W = good.shape\n",
    "sources.cut((sources.x > sz) * (sources.y > sz) * (sources.x < (W-sz)) * (sources.y < (H-sz)))\n",
    "print(len(sources), 'not near edges')\n",
    "sources.cut((g_detiv[sources.y, sources.x] > 0) * (r_detiv[sources.y, sources.x] > 0) * (i_detiv[sources.y, sources.x] > 0))\n",
    "print(len(sources), 'with gri obs')\n",
    "\n",
    "for s in sedlist:\n",
    "    sources.set(s.tname, s.snmap[sources.y, sources.x])\n",
    "sources.imax = np.argmax(np.vstack([sources.get(s.tname) for s in sedlist]), axis=0)\n",
    "sources.max_sn = np.max(np.vstack([sources.get(s.tname) for s in sedlist]), axis=0)\n",
    "\n",
    "sources.g_sn = (g_det[sources.y, sources.x] * np.sqrt(g_detiv[sources.y, sources.x]))\n",
    "sources.r_sn = (r_det[sources.y, sources.x] * np.sqrt(r_detiv[sources.y, sources.x]))\n",
    "sources.i_sn = (i_det[sources.y, sources.x] * np.sqrt(i_detiv[sources.y, sources.x]))\n",
    "sources.g_flux = g_det[sources.y, sources.x]\n",
    "sources.r_flux = r_det[sources.y, sources.x]\n",
    "sources.i_flux = i_det[sources.y, sources.x]\n",
    "sources.ra,sources.dec = wcs.pixelxy2radec(sources.x+1, sources.y+1)\n",
    "sources.g_mag = -2.5*(np.log10(sources.g_flux) - 9)\n",
    "sources.r_mag = -2.5*(np.log10(sources.r_flux) - 9)\n",
    "sources.i_mag = -2.5*(np.log10(sources.i_flux) - 9)"
   ]
  },
  {
   "cell_type": "code",
   "execution_count": null,
   "metadata": {},
   "outputs": [],
   "source": [
    "# 800  -> 4480\n",
    "# 850  -> 4370\n",
    "# 900  -> 4275\n",
    "# 1000 -> 4096\n",
    "# 2000 -> 3059\n",
    "bx,by = detect_sources(lprb, 2000)\n",
    "bsources = fits_table()\n",
    "bsources.x = bx\n",
    "bsources.y = by\n",
    "bsources.y,bsources.x = np.round(bsources.y).astype(int), np.round(bsources.x).astype(int)\n",
    "bsources.lprb = lprb[bsources.y,bsources.x]\n",
    "bsources.cut((bsources.x > sz) * (bsources.x < (W-sz)) * (bsources.y > sz) * (bsources.y < (H-sz)))\n",
    "bsources.cut(good[bsources.y, bsources.x])\n",
    "print('Kept', len(bsources))\n",
    "bsources.g_flux = g_det[bsources.y, bsources.x]\n",
    "bsources.r_flux = r_det[bsources.y, bsources.x]\n",
    "bsources.i_flux = i_det[bsources.y, bsources.x]\n",
    "bsources.ra,bsources.dec = wcs.pixelxy2radec(bsources.x+1, bsources.y+1)\n",
    "bsources.g_mag = -2.5*(np.log10(bsources.g_flux) - 9)\n",
    "bsources.r_mag = -2.5*(np.log10(bsources.r_flux) - 9)\n",
    "bsources.i_mag = -2.5*(np.log10(bsources.i_flux) - 9)\n",
    "\n",
    "plt.figure(figsize=(8,8))\n",
    "I = np.argsort(-bsources.lprb)\n",
    "show_sources(bsources[I], img, R=20, C=20)"
   ]
  },
  {
   "cell_type": "code",
   "execution_count": null,
   "metadata": {},
   "outputs": [],
   "source": [
    "plt.hist(lprb.ravel(), log=True, bins=100, range=(-10, 100));"
   ]
  },
  {
   "cell_type": "code",
   "execution_count": null,
   "metadata": {},
   "outputs": [],
   "source": [
    "I = np.argsort(-bsources.lprb)\n",
    "bsources.cut(I)\n",
    "bsources.gr = bsources.g_mag - bsources.r_mag\n",
    "bsources.ri = bsources.r_mag - bsources.i_mag"
   ]
  },
  {
   "cell_type": "code",
   "execution_count": null,
   "metadata": {},
   "outputs": [],
   "source": [
    "I = np.argsort(-sources.max_sn)\n",
    "sources.cut(I)"
   ]
  },
  {
   "cell_type": "code",
   "execution_count": null,
   "metadata": {},
   "outputs": [],
   "source": [
    "print(len(bsources), len(sources), bsources[2000].lprb)"
   ]
  },
  {
   "cell_type": "code",
   "execution_count": null,
   "metadata": {},
   "outputs": [],
   "source": [
    "sources.gr = sources.g_mag - sources.r_mag\n",
    "sources.ri = sources.r_mag - sources.i_mag"
   ]
  },
  {
   "cell_type": "code",
   "execution_count": null,
   "metadata": {},
   "outputs": [],
   "source": [
    "N = min(len(bsources), len(sources))\n",
    "plt.plot((bsources.g_mag - bsources.r_mag)[:N], (bsources.r_mag - bsources.i_mag)[:N], 'k.');\n",
    "plt.plot((sources.g_mag - sources.r_mag)[:N], (sources.r_mag - sources.i_mag)[:N], 'r.');"
   ]
  },
  {
   "cell_type": "code",
   "execution_count": null,
   "metadata": {},
   "outputs": [],
   "source": [
    "from astrometry.libkd.spherematch import match_xy\n",
    "I,J,d = match_xy(bsources.x[:N], bsources.y[:N], sources.x[:N], sources.y[:N], 5.)\n",
    "print(len(bsources), len(sources), len(I), I.max(), J.max())\n",
    "plt.hist(d);"
   ]
  },
  {
   "cell_type": "code",
   "execution_count": null,
   "metadata": {},
   "outputs": [],
   "source": [
    "UB = np.ones(N, bool)\n",
    "UB[I] = False\n",
    "UB = np.flatnonzero(UB)\n",
    "US = np.ones(N, bool)\n",
    "US[J] = False\n",
    "US = np.flatnonzero(US)\n",
    "len(UB), len(US)"
   ]
  },
  {
   "cell_type": "code",
   "execution_count": null,
   "metadata": {},
   "outputs": [],
   "source": [
    "plt.plot(I, J, 'b.', alpha=0.1);"
   ]
  },
  {
   "cell_type": "code",
   "execution_count": null,
   "metadata": {},
   "outputs": [],
   "source": [
    "plt.plot(bsources.lprb[I], sources.max_sn[J], 'b.')"
   ]
  },
  {
   "cell_type": "code",
   "execution_count": null,
   "metadata": {},
   "outputs": [],
   "source": [
    "plt.plot(sources.gr[US],  sources.ri[US], 'o', mec='r', mfc='none',\n",
    "        label='Max(SN) only');\n",
    "plt.plot(bsources.gr[UB], bsources.ri[UB], 'kx',\n",
    "        label='Bayesian only');\n",
    "plt.xlabel('g-r (mag)')\n",
    "plt.ylabel('r-i (mag)')\n",
    "plt.legend()\n",
    "for i,s in enumerate(sedlist):\n",
    "    if not np.all(s.sed > 0):\n",
    "        continue\n",
    "    gr = -2.5 * np.log10(s.sed[0] / s.sed[1])\n",
    "    ri = -2.5 * np.log10(s.sed[1] / s.sed[2])\n",
    "    plt.plot(gr, ri, 'o', color='b', mfc='none', ms=8, mew=3)\n",
    "\n",
    "for (fg,fr,fi),w in zip(seds,weights):\n",
    "    if min(fg, fr, fi) == 0:\n",
    "        continue\n",
    "    gr = -2.5 * np.log10(fg / fr)\n",
    "    ri = -2.5 * np.log10(fr / fi)\n",
    "    #plt.plot(gr, ri, 'x', color='g', mfc='none', ms=8, mew=3)\n",
    "    #plt.text(gr, ri, '%i' % (100*w))\n",
    "plt.axis([-1, 3, -1, 3]);"
   ]
  },
  {
   "cell_type": "code",
   "execution_count": null,
   "metadata": {},
   "outputs": [],
   "source": [
    "ha = dict(nbins=20, range=((-1,3),(-1,3)), docolorbar=False, doclf=False)\n",
    "NB,xe,ye = plothist(bsources.gr[:N], bsources.ri[:N], **ha);\n",
    "NB = NB.T\n",
    "plt.show()\n",
    "NS,xe,ye = plothist(sources.gr[:N], sources.ri[:N], **ha);\n",
    "NS = NS.T\n",
    "plt.show()"
   ]
  },
  {
   "cell_type": "code",
   "execution_count": null,
   "metadata": {},
   "outputs": [],
   "source": [
    "plt.imshow(NB - NS, interpolation='nearest', origin='lower', cmap='RdBu', vmin=-10, vmax=10,\n",
    "          extent=[-1,3,-1,3]);\n",
    "plt.colorbar();"
   ]
  },
  {
   "cell_type": "code",
   "execution_count": null,
   "metadata": {},
   "outputs": [],
   "source": [
    "ha = dict(nbins=20, range=((-1,3),(-1,3)), docolorbar=False, doclf=False)\n",
    "plothist(bsources.gr[UB], bsources.ri[UB], **ha);\n",
    "plt.show()\n",
    "plothist(sources.gr[US], sources.ri[US], **ha);\n",
    "plt.show()"
   ]
  },
  {
   "cell_type": "code",
   "execution_count": null,
   "metadata": {},
   "outputs": [],
   "source": [
    "plt.figure(figsize=(10,7))\n",
    "show_sources(bsources[UB], img, R=10, C=10)\n",
    "plt.suptitle('Bayesian only');"
   ]
  },
  {
   "cell_type": "code",
   "execution_count": null,
   "metadata": {},
   "outputs": [],
   "source": [
    "plt.figure(figsize=(10,7))\n",
    "show_sources(sources[US], img, R=10, C=10)\n",
    "plt.title('Max(SED) only');"
   ]
  },
  {
   "cell_type": "code",
   "execution_count": null,
   "metadata": {},
   "outputs": [],
   "source": [
    "plt.figure(figsize=(10,7))\n",
    "show_sources(bsources[-300:], img, R=15, C=20)\n",
    "plt.title('Bayesian faintest');"
   ]
  },
  {
   "cell_type": "code",
   "execution_count": null,
   "metadata": {},
   "outputs": [],
   "source": [
    "plt.figure(figsize=(10,7))\n",
    "show_sources(sources[-300:], img, R=15, C=20)\n",
    "plt.title('Max(SN) faintest');"
   ]
  },
  {
   "cell_type": "code",
   "execution_count": null,
   "metadata": {},
   "outputs": [],
   "source": []
  },
  {
   "cell_type": "code",
   "execution_count": null,
   "metadata": {},
   "outputs": [],
   "source": []
  },
  {
   "cell_type": "code",
   "execution_count": null,
   "metadata": {},
   "outputs": [],
   "source": []
  },
  {
   "cell_type": "code",
   "execution_count": null,
   "metadata": {},
   "outputs": [],
   "source": []
  },
  {
   "cell_type": "code",
   "execution_count": null,
   "metadata": {},
   "outputs": [],
   "source": []
  },
  {
   "cell_type": "code",
   "execution_count": null,
   "metadata": {},
   "outputs": [],
   "source": []
  },
  {
   "cell_type": "code",
   "execution_count": null,
   "metadata": {},
   "outputs": [],
   "source": []
  },
  {
   "cell_type": "code",
   "execution_count": null,
   "metadata": {},
   "outputs": [],
   "source": []
  },
  {
   "cell_type": "code",
   "execution_count": null,
   "metadata": {},
   "outputs": [],
   "source": [
    "# 60 -> 2914\n",
    "# 55 -> 3135\n",
    "# 50 -> 3398\n",
    "xg,yg = detect_sources(detmaps[0] * np.sqrt(detivs[0]), 50.)\n",
    "xr,yr = detect_sources(detmaps[1] * np.sqrt(detivs[1]), 50.)\n",
    "xi,yi = detect_sources(detmaps[2] * np.sqrt(detivs[2]), 50.)\n",
    "print('Detected', len(xg),len(xr),len(xi), 'gri')\n",
    "xm,ym = xg.copy(),yg.copy()\n",
    "for xx,yy in [(xr,yr),(xi,yi)]:\n",
    "    I,J,d = match_xy(xm,ym, xx,yy, 5.)\n",
    "    print('Matched:', len(I))\n",
    "    U = np.ones(len(xx), bool)\n",
    "    U[J] = False\n",
    "    print('Unmatched:', np.sum(U))\n",
    "    xm = np.hstack((xm, xx[U]))\n",
    "    ym = np.hstack((ym, yy[U]))\n",
    "print('Total of', len(xm))"
   ]
  },
  {
   "cell_type": "code",
   "execution_count": null,
   "metadata": {},
   "outputs": [],
   "source": [
    "sources = fits_table()\n",
    "sources.x = xm\n",
    "sources.y = ym\n",
    "iy,ix = np.round(sources.y).astype(int), np.round(sources.x).astype(int)\n",
    "sources.sn_g = (detmaps[0] * np.sqrt(detivs[0]))[iy,ix]\n",
    "sources.sn_r = (detmaps[1] * np.sqrt(detivs[1]))[iy,ix]\n",
    "sources.sn_i = (detmaps[2] * np.sqrt(detivs[2]))[iy,ix]\n",
    "sources.g_flux = g_det[sources.y, sources.x]\n",
    "sources.r_flux = r_det[sources.y, sources.x]\n",
    "sources.i_flux = i_det[sources.y, sources.x]\n",
    "sources.ra,sources.dec = wcs.pixelxy2radec(sources.x+1, sources.y+1)\n",
    "sources.g_mag = -2.5*(np.log10(sources.g_flux) - 9)\n",
    "sources.r_mag = -2.5*(np.log10(sources.r_flux) - 9)\n",
    "sources.i_mag = -2.5*(np.log10(sources.i_flux) - 9)\n",
    "sources.gr = sources.g_mag - sources.r_mag\n",
    "sources.ri = sources.r_mag - sources.i_mag\n",
    "sources.sn_max = np.maximum(sources.sn_g, np.maximum(sources.sn_r, sources.sn_i))\n",
    "sources.cut((sources.x > sz) * (sources.x < (W-sz)) * (sources.y > sz) * (sources.y < (H-sz)))\n",
    "sources.cut(good[sources.y, sources.x])\n",
    "print('Kept', len(sources))\n",
    "I = np.argsort(-sources.sn_max)\n",
    "sources.cut(I)"
   ]
  },
  {
   "cell_type": "code",
   "execution_count": null,
   "metadata": {},
   "outputs": [],
   "source": [
    "show_sources(sources, img, R=20, C=20)"
   ]
  },
  {
   "cell_type": "code",
   "execution_count": null,
   "metadata": {},
   "outputs": [],
   "source": [
    "from astrometry.libkd.spherematch import match_xy\n",
    "N = min(len(sources), len(bsources))\n",
    "I,J,d = match_xy(bsources.x[:N], bsources.y[:N], sources.x[:N], sources.y[:N], 5.)\n",
    "print(len(bsources), len(sources), len(I), I.max(), J.max())\n",
    "plt.hist(d);"
   ]
  },
  {
   "cell_type": "code",
   "execution_count": null,
   "metadata": {},
   "outputs": [],
   "source": [
    "UB = np.ones(N, bool)\n",
    "UB[I] = False\n",
    "UB = np.flatnonzero(UB)\n",
    "US = np.ones(N, bool)\n",
    "US[J] = False\n",
    "US = np.flatnonzero(US)\n",
    "print(len(UB), 'unmatched')"
   ]
  },
  {
   "cell_type": "code",
   "execution_count": null,
   "metadata": {},
   "outputs": [],
   "source": [
    "plt.plot(sources.gr[US],  sources.ri[US], 'o', mec='r', mfc='none',\n",
    "        label='g+r+i only');\n",
    "plt.plot(bsources.gr[UB], bsources.ri[UB], 'kx',\n",
    "        label='Bayesian only');\n",
    "plt.xlabel('g-r (mag)')\n",
    "plt.ylabel('r-i (mag)')\n",
    "plt.legend()\n",
    "for (fg,fr,fi),w in zip(seds,weights):\n",
    "    if min(fg, fr, fi) == 0:\n",
    "        continue\n",
    "    gr = -2.5 * np.log10(fg / fr)\n",
    "    ri = -2.5 * np.log10(fr / fi)\n",
    "    #plt.plot(gr, ri, 'x', color='g', mfc='none', ms=8, mew=3)\n",
    "    #plt.text(gr, ri, '%i' % (100*w))\n",
    "plt.axis([-1, 3, -1, 3]);"
   ]
  },
  {
   "cell_type": "code",
   "execution_count": null,
   "metadata": {},
   "outputs": [],
   "source": [
    "ha = dict(nbins=20, range=((-1,3),(-1,3)), docolorbar=False, doclf=False)\n",
    "plt.clf()\n",
    "plt.subplot(1,2,1)\n",
    "NB,xe,ye = plothist(bsources.gr[:N], bsources.ri[:N], **ha);\n",
    "NB = NB.T\n",
    "plt.subplot(1,2,2)\n",
    "NS,xe,ye = plothist(sources.gr[:N], sources.ri[:N], **ha);\n",
    "NS = NS.T"
   ]
  },
  {
   "cell_type": "code",
   "execution_count": null,
   "metadata": {},
   "outputs": [],
   "source": [
    "plt.imshow(NB - NS, interpolation='nearest', origin='lower', cmap='RdBu', vmin=-10, vmax=10,\n",
    "          extent=[-1,3,-1,3]);\n",
    "plt.colorbar();"
   ]
  },
  {
   "cell_type": "code",
   "execution_count": null,
   "metadata": {},
   "outputs": [],
   "source": [
    "plt.figure(figsize=(10,7))\n",
    "show_sources(bsources[UB], img, R=15, C=20)\n",
    "plt.suptitle('Bayesian only');"
   ]
  },
  {
   "cell_type": "code",
   "execution_count": null,
   "metadata": {},
   "outputs": [],
   "source": [
    "plt.figure(figsize=(10,7))\n",
    "show_sources(sources[US], img, R=15, C=20)\n",
    "plt.suptitle('g+r+i only');"
   ]
  },
  {
   "cell_type": "code",
   "execution_count": null,
   "metadata": {},
   "outputs": [],
   "source": [
    "plt.figure(figsize=(15,15))\n",
    "plt.imshow(img)\n",
    "plt.plot(sources.x[US], sources.y[US], 'ro')\n",
    "plt.plot(bsources.x[UB], bsources.y[UB], 'go');"
   ]
  },
  {
   "cell_type": "code",
   "execution_count": null,
   "metadata": {},
   "outputs": [],
   "source": []
  },
  {
   "cell_type": "code",
   "execution_count": null,
   "metadata": {},
   "outputs": [],
   "source": []
  },
  {
   "cell_type": "code",
   "execution_count": null,
   "metadata": {},
   "outputs": [],
   "source": [
    "## FIXME -- star vs galaxy; isolated\n",
    "colorbins = np.linspace(-0.5, 4.0, 10)\n",
    "#colorbins = np.linspace(-0.5, 4.0, 19)\n",
    "II = []\n",
    "K = []\n",
    "DES.gi = DES.mag_auto_g - DES.mag_auto_i\n",
    "for clo,chi in zip(colorbins, colorbins[1:]):\n",
    "    C = np.flatnonzero((DES.gi >= clo) * (DES.gi < chi))\n",
    "    minmag = np.vstack((DES.mag_auto_g, DES.mag_auto_r, DES.mag_auto_i)).max(axis=0)[C]\n",
    "    #I.extend(J[np.argsort(DES.mag_auto_r[J])[:10]])\n",
    "    C = C[np.argsort(np.abs(minmag - 17.9))]\n",
    "    II.extend(C[:10])\n",
    "    K.append(C[0])\n",
    "    #print('min mags', np.sort(minmag)[:10])\n",
    "    #print('r mags', np.sort(DES.mag_auto_r[J])[:10])\n",
    "show_sources(DES[II], img)"
   ]
  },
  {
   "cell_type": "code",
   "execution_count": null,
   "metadata": {},
   "outputs": [],
   "source": [
    "plt.axhline(1., color='orange', lw=5)\n",
    "plt.axhline(1., color='k', alpha=0.5)\n",
    "plt.plot(MDES.mag_auto_g - MDES.mag_auto_i, Msources.blue_sn / Msources.yellow_sn, 'bx', alpha=0.3,\n",
    "        label='Blue SED');\n",
    "plt.plot(MDES.mag_auto_g - MDES.mag_auto_i, Msources.red_sn  / Msources.yellow_sn, 'r.', alpha=0.5,\n",
    "        label='Red SED');\n",
    "plt.xlabel('DES g-i color (mag)')\n",
    "plt.ylabel('Relative strength of SED-matched filter vs Yellow');\n",
    "plt.legend(loc='upper left')\n",
    "ymin = 0.5\n",
    "plt.axis([-0.5, 4.0, ymin, 1.3])\n",
    "ax = plt.axis()\n",
    "aspect = plt.gca().get_aspect()\n",
    "for clo,chi,k in zip(colorbins, colorbins[1:], K):\n",
    "    x,y = DES.x[k], DES.y[k]\n",
    "    plt.imshow(img[y-sz:y+sz+1, x-sz:x+sz+1], interpolation='nearest', origin='lower',\n",
    "              extent=[clo,chi,ymin,ymin+0.15], zorder=20)\n",
    "plt.axis(ax)\n",
    "plt.gca().set_aspect(aspect);\n",
    "plt.savefig('strength3.png')"
   ]
  },
  {
   "cell_type": "code",
   "execution_count": null,
   "metadata": {},
   "outputs": [],
   "source": [
    "x = np.linspace(-100, 100, 200)\n",
    "#plt.semilogy(x, erfcx(x), 'b-')\n",
    "#plt.semilogy(x, np.exp(x**2), 'r-')\n",
    "plt.plot(x, np.log(erfcx(x)), 'b-', lw=3)\n",
    "plt.plot(x, x**2, 'r-');\n",
    "#plt.ylim(-10,10)"
   ]
  },
  {
   "cell_type": "code",
   "execution_count": null,
   "metadata": {},
   "outputs": [],
   "source": []
  },
  {
   "cell_type": "code",
   "execution_count": null,
   "metadata": {},
   "outputs": [],
   "source": [
    "# Galaxy detection.\n",
    "from tractor.splinesky import SplineSky\n",
    "from tractor.psfex import PixelizedPsfEx\n",
    "from astrometry.util.util import wcs_pv2sip_hdr\n",
    "\n",
    "imfn = '1/data/images/decam/cp/c4d_160814_085515_ooi_g_v1-N4.fits'\n",
    "im = fitsio.read(imfn)                 \n",
    "dq = fitsio.read('1/data/images/decam/cp/c4d_160814_085515_ood_g_v1-N4.fits')\n",
    "wt = fitsio.read('1/data/images/decam/cp/c4d_160814_085515_oow_g_v1-N4.fits')\n",
    "sig1 = 1./np.sqrt(np.median(wt[dq==0]))\n",
    "H,W = im.shape\n",
    "\n",
    "hdr = fitsio.read_header(imfn, ext=1)\n",
    "imwcs = wcs_pv2sip_hdr(hdr)\n",
    "\n",
    "fn = '1/data/calib/decam/splinesky/00563/00563982/decam-00563982-N4.fits'\n",
    "sky = SplineSky.from_fits(fn, None)\n",
    "sky.addTo(im, scale=-1)\n",
    "psf = PixelizedPsfEx('1/data/calib/decam/psfex/00563/00563982/decam-00563982-N4.fits')"
   ]
  },
  {
   "cell_type": "code",
   "execution_count": null,
   "metadata": {},
   "outputs": [],
   "source": [
    "#plt.hist(im.ravel(), range=(-5.*sig1, 5.*sig1), bins=100);"
   ]
  },
  {
   "cell_type": "code",
   "execution_count": null,
   "metadata": {},
   "outputs": [],
   "source": [
    "from tractor import Image, NullWCS, ExpGalaxy, ConstantSky, LinearPhotoCal, NanoMaggies, PixPos, GaussianMixturePSF, Tractor\n",
    "from tractor.ellipses import EllipseE"
   ]
  },
  {
   "cell_type": "code",
   "execution_count": null,
   "metadata": {},
   "outputs": [],
   "source": [
    "v = (psf.fwhm / 2.35)**2\n",
    "gpsf = GaussianMixturePSF(1., 0., 0., v, v, 0)                          \n",
    "tim = Image(data=im, inverr=(dq == 0)*1./sig1, wcs=NullWCS(pixscale=0.262),\n",
    "           psf=psf, sky=ConstantSky(0.), photocal=LinearPhotoCal(1., band='g'))"
   ]
  },
  {
   "cell_type": "code",
   "execution_count": null,
   "metadata": {},
   "outputs": [],
   "source": [
    "gal = ExpGalaxy(PixPos(W/2., H/2.), NanoMaggies(g=1.), EllipseE(0.7, 0., 0.))\n",
    "mog = gal._getAffineProfile(tim, W/2., H/2.)\n",
    "#print(mog)\n",
    "mog.var[:,0,0]"
   ]
  },
  {
   "cell_type": "code",
   "execution_count": null,
   "metadata": {},
   "outputs": [],
   "source": [
    "list(zip(ExpGalaxy.profile.amp, np.sqrt(ExpGalaxy.profile.var[:,0,0] / (0.262/0.7)**2)))"
   ]
  },
  {
   "cell_type": "code",
   "execution_count": null,
   "metadata": {},
   "outputs": [],
   "source": [
    "#tr = Tractor([tim], [gal])\n",
    "mod = gal.getModelPatch(tim)\n",
    "tim.psf = gpsf\n",
    "gmod = gal.getModelPatch(tim)\n",
    "print(mod.patch.min(), mod.patch.max())\n",
    "print(gmod.patch.min(), gmod.patch.max())\n",
    "plt.subplot(1,2,1)\n",
    "plt.imshow(mod.patch, interpolation='nearest', origin='lower')\n",
    "plt.subplot(1,2,2)\n",
    "plt.imshow(gmod.patch, interpolation='nearest', origin='lower')"
   ]
  },
  {
   "cell_type": "code",
   "execution_count": null,
   "metadata": {
    "scrolled": true
   },
   "outputs": [],
   "source": [
    "psf_sigma = psf.fwhm / 2.35\n",
    "print('PSF sigma:', psf_sigma)\n",
    "\n",
    "gpsf = gmod.patch\n",
    "print('gal x psf sum', gpsf.sum())\n",
    "gpsf /= gpsf.sum()\n",
    "gpsfnorm = np.sqrt(np.sum(gpsf**2))\n",
    "print('gal x psf norm', gpsfnorm)\n",
    "\n",
    "gdetsum = 0.\n",
    "for amp,sigma in zip(mog.amp, np.sqrt(mog.var[:,0,0])):\n",
    "    sig = np.hypot(psf_sigma, sigma)\n",
    "    gdetsum = gdetsum + amp * gaussian_filter(im, sig)\n",
    "    print(gdetsum.shape)\n",
    "gdetsum /= gpsfnorm**2\n",
    "gdetsig = sig1 / gpsfnorm\n",
    "\n",
    "# PSF detection map\n",
    "psfnorm = 1./(2.*np.sqrt(np.pi)*psf_sigma)\n",
    "print('PSF norm', psfnorm)\n",
    "psfdet = gaussian_filter(im, psf_sigma) / psfnorm**2\n",
    "psfsig1 = sig1 / psfnorm"
   ]
  },
  {
   "cell_type": "code",
   "execution_count": null,
   "metadata": {},
   "outputs": [],
   "source": [
    "psfsn = psfdet / psfsig1\n",
    "galsn = gdetsum / gdetsig\n",
    "\n",
    "plt.subplot(1,2,1)\n",
    "plt.imshow(psfsn, interpolation='nearest', origin='lower', vmin=-3, vmax=10.)\n",
    "plt.subplot(1,2,2)\n",
    "plt.imshow(galsn, interpolation='nearest', origin='lower', vmin=-3, vmax=10.);"
   ]
  },
  {
   "cell_type": "code",
   "execution_count": null,
   "metadata": {},
   "outputs": [],
   "source": [
    "psf = fits_table()\n",
    "# x,y in detection image\n",
    "psf.dx,psf.dy = detect_sources(psfsn, 10.)\n",
    "gal = fits_table()\n",
    "gal.dx, gal.dy = detect_sources(galsn, 10.)\n",
    "\n",
    "psf.psf_sn = psfsn[psf.dy, psf.dx]\n",
    "psf.gal_sn = galsn[psf.dy, psf.dx]\n",
    "gal.psf_sn = psfsn[gal.dy, gal.dx]\n",
    "gal.gal_sn = galsn[gal.dy, gal.dx]\n",
    "print(len(psf), 'PSF detections')\n",
    "print(len(gal), 'Galaxy detections')"
   ]
  },
  {
   "cell_type": "code",
   "execution_count": null,
   "metadata": {},
   "outputs": [],
   "source": [
    "# for viewing, convert to x,y in RGB image.\n",
    "r,d = imwcs.pixelxy2radec(psf.dx+1, psf.dy+1)\n",
    "ok,x,y = wcs.radec2pixelxy(r, d)\n",
    "psf.x = (x-1).astype(int)\n",
    "psf.y = (y-1).astype(int)\n",
    "\n",
    "r,d = imwcs.pixelxy2radec(gal.dx+1, gal.dy+1)\n",
    "ok,x,y = wcs.radec2pixelxy(r, d)\n",
    "gal.x = (x-1).astype(int)\n",
    "gal.y = (y-1).astype(int)\n",
    "\n",
    "H,W,nil = img.shape\n",
    "galok = gal[(gal.x > sz) * (gal.y > sz) * (gal.x < (W-sz)) * (gal.y < (H-sz))]\n",
    "#galok.cut((g_detiv[galok.y, galok.x] > 0) * (r_detiv[galok.y, galok.x] > 0) * (i_detiv[galok.y, galok.x] > 0))\n",
    "\n",
    "#I = np.argsort(-galok.gal_sn / galok.psf_sn);\n",
    "I = np.argsort(-(galok.gal_sn - galok.psf_sn))\n",
    "show_sources(galok[I], img)"
   ]
  }
 ],
 "metadata": {
  "kernelspec": {
   "display_name": "Python 3",
   "language": "python",
   "name": "python3"
  },
  "language_info": {
   "codemirror_mode": {
    "name": "ipython",
    "version": 3
   },
   "file_extension": ".py",
   "mimetype": "text/x-python",
   "name": "python",
   "nbconvert_exporter": "python",
   "pygments_lexer": "ipython3",
   "version": "3.7.0"
  }
 },
 "nbformat": 4,
 "nbformat_minor": 2
}
